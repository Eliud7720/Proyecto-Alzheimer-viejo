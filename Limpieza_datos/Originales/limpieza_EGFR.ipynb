{
 "cells": [
  {
   "cell_type": "code",
   "execution_count": 1,
   "metadata": {},
   "outputs": [],
   "source": [
    "import pandas as pd\n",
    "import numpy as np\n",
    "import matplotlib.pyplot as plt"
   ]
  },
  {
   "cell_type": "code",
   "execution_count": 2,
   "metadata": {},
   "outputs": [
    {
     "name": "stderr",
     "output_type": "stream",
     "text": [
      "C:\\Users\\Eliud\\AppData\\Local\\Temp\\ipykernel_2020\\3634827143.py:1: DtypeWarning: Columns (27,28) have mixed types. Specify dtype option on import or set low_memory=False.\n",
      "  EGFR = pd.read_csv(\"EGFR.csv\", sep=\";\")\n"
     ]
    }
   ],
   "source": [
    "EGFR = pd.read_csv(\"EGFR.csv\", sep=\";\")"
   ]
  },
  {
   "cell_type": "code",
   "execution_count": 3,
   "metadata": {},
   "outputs": [
    {
     "data": {
      "text/html": [
       "<div>\n",
       "<style scoped>\n",
       "    .dataframe tbody tr th:only-of-type {\n",
       "        vertical-align: middle;\n",
       "    }\n",
       "\n",
       "    .dataframe tbody tr th {\n",
       "        vertical-align: top;\n",
       "    }\n",
       "\n",
       "    .dataframe thead th {\n",
       "        text-align: right;\n",
       "    }\n",
       "</style>\n",
       "<table border=\"1\" class=\"dataframe\">\n",
       "  <thead>\n",
       "    <tr style=\"text-align: right;\">\n",
       "      <th></th>\n",
       "      <th>Molecule ChEMBL ID</th>\n",
       "      <th>Molecule Name</th>\n",
       "      <th>Molecule Max Phase</th>\n",
       "      <th>Molecular Weight</th>\n",
       "      <th>#RO5 Violations</th>\n",
       "      <th>AlogP</th>\n",
       "      <th>Compound Key</th>\n",
       "      <th>Smiles</th>\n",
       "      <th>Standard Type</th>\n",
       "      <th>Standard Relation</th>\n",
       "      <th>...</th>\n",
       "      <th>Target Type</th>\n",
       "      <th>Document ChEMBL ID</th>\n",
       "      <th>Source ID</th>\n",
       "      <th>Source Description</th>\n",
       "      <th>Document Journal</th>\n",
       "      <th>Document Year</th>\n",
       "      <th>Cell ChEMBL ID</th>\n",
       "      <th>Properties</th>\n",
       "      <th>Action Type</th>\n",
       "      <th>Standard Text Value</th>\n",
       "    </tr>\n",
       "  </thead>\n",
       "  <tbody>\n",
       "    <tr>\n",
       "      <th>0</th>\n",
       "      <td>CHEMBL65848</td>\n",
       "      <td>NaN</td>\n",
       "      <td>NaN</td>\n",
       "      <td>470.53</td>\n",
       "      <td>0.0</td>\n",
       "      <td>3.31</td>\n",
       "      <td>28a</td>\n",
       "      <td>Cc1cc(C(=O)N2CCOCC2)[nH]c1/C=C1\\C(=O)Nc2ncnc(N...</td>\n",
       "      <td>IC50</td>\n",
       "      <td>'='</td>\n",
       "      <td>...</td>\n",
       "      <td>SINGLE PROTEIN</td>\n",
       "      <td>CHEMBL1134862</td>\n",
       "      <td>1</td>\n",
       "      <td>Scientific Literature</td>\n",
       "      <td>Bioorg Med Chem Lett</td>\n",
       "      <td>2002.0</td>\n",
       "      <td>CHEMBL3307716</td>\n",
       "      <td>NaN</td>\n",
       "      <td>NaN</td>\n",
       "      <td>NaN</td>\n",
       "    </tr>\n",
       "    <tr>\n",
       "      <th>1</th>\n",
       "      <td>CHEMBL431977</td>\n",
       "      <td>NaN</td>\n",
       "      <td>NaN</td>\n",
       "      <td>481.63</td>\n",
       "      <td>1.0</td>\n",
       "      <td>5.89</td>\n",
       "      <td>38</td>\n",
       "      <td>NC(=O)C1CCN(Cc2ccc(-c3cc4nccc(Nc5ccc6[nH]ccc6c...</td>\n",
       "      <td>IC50</td>\n",
       "      <td>'='</td>\n",
       "      <td>...</td>\n",
       "      <td>SINGLE PROTEIN</td>\n",
       "      <td>CHEMBL1146693</td>\n",
       "      <td>1</td>\n",
       "      <td>Scientific Literature</td>\n",
       "      <td>Bioorg Med Chem Lett</td>\n",
       "      <td>2004.0</td>\n",
       "      <td>NaN</td>\n",
       "      <td>NaN</td>\n",
       "      <td>NaN</td>\n",
       "      <td>NaN</td>\n",
       "    </tr>\n",
       "    <tr>\n",
       "      <th>2</th>\n",
       "      <td>CHEMBL420609</td>\n",
       "      <td>NaN</td>\n",
       "      <td>NaN</td>\n",
       "      <td>366.42</td>\n",
       "      <td>0.0</td>\n",
       "      <td>3.41</td>\n",
       "      <td>9e</td>\n",
       "      <td>COc1ccc2c(c1)NC(=O)/C2=C\\c1[nH]c2c(c1CCC(=O)O)...</td>\n",
       "      <td>IC50</td>\n",
       "      <td>'&gt;'</td>\n",
       "      <td>...</td>\n",
       "      <td>SINGLE PROTEIN</td>\n",
       "      <td>CHEMBL1133768</td>\n",
       "      <td>1</td>\n",
       "      <td>Scientific Literature</td>\n",
       "      <td>J Med Chem</td>\n",
       "      <td>2000.0</td>\n",
       "      <td>NaN</td>\n",
       "      <td>NaN</td>\n",
       "      <td>NaN</td>\n",
       "      <td>NaN</td>\n",
       "    </tr>\n",
       "    <tr>\n",
       "      <th>3</th>\n",
       "      <td>CHEMBL1727</td>\n",
       "      <td>CEPHALEXIN ANHYDROUS</td>\n",
       "      <td>4.0</td>\n",
       "      <td>347.40</td>\n",
       "      <td>0.0</td>\n",
       "      <td>0.44</td>\n",
       "      <td>CEPHALEXIN</td>\n",
       "      <td>CC1=C(C(=O)O)N2C(=O)[C@@H](NC(=O)[C@H](N)c3ccc...</td>\n",
       "      <td>IC50</td>\n",
       "      <td>NaN</td>\n",
       "      <td>...</td>\n",
       "      <td>SINGLE PROTEIN</td>\n",
       "      <td>CHEMBL1909046</td>\n",
       "      <td>15</td>\n",
       "      <td>DrugMatrix</td>\n",
       "      <td>NaN</td>\n",
       "      <td>NaN</td>\n",
       "      <td>NaN</td>\n",
       "      <td>NaN</td>\n",
       "      <td>NaN</td>\n",
       "      <td>NaN</td>\n",
       "    </tr>\n",
       "    <tr>\n",
       "      <th>4</th>\n",
       "      <td>CHEMBL78257</td>\n",
       "      <td>TYRPHOSTIN 51</td>\n",
       "      <td>NaN</td>\n",
       "      <td>268.23</td>\n",
       "      <td>0.0</td>\n",
       "      <td>0.97</td>\n",
       "      <td>51</td>\n",
       "      <td>N#CC(C#N)=C(N)/C(C#N)=C/c1cc(O)c(O)c(O)c1</td>\n",
       "      <td>IC50</td>\n",
       "      <td>'='</td>\n",
       "      <td>...</td>\n",
       "      <td>SINGLE PROTEIN</td>\n",
       "      <td>CHEMBL1124610</td>\n",
       "      <td>1</td>\n",
       "      <td>Scientific Literature</td>\n",
       "      <td>J Med Chem</td>\n",
       "      <td>1989.0</td>\n",
       "      <td>NaN</td>\n",
       "      <td>NaN</td>\n",
       "      <td>NaN</td>\n",
       "      <td>NaN</td>\n",
       "    </tr>\n",
       "  </tbody>\n",
       "</table>\n",
       "<p>5 rows × 47 columns</p>\n",
       "</div>"
      ],
      "text/plain": [
       "  Molecule ChEMBL ID         Molecule Name  Molecule Max Phase  \\\n",
       "0        CHEMBL65848                   NaN                 NaN   \n",
       "1       CHEMBL431977                   NaN                 NaN   \n",
       "2       CHEMBL420609                   NaN                 NaN   \n",
       "3         CHEMBL1727  CEPHALEXIN ANHYDROUS                 4.0   \n",
       "4        CHEMBL78257         TYRPHOSTIN 51                 NaN   \n",
       "\n",
       "   Molecular Weight  #RO5 Violations  AlogP Compound Key  \\\n",
       "0            470.53              0.0   3.31          28a   \n",
       "1            481.63              1.0   5.89           38   \n",
       "2            366.42              0.0   3.41           9e   \n",
       "3            347.40              0.0   0.44   CEPHALEXIN   \n",
       "4            268.23              0.0   0.97           51   \n",
       "\n",
       "                                              Smiles Standard Type  \\\n",
       "0  Cc1cc(C(=O)N2CCOCC2)[nH]c1/C=C1\\C(=O)Nc2ncnc(N...          IC50   \n",
       "1  NC(=O)C1CCN(Cc2ccc(-c3cc4nccc(Nc5ccc6[nH]ccc6c...          IC50   \n",
       "2  COc1ccc2c(c1)NC(=O)/C2=C\\c1[nH]c2c(c1CCC(=O)O)...          IC50   \n",
       "3  CC1=C(C(=O)O)N2C(=O)[C@@H](NC(=O)[C@H](N)c3ccc...          IC50   \n",
       "4          N#CC(C#N)=C(N)/C(C#N)=C/c1cc(O)c(O)c(O)c1          IC50   \n",
       "\n",
       "  Standard Relation  ...     Target Type Document ChEMBL ID  Source ID  \\\n",
       "0               '='  ...  SINGLE PROTEIN      CHEMBL1134862          1   \n",
       "1               '='  ...  SINGLE PROTEIN      CHEMBL1146693          1   \n",
       "2               '>'  ...  SINGLE PROTEIN      CHEMBL1133768          1   \n",
       "3               NaN  ...  SINGLE PROTEIN      CHEMBL1909046         15   \n",
       "4               '='  ...  SINGLE PROTEIN      CHEMBL1124610          1   \n",
       "\n",
       "      Source Description      Document Journal Document Year  Cell ChEMBL ID  \\\n",
       "0  Scientific Literature  Bioorg Med Chem Lett        2002.0   CHEMBL3307716   \n",
       "1  Scientific Literature  Bioorg Med Chem Lett        2004.0             NaN   \n",
       "2  Scientific Literature            J Med Chem        2000.0             NaN   \n",
       "3             DrugMatrix                   NaN           NaN             NaN   \n",
       "4  Scientific Literature            J Med Chem        1989.0             NaN   \n",
       "\n",
       "   Properties  Action Type  Standard Text Value  \n",
       "0         NaN          NaN                  NaN  \n",
       "1         NaN          NaN                  NaN  \n",
       "2         NaN          NaN                  NaN  \n",
       "3         NaN          NaN                  NaN  \n",
       "4         NaN          NaN                  NaN  \n",
       "\n",
       "[5 rows x 47 columns]"
      ]
     },
     "execution_count": 3,
     "metadata": {},
     "output_type": "execute_result"
    }
   ],
   "source": [
    "EGFR.head()"
   ]
  },
  {
   "cell_type": "code",
   "execution_count": 4,
   "metadata": {},
   "outputs": [
    {
     "data": {
      "text/plain": [
       "Index(['Molecule ChEMBL ID', 'Molecule Name', 'Molecule Max Phase',\n",
       "       'Molecular Weight', '#RO5 Violations', 'AlogP', 'Compound Key',\n",
       "       'Smiles', 'Standard Type', 'Standard Relation', 'Standard Value',\n",
       "       'Standard Units', 'pChEMBL Value', 'Data Validity Comment', 'Comment',\n",
       "       'Uo Units', 'Ligand Efficiency BEI', 'Ligand Efficiency LE',\n",
       "       'Ligand Efficiency LLE', 'Ligand Efficiency SEI', 'Potential Duplicate',\n",
       "       'Assay ChEMBL ID', 'Assay Description', 'Assay Type', 'BAO Format ID',\n",
       "       'BAO Label', 'Assay Organism', 'Assay Tissue ChEMBL ID',\n",
       "       'Assay Tissue Name', 'Assay Cell Type', 'Assay Subcellular Fraction',\n",
       "       'Assay Parameters', 'Assay Variant Accession', 'Assay Variant Mutation',\n",
       "       'Target ChEMBL ID', 'Target Name', 'Target Organism', 'Target Type',\n",
       "       'Document ChEMBL ID', 'Source ID', 'Source Description',\n",
       "       'Document Journal', 'Document Year', 'Cell ChEMBL ID', 'Properties',\n",
       "       'Action Type', 'Standard Text Value'],\n",
       "      dtype='object')"
      ]
     },
     "execution_count": 4,
     "metadata": {},
     "output_type": "execute_result"
    }
   ],
   "source": [
    "EGFR.columns"
   ]
  },
  {
   "cell_type": "code",
   "execution_count": 5,
   "metadata": {},
   "outputs": [],
   "source": [
    "n_EGFR = EGFR[[\"Molecule ChEMBL ID\", \"Molecule Name\", \"Smiles\", \"Standard Type\", \"Standard Relation\", \"Standard Value\", \"Standard Units\"]].copy()"
   ]
  },
  {
   "cell_type": "code",
   "execution_count": 7,
   "metadata": {},
   "outputs": [
    {
     "data": {
      "text/plain": [
       "(17286, 7)"
      ]
     },
     "execution_count": 7,
     "metadata": {},
     "output_type": "execute_result"
    }
   ],
   "source": [
    "n_EGFR.shape"
   ]
  },
  {
   "cell_type": "code",
   "execution_count": 8,
   "metadata": {},
   "outputs": [
    {
     "data": {
      "text/plain": [
       "Molecule ChEMBL ID        0\n",
       "Molecule Name         14910\n",
       "Smiles                   32\n",
       "Standard Type             0\n",
       "Standard Relation      1379\n",
       "Standard Value         1379\n",
       "Standard Units         1237\n",
       "dtype: int64"
      ]
     },
     "execution_count": 8,
     "metadata": {},
     "output_type": "execute_result"
    }
   ],
   "source": [
    "n_EGFR.isna().sum()"
   ]
  },
  {
   "cell_type": "code",
   "execution_count": 9,
   "metadata": {},
   "outputs": [],
   "source": [
    "l_EGFR = n_EGFR.dropna(subset=[\"Smiles\", \"Standard Value\"]).copy()"
   ]
  },
  {
   "cell_type": "code",
   "execution_count": 10,
   "metadata": {},
   "outputs": [
    {
     "data": {
      "text/plain": [
       "Molecule ChEMBL ID        0\n",
       "Molecule Name         14374\n",
       "Smiles                    0\n",
       "Standard Type             0\n",
       "Standard Relation         3\n",
       "Standard Value            0\n",
       "Standard Units            0\n",
       "dtype: int64"
      ]
     },
     "execution_count": 10,
     "metadata": {},
     "output_type": "execute_result"
    }
   ],
   "source": [
    "l_EGFR.isna().sum()"
   ]
  },
  {
   "cell_type": "code",
   "execution_count": 11,
   "metadata": {},
   "outputs": [
    {
     "data": {
      "text/plain": [
       "(17286, 7)"
      ]
     },
     "execution_count": 11,
     "metadata": {},
     "output_type": "execute_result"
    }
   ],
   "source": [
    "n_EGFR.shape"
   ]
  },
  {
   "cell_type": "code",
   "execution_count": 12,
   "metadata": {},
   "outputs": [
    {
     "data": {
      "text/plain": [
       "(15900, 7)"
      ]
     },
     "execution_count": 12,
     "metadata": {},
     "output_type": "execute_result"
    }
   ],
   "source": [
    "l_EGFR.shape"
   ]
  },
  {
   "cell_type": "code",
   "execution_count": 13,
   "metadata": {},
   "outputs": [
    {
     "data": {
      "text/html": [
       "<div>\n",
       "<style scoped>\n",
       "    .dataframe tbody tr th:only-of-type {\n",
       "        vertical-align: middle;\n",
       "    }\n",
       "\n",
       "    .dataframe tbody tr th {\n",
       "        vertical-align: top;\n",
       "    }\n",
       "\n",
       "    .dataframe thead th {\n",
       "        text-align: right;\n",
       "    }\n",
       "</style>\n",
       "<table border=\"1\" class=\"dataframe\">\n",
       "  <thead>\n",
       "    <tr style=\"text-align: right;\">\n",
       "      <th></th>\n",
       "      <th>Molecule ChEMBL ID</th>\n",
       "      <th>Molecule Name</th>\n",
       "      <th>Smiles</th>\n",
       "      <th>Standard Type</th>\n",
       "      <th>Standard Relation</th>\n",
       "      <th>Standard Value</th>\n",
       "      <th>Standard Units</th>\n",
       "    </tr>\n",
       "  </thead>\n",
       "  <tbody>\n",
       "    <tr>\n",
       "      <th>0</th>\n",
       "      <td>CHEMBL65848</td>\n",
       "      <td>NaN</td>\n",
       "      <td>Cc1cc(C(=O)N2CCOCC2)[nH]c1/C=C1\\C(=O)Nc2ncnc(N...</td>\n",
       "      <td>IC50</td>\n",
       "      <td>'='</td>\n",
       "      <td>4320.0</td>\n",
       "      <td>nM</td>\n",
       "    </tr>\n",
       "    <tr>\n",
       "      <th>1</th>\n",
       "      <td>CHEMBL431977</td>\n",
       "      <td>NaN</td>\n",
       "      <td>NC(=O)C1CCN(Cc2ccc(-c3cc4nccc(Nc5ccc6[nH]ccc6c...</td>\n",
       "      <td>IC50</td>\n",
       "      <td>'='</td>\n",
       "      <td>1.0</td>\n",
       "      <td>nM</td>\n",
       "    </tr>\n",
       "    <tr>\n",
       "      <th>2</th>\n",
       "      <td>CHEMBL420609</td>\n",
       "      <td>NaN</td>\n",
       "      <td>COc1ccc2c(c1)NC(=O)/C2=C\\c1[nH]c2c(c1CCC(=O)O)...</td>\n",
       "      <td>IC50</td>\n",
       "      <td>'&gt;'</td>\n",
       "      <td>100000.0</td>\n",
       "      <td>nM</td>\n",
       "    </tr>\n",
       "    <tr>\n",
       "      <th>4</th>\n",
       "      <td>CHEMBL78257</td>\n",
       "      <td>TYRPHOSTIN 51</td>\n",
       "      <td>N#CC(C#N)=C(N)/C(C#N)=C/c1cc(O)c(O)c(O)c1</td>\n",
       "      <td>IC50</td>\n",
       "      <td>'='</td>\n",
       "      <td>800.0</td>\n",
       "      <td>nM</td>\n",
       "    </tr>\n",
       "    <tr>\n",
       "      <th>8</th>\n",
       "      <td>CHEMBL69960</td>\n",
       "      <td>NaN</td>\n",
       "      <td>Cc1cc(C(=O)N2CCOCC2)[nH]c1/C=C1\\C(=O)Nc2ncnc(N...</td>\n",
       "      <td>IC50</td>\n",
       "      <td>'='</td>\n",
       "      <td>170.0</td>\n",
       "      <td>nM</td>\n",
       "    </tr>\n",
       "  </tbody>\n",
       "</table>\n",
       "</div>"
      ],
      "text/plain": [
       "  Molecule ChEMBL ID  Molecule Name  \\\n",
       "0        CHEMBL65848            NaN   \n",
       "1       CHEMBL431977            NaN   \n",
       "2       CHEMBL420609            NaN   \n",
       "4        CHEMBL78257  TYRPHOSTIN 51   \n",
       "8        CHEMBL69960            NaN   \n",
       "\n",
       "                                              Smiles Standard Type  \\\n",
       "0  Cc1cc(C(=O)N2CCOCC2)[nH]c1/C=C1\\C(=O)Nc2ncnc(N...          IC50   \n",
       "1  NC(=O)C1CCN(Cc2ccc(-c3cc4nccc(Nc5ccc6[nH]ccc6c...          IC50   \n",
       "2  COc1ccc2c(c1)NC(=O)/C2=C\\c1[nH]c2c(c1CCC(=O)O)...          IC50   \n",
       "4          N#CC(C#N)=C(N)/C(C#N)=C/c1cc(O)c(O)c(O)c1          IC50   \n",
       "8  Cc1cc(C(=O)N2CCOCC2)[nH]c1/C=C1\\C(=O)Nc2ncnc(N...          IC50   \n",
       "\n",
       "  Standard Relation  Standard Value Standard Units  \n",
       "0               '='          4320.0             nM  \n",
       "1               '='             1.0             nM  \n",
       "2               '>'        100000.0             nM  \n",
       "4               '='           800.0             nM  \n",
       "8               '='           170.0             nM  "
      ]
     },
     "execution_count": 13,
     "metadata": {},
     "output_type": "execute_result"
    }
   ],
   "source": [
    "l_EGFR.head()"
   ]
  },
  {
   "cell_type": "code",
   "execution_count": 12,
   "metadata": {},
   "outputs": [],
   "source": [
    "s_EGFR = l_EGFR[(l_EGFR[\"Standard Units\"] == \"nM\") | (l_EGFR[\"Standard Units\"] == \"/uM\")]"
   ]
  },
  {
   "cell_type": "code",
   "execution_count": 13,
   "metadata": {},
   "outputs": [
    {
     "data": {
      "text/plain": [
       "Standard Units\n",
       "nM     15808\n",
       "/uM        6\n",
       "Name: count, dtype: int64"
      ]
     },
     "execution_count": 13,
     "metadata": {},
     "output_type": "execute_result"
    }
   ],
   "source": [
    "s_EGFR[\"Standard Units\"].value_counts()"
   ]
  },
  {
   "cell_type": "code",
   "execution_count": 14,
   "metadata": {},
   "outputs": [
    {
     "data": {
      "text/plain": [
       "(15814, 7)"
      ]
     },
     "execution_count": 14,
     "metadata": {},
     "output_type": "execute_result"
    }
   ],
   "source": [
    "s_EGFR.shape"
   ]
  },
  {
   "cell_type": "code",
   "execution_count": 15,
   "metadata": {},
   "outputs": [
    {
     "data": {
      "text/html": [
       "<div>\n",
       "<style scoped>\n",
       "    .dataframe tbody tr th:only-of-type {\n",
       "        vertical-align: middle;\n",
       "    }\n",
       "\n",
       "    .dataframe tbody tr th {\n",
       "        vertical-align: top;\n",
       "    }\n",
       "\n",
       "    .dataframe thead th {\n",
       "        text-align: right;\n",
       "    }\n",
       "</style>\n",
       "<table border=\"1\" class=\"dataframe\">\n",
       "  <thead>\n",
       "    <tr style=\"text-align: right;\">\n",
       "      <th></th>\n",
       "      <th>Molecule ChEMBL ID</th>\n",
       "      <th>Molecule Name</th>\n",
       "      <th>Smiles</th>\n",
       "      <th>Standard Type</th>\n",
       "      <th>Standard Relation</th>\n",
       "      <th>Standard Value</th>\n",
       "      <th>Standard Units</th>\n",
       "    </tr>\n",
       "  </thead>\n",
       "  <tbody>\n",
       "    <tr>\n",
       "      <th>1711</th>\n",
       "      <td>CHEMBL484119</td>\n",
       "      <td>NaN</td>\n",
       "      <td>COC[C@@H](Cn1ccnc1[N+](=O)[O-])OC(=O)c1ccc(NC=...</td>\n",
       "      <td>IC50</td>\n",
       "      <td>'='</td>\n",
       "      <td>2.3</td>\n",
       "      <td>/uM</td>\n",
       "    </tr>\n",
       "    <tr>\n",
       "      <th>2603</th>\n",
       "      <td>CHEMBL484316</td>\n",
       "      <td>NaN</td>\n",
       "      <td>COC[C@H](Cn1ccnc1[N+](=O)[O-])OC(=O)c1ccc(NC=C...</td>\n",
       "      <td>IC50</td>\n",
       "      <td>'='</td>\n",
       "      <td>23.0</td>\n",
       "      <td>/uM</td>\n",
       "    </tr>\n",
       "    <tr>\n",
       "      <th>8219</th>\n",
       "      <td>CHEMBL490267</td>\n",
       "      <td>NaN</td>\n",
       "      <td>CC(C)(C)c1ccc(OC[C@H](Cn2ccnc2[N+](=O)[O-])OC(...</td>\n",
       "      <td>IC50</td>\n",
       "      <td>'='</td>\n",
       "      <td>18.4</td>\n",
       "      <td>/uM</td>\n",
       "    </tr>\n",
       "    <tr>\n",
       "      <th>8769</th>\n",
       "      <td>CHEMBL490266</td>\n",
       "      <td>NaN</td>\n",
       "      <td>CC(C)(C)c1ccc(OC[C@@H](Cn2ccnc2[N+](=O)[O-])OC...</td>\n",
       "      <td>IC50</td>\n",
       "      <td>'='</td>\n",
       "      <td>1.8</td>\n",
       "      <td>/uM</td>\n",
       "    </tr>\n",
       "    <tr>\n",
       "      <th>8999</th>\n",
       "      <td>CHEMBL484321</td>\n",
       "      <td>NaN</td>\n",
       "      <td>CC(C)(C)OC[C@H](Cn1ccnc1[N+](=O)[O-])OC(=O)c1c...</td>\n",
       "      <td>IC50</td>\n",
       "      <td>'='</td>\n",
       "      <td>213.0</td>\n",
       "      <td>/uM</td>\n",
       "    </tr>\n",
       "    <tr>\n",
       "      <th>9205</th>\n",
       "      <td>CHEMBL484121</td>\n",
       "      <td>NaN</td>\n",
       "      <td>CC(C)(C)OC[C@@H](Cn1ccnc1[N+](=O)[O-])OC(=O)c1...</td>\n",
       "      <td>IC50</td>\n",
       "      <td>'='</td>\n",
       "      <td>21.3</td>\n",
       "      <td>/uM</td>\n",
       "    </tr>\n",
       "  </tbody>\n",
       "</table>\n",
       "</div>"
      ],
      "text/plain": [
       "     Molecule ChEMBL ID Molecule Name  \\\n",
       "1711       CHEMBL484119           NaN   \n",
       "2603       CHEMBL484316           NaN   \n",
       "8219       CHEMBL490267           NaN   \n",
       "8769       CHEMBL490266           NaN   \n",
       "8999       CHEMBL484321           NaN   \n",
       "9205       CHEMBL484121           NaN   \n",
       "\n",
       "                                                 Smiles Standard Type  \\\n",
       "1711  COC[C@@H](Cn1ccnc1[N+](=O)[O-])OC(=O)c1ccc(NC=...          IC50   \n",
       "2603  COC[C@H](Cn1ccnc1[N+](=O)[O-])OC(=O)c1ccc(NC=C...          IC50   \n",
       "8219  CC(C)(C)c1ccc(OC[C@H](Cn2ccnc2[N+](=O)[O-])OC(...          IC50   \n",
       "8769  CC(C)(C)c1ccc(OC[C@@H](Cn2ccnc2[N+](=O)[O-])OC...          IC50   \n",
       "8999  CC(C)(C)OC[C@H](Cn1ccnc1[N+](=O)[O-])OC(=O)c1c...          IC50   \n",
       "9205  CC(C)(C)OC[C@@H](Cn1ccnc1[N+](=O)[O-])OC(=O)c1...          IC50   \n",
       "\n",
       "     Standard Relation  Standard Value Standard Units  \n",
       "1711               '='             2.3            /uM  \n",
       "2603               '='            23.0            /uM  \n",
       "8219               '='            18.4            /uM  \n",
       "8769               '='             1.8            /uM  \n",
       "8999               '='           213.0            /uM  \n",
       "9205               '='            21.3            /uM  "
      ]
     },
     "execution_count": 15,
     "metadata": {},
     "output_type": "execute_result"
    }
   ],
   "source": [
    "s_EGFR[s_EGFR[\"Standard Units\"] == \"/uM\"] "
   ]
  },
  {
   "cell_type": "code",
   "execution_count": 16,
   "metadata": {},
   "outputs": [
    {
     "name": "stderr",
     "output_type": "stream",
     "text": [
      "C:\\Users\\Eliud\\AppData\\Local\\Temp\\ipykernel_10476\\1552303158.py:1: SettingWithCopyWarning: \n",
      "A value is trying to be set on a copy of a slice from a DataFrame\n",
      "\n",
      "See the caveats in the documentation: https://pandas.pydata.org/pandas-docs/stable/user_guide/indexing.html#returning-a-view-versus-a-copy\n",
      "  s_EGFR[\"Standard Value\"][s_EGFR[\"Standard Units\"] == \"/uM\"] = s_EGFR[\"Standard Value\"][s_EGFR[\"Standard Units\"] == \"/uM\"]*1000\n"
     ]
    }
   ],
   "source": [
    "s_EGFR[\"Standard Value\"][s_EGFR[\"Standard Units\"] == \"/uM\"] = s_EGFR[\"Standard Value\"][s_EGFR[\"Standard Units\"] == \"/uM\"]*1000"
   ]
  },
  {
   "cell_type": "code",
   "execution_count": 17,
   "metadata": {},
   "outputs": [
    {
     "data": {
      "text/html": [
       "<div>\n",
       "<style scoped>\n",
       "    .dataframe tbody tr th:only-of-type {\n",
       "        vertical-align: middle;\n",
       "    }\n",
       "\n",
       "    .dataframe tbody tr th {\n",
       "        vertical-align: top;\n",
       "    }\n",
       "\n",
       "    .dataframe thead th {\n",
       "        text-align: right;\n",
       "    }\n",
       "</style>\n",
       "<table border=\"1\" class=\"dataframe\">\n",
       "  <thead>\n",
       "    <tr style=\"text-align: right;\">\n",
       "      <th></th>\n",
       "      <th>Molecule ChEMBL ID</th>\n",
       "      <th>Molecule Name</th>\n",
       "      <th>Smiles</th>\n",
       "      <th>Standard Type</th>\n",
       "      <th>Standard Relation</th>\n",
       "      <th>Standard Value</th>\n",
       "      <th>Standard Units</th>\n",
       "    </tr>\n",
       "  </thead>\n",
       "  <tbody>\n",
       "    <tr>\n",
       "      <th>1711</th>\n",
       "      <td>CHEMBL484119</td>\n",
       "      <td>NaN</td>\n",
       "      <td>COC[C@@H](Cn1ccnc1[N+](=O)[O-])OC(=O)c1ccc(NC=...</td>\n",
       "      <td>IC50</td>\n",
       "      <td>'='</td>\n",
       "      <td>2300.0</td>\n",
       "      <td>/uM</td>\n",
       "    </tr>\n",
       "    <tr>\n",
       "      <th>2603</th>\n",
       "      <td>CHEMBL484316</td>\n",
       "      <td>NaN</td>\n",
       "      <td>COC[C@H](Cn1ccnc1[N+](=O)[O-])OC(=O)c1ccc(NC=C...</td>\n",
       "      <td>IC50</td>\n",
       "      <td>'='</td>\n",
       "      <td>23000.0</td>\n",
       "      <td>/uM</td>\n",
       "    </tr>\n",
       "    <tr>\n",
       "      <th>8219</th>\n",
       "      <td>CHEMBL490267</td>\n",
       "      <td>NaN</td>\n",
       "      <td>CC(C)(C)c1ccc(OC[C@H](Cn2ccnc2[N+](=O)[O-])OC(...</td>\n",
       "      <td>IC50</td>\n",
       "      <td>'='</td>\n",
       "      <td>18400.0</td>\n",
       "      <td>/uM</td>\n",
       "    </tr>\n",
       "    <tr>\n",
       "      <th>8769</th>\n",
       "      <td>CHEMBL490266</td>\n",
       "      <td>NaN</td>\n",
       "      <td>CC(C)(C)c1ccc(OC[C@@H](Cn2ccnc2[N+](=O)[O-])OC...</td>\n",
       "      <td>IC50</td>\n",
       "      <td>'='</td>\n",
       "      <td>1800.0</td>\n",
       "      <td>/uM</td>\n",
       "    </tr>\n",
       "    <tr>\n",
       "      <th>8999</th>\n",
       "      <td>CHEMBL484321</td>\n",
       "      <td>NaN</td>\n",
       "      <td>CC(C)(C)OC[C@H](Cn1ccnc1[N+](=O)[O-])OC(=O)c1c...</td>\n",
       "      <td>IC50</td>\n",
       "      <td>'='</td>\n",
       "      <td>213000.0</td>\n",
       "      <td>/uM</td>\n",
       "    </tr>\n",
       "    <tr>\n",
       "      <th>9205</th>\n",
       "      <td>CHEMBL484121</td>\n",
       "      <td>NaN</td>\n",
       "      <td>CC(C)(C)OC[C@@H](Cn1ccnc1[N+](=O)[O-])OC(=O)c1...</td>\n",
       "      <td>IC50</td>\n",
       "      <td>'='</td>\n",
       "      <td>21300.0</td>\n",
       "      <td>/uM</td>\n",
       "    </tr>\n",
       "  </tbody>\n",
       "</table>\n",
       "</div>"
      ],
      "text/plain": [
       "     Molecule ChEMBL ID Molecule Name  \\\n",
       "1711       CHEMBL484119           NaN   \n",
       "2603       CHEMBL484316           NaN   \n",
       "8219       CHEMBL490267           NaN   \n",
       "8769       CHEMBL490266           NaN   \n",
       "8999       CHEMBL484321           NaN   \n",
       "9205       CHEMBL484121           NaN   \n",
       "\n",
       "                                                 Smiles Standard Type  \\\n",
       "1711  COC[C@@H](Cn1ccnc1[N+](=O)[O-])OC(=O)c1ccc(NC=...          IC50   \n",
       "2603  COC[C@H](Cn1ccnc1[N+](=O)[O-])OC(=O)c1ccc(NC=C...          IC50   \n",
       "8219  CC(C)(C)c1ccc(OC[C@H](Cn2ccnc2[N+](=O)[O-])OC(...          IC50   \n",
       "8769  CC(C)(C)c1ccc(OC[C@@H](Cn2ccnc2[N+](=O)[O-])OC...          IC50   \n",
       "8999  CC(C)(C)OC[C@H](Cn1ccnc1[N+](=O)[O-])OC(=O)c1c...          IC50   \n",
       "9205  CC(C)(C)OC[C@@H](Cn1ccnc1[N+](=O)[O-])OC(=O)c1...          IC50   \n",
       "\n",
       "     Standard Relation  Standard Value Standard Units  \n",
       "1711               '='          2300.0            /uM  \n",
       "2603               '='         23000.0            /uM  \n",
       "8219               '='         18400.0            /uM  \n",
       "8769               '='          1800.0            /uM  \n",
       "8999               '='        213000.0            /uM  \n",
       "9205               '='         21300.0            /uM  "
      ]
     },
     "execution_count": 17,
     "metadata": {},
     "output_type": "execute_result"
    }
   ],
   "source": [
    "s_EGFR[s_EGFR[\"Standard Units\"] == \"/uM\"] "
   ]
  },
  {
   "cell_type": "code",
   "execution_count": 18,
   "metadata": {},
   "outputs": [
    {
     "name": "stderr",
     "output_type": "stream",
     "text": [
      "C:\\Users\\Eliud\\AppData\\Local\\Temp\\ipykernel_10476\\739798325.py:1: SettingWithCopyWarning: \n",
      "A value is trying to be set on a copy of a slice from a DataFrame\n",
      "\n",
      "See the caveats in the documentation: https://pandas.pydata.org/pandas-docs/stable/user_guide/indexing.html#returning-a-view-versus-a-copy\n",
      "  s_EGFR[\"Standard Units\"][s_EGFR[\"Standard Units\"] == \"'nM'\"] = \"nM\"\n"
     ]
    }
   ],
   "source": [
    "s_EGFR[\"Standard Units\"][s_EGFR[\"Standard Units\"] == \"'nM'\"] = \"nM\""
   ]
  },
  {
   "cell_type": "code",
   "execution_count": 19,
   "metadata": {},
   "outputs": [
    {
     "data": {
      "text/plain": [
       "Standard Units\n",
       "nM     15808\n",
       "/uM        6\n",
       "Name: count, dtype: int64"
      ]
     },
     "execution_count": 19,
     "metadata": {},
     "output_type": "execute_result"
    }
   ],
   "source": [
    "s_EGFR[\"Standard Units\"].value_counts()"
   ]
  },
  {
   "cell_type": "code",
   "execution_count": 20,
   "metadata": {},
   "outputs": [
    {
     "data": {
      "text/html": [
       "<div>\n",
       "<style scoped>\n",
       "    .dataframe tbody tr th:only-of-type {\n",
       "        vertical-align: middle;\n",
       "    }\n",
       "\n",
       "    .dataframe tbody tr th {\n",
       "        vertical-align: top;\n",
       "    }\n",
       "\n",
       "    .dataframe thead th {\n",
       "        text-align: right;\n",
       "    }\n",
       "</style>\n",
       "<table border=\"1\" class=\"dataframe\">\n",
       "  <thead>\n",
       "    <tr style=\"text-align: right;\">\n",
       "      <th></th>\n",
       "      <th>Molecule ChEMBL ID</th>\n",
       "      <th>Molecule Name</th>\n",
       "      <th>Smiles</th>\n",
       "      <th>Standard Type</th>\n",
       "      <th>Standard Relation</th>\n",
       "      <th>Standard Value</th>\n",
       "      <th>Standard Units</th>\n",
       "    </tr>\n",
       "  </thead>\n",
       "  <tbody>\n",
       "    <tr>\n",
       "      <th>0</th>\n",
       "      <td>CHEMBL65848</td>\n",
       "      <td>NaN</td>\n",
       "      <td>Cc1cc(C(=O)N2CCOCC2)[nH]c1/C=C1\\C(=O)Nc2ncnc(N...</td>\n",
       "      <td>IC50</td>\n",
       "      <td>'='</td>\n",
       "      <td>4320.0</td>\n",
       "      <td>nM</td>\n",
       "    </tr>\n",
       "    <tr>\n",
       "      <th>1</th>\n",
       "      <td>CHEMBL431977</td>\n",
       "      <td>NaN</td>\n",
       "      <td>NC(=O)C1CCN(Cc2ccc(-c3cc4nccc(Nc5ccc6[nH]ccc6c...</td>\n",
       "      <td>IC50</td>\n",
       "      <td>'='</td>\n",
       "      <td>1.0</td>\n",
       "      <td>nM</td>\n",
       "    </tr>\n",
       "    <tr>\n",
       "      <th>2</th>\n",
       "      <td>CHEMBL420609</td>\n",
       "      <td>NaN</td>\n",
       "      <td>COc1ccc2c(c1)NC(=O)/C2=C\\c1[nH]c2c(c1CCC(=O)O)...</td>\n",
       "      <td>IC50</td>\n",
       "      <td>'&gt;'</td>\n",
       "      <td>100000.0</td>\n",
       "      <td>nM</td>\n",
       "    </tr>\n",
       "    <tr>\n",
       "      <th>4</th>\n",
       "      <td>CHEMBL78257</td>\n",
       "      <td>TYRPHOSTIN 51</td>\n",
       "      <td>N#CC(C#N)=C(N)/C(C#N)=C/c1cc(O)c(O)c(O)c1</td>\n",
       "      <td>IC50</td>\n",
       "      <td>'='</td>\n",
       "      <td>800.0</td>\n",
       "      <td>nM</td>\n",
       "    </tr>\n",
       "    <tr>\n",
       "      <th>8</th>\n",
       "      <td>CHEMBL69960</td>\n",
       "      <td>NaN</td>\n",
       "      <td>Cc1cc(C(=O)N2CCOCC2)[nH]c1/C=C1\\C(=O)Nc2ncnc(N...</td>\n",
       "      <td>IC50</td>\n",
       "      <td>'='</td>\n",
       "      <td>170.0</td>\n",
       "      <td>nM</td>\n",
       "    </tr>\n",
       "  </tbody>\n",
       "</table>\n",
       "</div>"
      ],
      "text/plain": [
       "  Molecule ChEMBL ID  Molecule Name  \\\n",
       "0        CHEMBL65848            NaN   \n",
       "1       CHEMBL431977            NaN   \n",
       "2       CHEMBL420609            NaN   \n",
       "4        CHEMBL78257  TYRPHOSTIN 51   \n",
       "8        CHEMBL69960            NaN   \n",
       "\n",
       "                                              Smiles Standard Type  \\\n",
       "0  Cc1cc(C(=O)N2CCOCC2)[nH]c1/C=C1\\C(=O)Nc2ncnc(N...          IC50   \n",
       "1  NC(=O)C1CCN(Cc2ccc(-c3cc4nccc(Nc5ccc6[nH]ccc6c...          IC50   \n",
       "2  COc1ccc2c(c1)NC(=O)/C2=C\\c1[nH]c2c(c1CCC(=O)O)...          IC50   \n",
       "4          N#CC(C#N)=C(N)/C(C#N)=C/c1cc(O)c(O)c(O)c1          IC50   \n",
       "8  Cc1cc(C(=O)N2CCOCC2)[nH]c1/C=C1\\C(=O)Nc2ncnc(N...          IC50   \n",
       "\n",
       "  Standard Relation  Standard Value Standard Units  \n",
       "0               '='          4320.0             nM  \n",
       "1               '='             1.0             nM  \n",
       "2               '>'        100000.0             nM  \n",
       "4               '='           800.0             nM  \n",
       "8               '='           170.0             nM  "
      ]
     },
     "execution_count": 20,
     "metadata": {},
     "output_type": "execute_result"
    }
   ],
   "source": [
    "s_EGFR.head()"
   ]
  },
  {
   "cell_type": "code",
   "execution_count": 21,
   "metadata": {},
   "outputs": [],
   "source": [
    "d_EGFR = s_EGFR.drop_duplicates(subset=\"Molecule ChEMBL ID\").copy()"
   ]
  },
  {
   "cell_type": "code",
   "execution_count": 22,
   "metadata": {},
   "outputs": [
    {
     "data": {
      "text/plain": [
       "(9720, 7)"
      ]
     },
     "execution_count": 22,
     "metadata": {},
     "output_type": "execute_result"
    }
   ],
   "source": [
    "d_EGFR.shape"
   ]
  },
  {
   "cell_type": "code",
   "execution_count": 30,
   "metadata": {},
   "outputs": [],
   "source": [
    "d_EGFR = d_EGFR[d_EGFR[\"Standard Relation\"] == \"'='\"].copy()"
   ]
  },
  {
   "cell_type": "code",
   "execution_count": 32,
   "metadata": {},
   "outputs": [
    {
     "data": {
      "text/plain": [
       "(7408, 7)"
      ]
     },
     "execution_count": 32,
     "metadata": {},
     "output_type": "execute_result"
    }
   ],
   "source": [
    "d_EGFR.shape"
   ]
  },
  {
   "cell_type": "code",
   "execution_count": 33,
   "metadata": {},
   "outputs": [
    {
     "data": {
      "text/html": [
       "<div>\n",
       "<style scoped>\n",
       "    .dataframe tbody tr th:only-of-type {\n",
       "        vertical-align: middle;\n",
       "    }\n",
       "\n",
       "    .dataframe tbody tr th {\n",
       "        vertical-align: top;\n",
       "    }\n",
       "\n",
       "    .dataframe thead th {\n",
       "        text-align: right;\n",
       "    }\n",
       "</style>\n",
       "<table border=\"1\" class=\"dataframe\">\n",
       "  <thead>\n",
       "    <tr style=\"text-align: right;\">\n",
       "      <th></th>\n",
       "      <th>Molecule ChEMBL ID</th>\n",
       "      <th>Molecule Name</th>\n",
       "      <th>Smiles</th>\n",
       "      <th>Standard Type</th>\n",
       "      <th>Standard Relation</th>\n",
       "      <th>Standard Value</th>\n",
       "      <th>Standard Units</th>\n",
       "    </tr>\n",
       "  </thead>\n",
       "  <tbody>\n",
       "    <tr>\n",
       "      <th>0</th>\n",
       "      <td>CHEMBL65848</td>\n",
       "      <td>NaN</td>\n",
       "      <td>Cc1cc(C(=O)N2CCOCC2)[nH]c1/C=C1\\C(=O)Nc2ncnc(N...</td>\n",
       "      <td>IC50</td>\n",
       "      <td>'='</td>\n",
       "      <td>4320.0</td>\n",
       "      <td>nM</td>\n",
       "    </tr>\n",
       "    <tr>\n",
       "      <th>1</th>\n",
       "      <td>CHEMBL431977</td>\n",
       "      <td>NaN</td>\n",
       "      <td>NC(=O)C1CCN(Cc2ccc(-c3cc4nccc(Nc5ccc6[nH]ccc6c...</td>\n",
       "      <td>IC50</td>\n",
       "      <td>'='</td>\n",
       "      <td>1.0</td>\n",
       "      <td>nM</td>\n",
       "    </tr>\n",
       "    <tr>\n",
       "      <th>4</th>\n",
       "      <td>CHEMBL78257</td>\n",
       "      <td>TYRPHOSTIN 51</td>\n",
       "      <td>N#CC(C#N)=C(N)/C(C#N)=C/c1cc(O)c(O)c(O)c1</td>\n",
       "      <td>IC50</td>\n",
       "      <td>'='</td>\n",
       "      <td>800.0</td>\n",
       "      <td>nM</td>\n",
       "    </tr>\n",
       "    <tr>\n",
       "      <th>8</th>\n",
       "      <td>CHEMBL69960</td>\n",
       "      <td>NaN</td>\n",
       "      <td>Cc1cc(C(=O)N2CCOCC2)[nH]c1/C=C1\\C(=O)Nc2ncnc(N...</td>\n",
       "      <td>IC50</td>\n",
       "      <td>'='</td>\n",
       "      <td>170.0</td>\n",
       "      <td>nM</td>\n",
       "    </tr>\n",
       "    <tr>\n",
       "      <th>10</th>\n",
       "      <td>CHEMBL29197</td>\n",
       "      <td>NaN</td>\n",
       "      <td>COc1cc2ncnc(Nc3cccc(Br)c3)c2cc1OC</td>\n",
       "      <td>IC50</td>\n",
       "      <td>'='</td>\n",
       "      <td>70.0</td>\n",
       "      <td>nM</td>\n",
       "    </tr>\n",
       "  </tbody>\n",
       "</table>\n",
       "</div>"
      ],
      "text/plain": [
       "   Molecule ChEMBL ID  Molecule Name  \\\n",
       "0         CHEMBL65848            NaN   \n",
       "1        CHEMBL431977            NaN   \n",
       "4         CHEMBL78257  TYRPHOSTIN 51   \n",
       "8         CHEMBL69960            NaN   \n",
       "10        CHEMBL29197            NaN   \n",
       "\n",
       "                                               Smiles Standard Type  \\\n",
       "0   Cc1cc(C(=O)N2CCOCC2)[nH]c1/C=C1\\C(=O)Nc2ncnc(N...          IC50   \n",
       "1   NC(=O)C1CCN(Cc2ccc(-c3cc4nccc(Nc5ccc6[nH]ccc6c...          IC50   \n",
       "4           N#CC(C#N)=C(N)/C(C#N)=C/c1cc(O)c(O)c(O)c1          IC50   \n",
       "8   Cc1cc(C(=O)N2CCOCC2)[nH]c1/C=C1\\C(=O)Nc2ncnc(N...          IC50   \n",
       "10                  COc1cc2ncnc(Nc3cccc(Br)c3)c2cc1OC          IC50   \n",
       "\n",
       "   Standard Relation  Standard Value Standard Units  \n",
       "0                '='          4320.0             nM  \n",
       "1                '='             1.0             nM  \n",
       "4                '='           800.0             nM  \n",
       "8                '='           170.0             nM  \n",
       "10               '='            70.0             nM  "
      ]
     },
     "execution_count": 33,
     "metadata": {},
     "output_type": "execute_result"
    }
   ],
   "source": [
    "d_EGFR.head()"
   ]
  },
  {
   "cell_type": "code",
   "execution_count": 34,
   "metadata": {},
   "outputs": [],
   "source": [
    "d_EGFR.to_csv(\"EGFR_limpio.csv\", index=False)"
   ]
  },
  {
   "cell_type": "code",
   "execution_count": null,
   "metadata": {},
   "outputs": [],
   "source": []
  }
 ],
 "metadata": {
  "kernelspec": {
   "display_name": "Python 3",
   "language": "python",
   "name": "python3"
  },
  "language_info": {
   "codemirror_mode": {
    "name": "ipython",
    "version": 3
   },
   "file_extension": ".py",
   "mimetype": "text/x-python",
   "name": "python",
   "nbconvert_exporter": "python",
   "pygments_lexer": "ipython3",
   "version": "3.11.0"
  }
 },
 "nbformat": 4,
 "nbformat_minor": 2
}
