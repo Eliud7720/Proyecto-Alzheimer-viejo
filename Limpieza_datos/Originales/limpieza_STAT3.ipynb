{
 "cells": [
  {
   "cell_type": "code",
   "execution_count": 1,
   "metadata": {},
   "outputs": [],
   "source": [
    "import pandas as pd"
   ]
  },
  {
   "cell_type": "code",
   "execution_count": 2,
   "metadata": {},
   "outputs": [],
   "source": [
    "STAT3 = pd.read_csv(\"STAT3.csv\", sep=\";\")"
   ]
  },
  {
   "cell_type": "code",
   "execution_count": 3,
   "metadata": {},
   "outputs": [
    {
     "data": {
      "text/plain": [
       "(1224, 47)"
      ]
     },
     "execution_count": 3,
     "metadata": {},
     "output_type": "execute_result"
    }
   ],
   "source": [
    "STAT3.shape"
   ]
  },
  {
   "cell_type": "code",
   "execution_count": 4,
   "metadata": {},
   "outputs": [
    {
     "data": {
      "text/html": [
       "<div>\n",
       "<style scoped>\n",
       "    .dataframe tbody tr th:only-of-type {\n",
       "        vertical-align: middle;\n",
       "    }\n",
       "\n",
       "    .dataframe tbody tr th {\n",
       "        vertical-align: top;\n",
       "    }\n",
       "\n",
       "    .dataframe thead th {\n",
       "        text-align: right;\n",
       "    }\n",
       "</style>\n",
       "<table border=\"1\" class=\"dataframe\">\n",
       "  <thead>\n",
       "    <tr style=\"text-align: right;\">\n",
       "      <th></th>\n",
       "      <th>Molecule ChEMBL ID</th>\n",
       "      <th>Molecule Name</th>\n",
       "      <th>Molecule Max Phase</th>\n",
       "      <th>Molecular Weight</th>\n",
       "      <th>#RO5 Violations</th>\n",
       "      <th>AlogP</th>\n",
       "      <th>Compound Key</th>\n",
       "      <th>Smiles</th>\n",
       "      <th>Standard Type</th>\n",
       "      <th>Standard Relation</th>\n",
       "      <th>...</th>\n",
       "      <th>Target Type</th>\n",
       "      <th>Document ChEMBL ID</th>\n",
       "      <th>Source ID</th>\n",
       "      <th>Source Description</th>\n",
       "      <th>Document Journal</th>\n",
       "      <th>Document Year</th>\n",
       "      <th>Cell ChEMBL ID</th>\n",
       "      <th>Properties</th>\n",
       "      <th>Action Type</th>\n",
       "      <th>Standard Text Value</th>\n",
       "    </tr>\n",
       "  </thead>\n",
       "  <tbody>\n",
       "    <tr>\n",
       "      <th>0</th>\n",
       "      <td>CHEMBL503946</td>\n",
       "      <td>NaN</td>\n",
       "      <td>NaN</td>\n",
       "      <td>618.61</td>\n",
       "      <td>1.0</td>\n",
       "      <td>0.30</td>\n",
       "      <td>34, pCinn-Haic-Met(O)-NH2</td>\n",
       "      <td>C[S+]([O-])CC[C@H](NC(=O)[C@@H]1Cc2cccc3c2N1C(...</td>\n",
       "      <td>IC50</td>\n",
       "      <td>'='</td>\n",
       "      <td>...</td>\n",
       "      <td>SINGLE PROTEIN</td>\n",
       "      <td>CHEMBL1153822</td>\n",
       "      <td>1</td>\n",
       "      <td>Scientific Literature</td>\n",
       "      <td>J Med Chem</td>\n",
       "      <td>2009.0</td>\n",
       "      <td>NaN</td>\n",
       "      <td>NaN</td>\n",
       "      <td>NaN</td>\n",
       "      <td>NaN</td>\n",
       "    </tr>\n",
       "    <tr>\n",
       "      <th>1</th>\n",
       "      <td>CHEMBL515762</td>\n",
       "      <td>NaN</td>\n",
       "      <td>NaN</td>\n",
       "      <td>568.52</td>\n",
       "      <td>1.0</td>\n",
       "      <td>0.89</td>\n",
       "      <td>25, pCinn-Haic-pyrrolidine acetamide</td>\n",
       "      <td>NC(=O)C1CCN(C(=O)[C@@H]2Cc3cccc4c3N2C(=O)[C@@H...</td>\n",
       "      <td>IC50</td>\n",
       "      <td>'='</td>\n",
       "      <td>...</td>\n",
       "      <td>SINGLE PROTEIN</td>\n",
       "      <td>CHEMBL1153822</td>\n",
       "      <td>1</td>\n",
       "      <td>Scientific Literature</td>\n",
       "      <td>J Med Chem</td>\n",
       "      <td>2009.0</td>\n",
       "      <td>NaN</td>\n",
       "      <td>NaN</td>\n",
       "      <td>NaN</td>\n",
       "      <td>NaN</td>\n",
       "    </tr>\n",
       "    <tr>\n",
       "      <th>2</th>\n",
       "      <td>CHEMBL196561</td>\n",
       "      <td>NaN</td>\n",
       "      <td>NaN</td>\n",
       "      <td>597.61</td>\n",
       "      <td>2.0</td>\n",
       "      <td>0.11</td>\n",
       "      <td>31</td>\n",
       "      <td>CC(=O)N[C@@H](Cc1ccc(OP(=O)(O)O)cc1)C(=O)N[C@@...</td>\n",
       "      <td>IC50</td>\n",
       "      <td>'='</td>\n",
       "      <td>...</td>\n",
       "      <td>SINGLE PROTEIN</td>\n",
       "      <td>CHEMBL1141127</td>\n",
       "      <td>1</td>\n",
       "      <td>Scientific Literature</td>\n",
       "      <td>J Med Chem</td>\n",
       "      <td>2005.0</td>\n",
       "      <td>NaN</td>\n",
       "      <td>NaN</td>\n",
       "      <td>NaN</td>\n",
       "      <td>NaN</td>\n",
       "    </tr>\n",
       "    <tr>\n",
       "      <th>3</th>\n",
       "      <td>CHEMBL4164056</td>\n",
       "      <td>NaN</td>\n",
       "      <td>NaN</td>\n",
       "      <td>792.78</td>\n",
       "      <td>3.0</td>\n",
       "      <td>-2.12</td>\n",
       "      <td>4</td>\n",
       "      <td>COC(=O)C1=CO[C@@H](O[C@@H]2O[C@H](C)[C@@H](O)[...</td>\n",
       "      <td>IC50</td>\n",
       "      <td>'='</td>\n",
       "      <td>...</td>\n",
       "      <td>SINGLE PROTEIN</td>\n",
       "      <td>CHEMBL4130553</td>\n",
       "      <td>1</td>\n",
       "      <td>Scientific Literature</td>\n",
       "      <td>J Nat Prod</td>\n",
       "      <td>2017.0</td>\n",
       "      <td>NaN</td>\n",
       "      <td>NaN</td>\n",
       "      <td>NaN</td>\n",
       "      <td>NaN</td>\n",
       "    </tr>\n",
       "    <tr>\n",
       "      <th>4</th>\n",
       "      <td>CHEMBL1358881</td>\n",
       "      <td>NaN</td>\n",
       "      <td>NaN</td>\n",
       "      <td>311.32</td>\n",
       "      <td>0.0</td>\n",
       "      <td>2.23</td>\n",
       "      <td>SID57288051</td>\n",
       "      <td>CN(C)C(=O)c1nn(-c2ccc(F)cc2)c(=O)c2ccccc12</td>\n",
       "      <td>IC50</td>\n",
       "      <td>'&gt;'</td>\n",
       "      <td>...</td>\n",
       "      <td>SINGLE PROTEIN</td>\n",
       "      <td>CHEMBL1201862</td>\n",
       "      <td>7</td>\n",
       "      <td>PubChem BioAssays</td>\n",
       "      <td>NaN</td>\n",
       "      <td>NaN</td>\n",
       "      <td>NaN</td>\n",
       "      <td>NaN</td>\n",
       "      <td>NaN</td>\n",
       "      <td>NaN</td>\n",
       "    </tr>\n",
       "  </tbody>\n",
       "</table>\n",
       "<p>5 rows × 47 columns</p>\n",
       "</div>"
      ],
      "text/plain": [
       "  Molecule ChEMBL ID Molecule Name  Molecule Max Phase  Molecular Weight  \\\n",
       "0       CHEMBL503946           NaN                 NaN            618.61   \n",
       "1       CHEMBL515762           NaN                 NaN            568.52   \n",
       "2       CHEMBL196561           NaN                 NaN            597.61   \n",
       "3      CHEMBL4164056           NaN                 NaN            792.78   \n",
       "4      CHEMBL1358881           NaN                 NaN            311.32   \n",
       "\n",
       "   #RO5 Violations  AlogP                          Compound Key  \\\n",
       "0              1.0   0.30             34, pCinn-Haic-Met(O)-NH2   \n",
       "1              1.0   0.89  25, pCinn-Haic-pyrrolidine acetamide   \n",
       "2              2.0   0.11                                    31   \n",
       "3              3.0  -2.12                                     4   \n",
       "4              0.0   2.23                           SID57288051   \n",
       "\n",
       "                                              Smiles Standard Type  \\\n",
       "0  C[S+]([O-])CC[C@H](NC(=O)[C@@H]1Cc2cccc3c2N1C(...          IC50   \n",
       "1  NC(=O)C1CCN(C(=O)[C@@H]2Cc3cccc4c3N2C(=O)[C@@H...          IC50   \n",
       "2  CC(=O)N[C@@H](Cc1ccc(OP(=O)(O)O)cc1)C(=O)N[C@@...          IC50   \n",
       "3  COC(=O)C1=CO[C@@H](O[C@@H]2O[C@H](C)[C@@H](O)[...          IC50   \n",
       "4         CN(C)C(=O)c1nn(-c2ccc(F)cc2)c(=O)c2ccccc12          IC50   \n",
       "\n",
       "  Standard Relation  ...     Target Type Document ChEMBL ID  Source ID  \\\n",
       "0               '='  ...  SINGLE PROTEIN      CHEMBL1153822          1   \n",
       "1               '='  ...  SINGLE PROTEIN      CHEMBL1153822          1   \n",
       "2               '='  ...  SINGLE PROTEIN      CHEMBL1141127          1   \n",
       "3               '='  ...  SINGLE PROTEIN      CHEMBL4130553          1   \n",
       "4               '>'  ...  SINGLE PROTEIN      CHEMBL1201862          7   \n",
       "\n",
       "      Source Description Document Journal Document Year  Cell ChEMBL ID  \\\n",
       "0  Scientific Literature       J Med Chem        2009.0             NaN   \n",
       "1  Scientific Literature       J Med Chem        2009.0             NaN   \n",
       "2  Scientific Literature       J Med Chem        2005.0             NaN   \n",
       "3  Scientific Literature       J Nat Prod        2017.0             NaN   \n",
       "4      PubChem BioAssays              NaN           NaN             NaN   \n",
       "\n",
       "   Properties  Action Type  Standard Text Value  \n",
       "0         NaN          NaN                  NaN  \n",
       "1         NaN          NaN                  NaN  \n",
       "2         NaN          NaN                  NaN  \n",
       "3         NaN          NaN                  NaN  \n",
       "4         NaN          NaN                  NaN  \n",
       "\n",
       "[5 rows x 47 columns]"
      ]
     },
     "execution_count": 4,
     "metadata": {},
     "output_type": "execute_result"
    }
   ],
   "source": [
    "STAT3.head()"
   ]
  },
  {
   "cell_type": "code",
   "execution_count": 5,
   "metadata": {},
   "outputs": [],
   "source": [
    "n_STAT3 = STAT3[[\"Molecule ChEMBL ID\", \"Molecule Name\", \"Smiles\", \"Standard Type\", \"Standard Relation\", \"Standard Value\", \"Standard Units\"]].copy()"
   ]
  },
  {
   "cell_type": "code",
   "execution_count": 6,
   "metadata": {},
   "outputs": [
    {
     "data": {
      "text/plain": [
       "Molecule ChEMBL ID       0\n",
       "Molecule Name         1182\n",
       "Smiles                   0\n",
       "Standard Type            0\n",
       "Standard Relation        2\n",
       "Standard Value           2\n",
       "Standard Units           2\n",
       "dtype: int64"
      ]
     },
     "execution_count": 6,
     "metadata": {},
     "output_type": "execute_result"
    }
   ],
   "source": [
    "n_STAT3.isna().sum()"
   ]
  },
  {
   "cell_type": "code",
   "execution_count": 7,
   "metadata": {},
   "outputs": [],
   "source": [
    "l_STAT3 = n_STAT3.dropna(subset=[\"Smiles\", \"Standard Value\"]).copy()"
   ]
  },
  {
   "cell_type": "code",
   "execution_count": 8,
   "metadata": {},
   "outputs": [
    {
     "data": {
      "text/plain": [
       "(1222, 7)"
      ]
     },
     "execution_count": 8,
     "metadata": {},
     "output_type": "execute_result"
    }
   ],
   "source": [
    "l_STAT3.shape"
   ]
  },
  {
   "cell_type": "code",
   "execution_count": 9,
   "metadata": {},
   "outputs": [
    {
     "data": {
      "text/plain": [
       "Standard Units\n",
       "nM    1222\n",
       "Name: count, dtype: int64"
      ]
     },
     "execution_count": 9,
     "metadata": {},
     "output_type": "execute_result"
    }
   ],
   "source": [
    "l_STAT3[\"Standard Units\"].value_counts()"
   ]
  },
  {
   "cell_type": "code",
   "execution_count": 10,
   "metadata": {},
   "outputs": [],
   "source": [
    "d_STAT3 = l_STAT3.drop_duplicates(subset=\"Molecule ChEMBL ID\").copy()"
   ]
  },
  {
   "cell_type": "code",
   "execution_count": 11,
   "metadata": {},
   "outputs": [
    {
     "data": {
      "text/plain": [
       "(1118, 7)"
      ]
     },
     "execution_count": 11,
     "metadata": {},
     "output_type": "execute_result"
    }
   ],
   "source": [
    "d_STAT3.shape"
   ]
  },
  {
   "cell_type": "code",
   "execution_count": 15,
   "metadata": {},
   "outputs": [],
   "source": [
    "d_STAT3 = d_STAT3[d_STAT3[\"Standard Relation\"] == \"'='\"].copy()"
   ]
  },
  {
   "cell_type": "code",
   "execution_count": 16,
   "metadata": {},
   "outputs": [
    {
     "data": {
      "text/plain": [
       "(830, 7)"
      ]
     },
     "execution_count": 16,
     "metadata": {},
     "output_type": "execute_result"
    }
   ],
   "source": [
    "d_STAT3.shape"
   ]
  },
  {
   "cell_type": "code",
   "execution_count": 17,
   "metadata": {},
   "outputs": [],
   "source": [
    "d_STAT3.to_csv(\"STAT3_limpio.csv\", index=False)"
   ]
  },
  {
   "cell_type": "code",
   "execution_count": null,
   "metadata": {},
   "outputs": [],
   "source": []
  }
 ],
 "metadata": {
  "kernelspec": {
   "display_name": "Python 3",
   "language": "python",
   "name": "python3"
  },
  "language_info": {
   "codemirror_mode": {
    "name": "ipython",
    "version": 3
   },
   "file_extension": ".py",
   "mimetype": "text/x-python",
   "name": "python",
   "nbconvert_exporter": "python",
   "pygments_lexer": "ipython3",
   "version": "3.11.0"
  }
 },
 "nbformat": 4,
 "nbformat_minor": 2
}
