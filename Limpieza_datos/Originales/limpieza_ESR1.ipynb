{
 "cells": [
  {
   "cell_type": "code",
   "execution_count": 1,
   "metadata": {},
   "outputs": [],
   "source": [
    "import pandas as pd\n",
    "import numpy as np\n",
    "import matplotlib.pyplot as plt"
   ]
  },
  {
   "cell_type": "code",
   "execution_count": 2,
   "metadata": {},
   "outputs": [],
   "source": [
    "ESR1 = pd.read_csv(\"ESR1.csv\", sep=\";\")"
   ]
  },
  {
   "cell_type": "code",
   "execution_count": 3,
   "metadata": {},
   "outputs": [
    {
     "data": {
      "text/html": [
       "<div>\n",
       "<style scoped>\n",
       "    .dataframe tbody tr th:only-of-type {\n",
       "        vertical-align: middle;\n",
       "    }\n",
       "\n",
       "    .dataframe tbody tr th {\n",
       "        vertical-align: top;\n",
       "    }\n",
       "\n",
       "    .dataframe thead th {\n",
       "        text-align: right;\n",
       "    }\n",
       "</style>\n",
       "<table border=\"1\" class=\"dataframe\">\n",
       "  <thead>\n",
       "    <tr style=\"text-align: right;\">\n",
       "      <th></th>\n",
       "      <th>Molecule ChEMBL ID</th>\n",
       "      <th>Molecule Name</th>\n",
       "      <th>Molecule Max Phase</th>\n",
       "      <th>Molecular Weight</th>\n",
       "      <th>#RO5 Violations</th>\n",
       "      <th>AlogP</th>\n",
       "      <th>Compound Key</th>\n",
       "      <th>Smiles</th>\n",
       "      <th>Standard Type</th>\n",
       "      <th>Standard Relation</th>\n",
       "      <th>...</th>\n",
       "      <th>Target Type</th>\n",
       "      <th>Document ChEMBL ID</th>\n",
       "      <th>Source ID</th>\n",
       "      <th>Source Description</th>\n",
       "      <th>Document Journal</th>\n",
       "      <th>Document Year</th>\n",
       "      <th>Cell ChEMBL ID</th>\n",
       "      <th>Properties</th>\n",
       "      <th>Action Type</th>\n",
       "      <th>Standard Text Value</th>\n",
       "    </tr>\n",
       "  </thead>\n",
       "  <tbody>\n",
       "    <tr>\n",
       "      <th>0</th>\n",
       "      <td>CHEMBL1479</td>\n",
       "      <td>DANAZOL</td>\n",
       "      <td>4.0</td>\n",
       "      <td>337.46</td>\n",
       "      <td>0.0</td>\n",
       "      <td>4.22</td>\n",
       "      <td>DANAZOL</td>\n",
       "      <td>C#C[C@]1(O)CC[C@H]2[C@@H]3CCC4=Cc5oncc5C[C@]4(...</td>\n",
       "      <td>IC50</td>\n",
       "      <td>'='</td>\n",
       "      <td>...</td>\n",
       "      <td>SINGLE PROTEIN</td>\n",
       "      <td>CHEMBL1909046</td>\n",
       "      <td>15</td>\n",
       "      <td>DrugMatrix</td>\n",
       "      <td>NaN</td>\n",
       "      <td>NaN</td>\n",
       "      <td>CHEMBL3308860</td>\n",
       "      <td>NaN</td>\n",
       "      <td>NaN</td>\n",
       "      <td>NaN</td>\n",
       "    </tr>\n",
       "    <tr>\n",
       "      <th>1</th>\n",
       "      <td>CHEMBL513</td>\n",
       "      <td>CARMUSTINE</td>\n",
       "      <td>4.0</td>\n",
       "      <td>214.05</td>\n",
       "      <td>0.0</td>\n",
       "      <td>1.16</td>\n",
       "      <td>59, BCNU</td>\n",
       "      <td>O=NN(CCCl)C(=O)NCCCl</td>\n",
       "      <td>IC50</td>\n",
       "      <td>NaN</td>\n",
       "      <td>...</td>\n",
       "      <td>SINGLE PROTEIN</td>\n",
       "      <td>CHEMBL1909046</td>\n",
       "      <td>15</td>\n",
       "      <td>DrugMatrix</td>\n",
       "      <td>NaN</td>\n",
       "      <td>NaN</td>\n",
       "      <td>CHEMBL3308860</td>\n",
       "      <td>NaN</td>\n",
       "      <td>NaN</td>\n",
       "      <td>NaN</td>\n",
       "    </tr>\n",
       "    <tr>\n",
       "      <th>2</th>\n",
       "      <td>CHEMBL490</td>\n",
       "      <td>PAROXETINE</td>\n",
       "      <td>4.0</td>\n",
       "      <td>329.37</td>\n",
       "      <td>0.0</td>\n",
       "      <td>3.33</td>\n",
       "      <td>SID170465075</td>\n",
       "      <td>Fc1ccc([C@@H]2CCNC[C@H]2COc2ccc3c(c2)OCO3)cc1</td>\n",
       "      <td>IC50</td>\n",
       "      <td>NaN</td>\n",
       "      <td>...</td>\n",
       "      <td>SINGLE PROTEIN</td>\n",
       "      <td>CHEMBL1909046</td>\n",
       "      <td>15</td>\n",
       "      <td>DrugMatrix</td>\n",
       "      <td>NaN</td>\n",
       "      <td>NaN</td>\n",
       "      <td>CHEMBL3308860</td>\n",
       "      <td>NaN</td>\n",
       "      <td>NaN</td>\n",
       "      <td>NaN</td>\n",
       "    </tr>\n",
       "    <tr>\n",
       "      <th>3</th>\n",
       "      <td>CHEMBL85650</td>\n",
       "      <td>NaN</td>\n",
       "      <td>NaN</td>\n",
       "      <td>427.61</td>\n",
       "      <td>1.0</td>\n",
       "      <td>5.90</td>\n",
       "      <td>j</td>\n",
       "      <td>CC(C)C[C@H]1Sc2cc(O)ccc2O[C@H]1c1ccc(OCCN2CCCC...</td>\n",
       "      <td>IC50</td>\n",
       "      <td>'='</td>\n",
       "      <td>...</td>\n",
       "      <td>SINGLE PROTEIN</td>\n",
       "      <td>CHEMBL1146734</td>\n",
       "      <td>1</td>\n",
       "      <td>Scientific Literature</td>\n",
       "      <td>Bioorg Med Chem Lett</td>\n",
       "      <td>2004.0</td>\n",
       "      <td>NaN</td>\n",
       "      <td>NaN</td>\n",
       "      <td>NaN</td>\n",
       "      <td>NaN</td>\n",
       "    </tr>\n",
       "    <tr>\n",
       "      <th>4</th>\n",
       "      <td>CHEMBL460499</td>\n",
       "      <td>CARMOFUR</td>\n",
       "      <td>2.0</td>\n",
       "      <td>257.26</td>\n",
       "      <td>0.0</td>\n",
       "      <td>0.81</td>\n",
       "      <td>CARMOFUR</td>\n",
       "      <td>CCCCCCNC(=O)n1cc(F)c(=O)[nH]c1=O</td>\n",
       "      <td>IC50</td>\n",
       "      <td>NaN</td>\n",
       "      <td>...</td>\n",
       "      <td>SINGLE PROTEIN</td>\n",
       "      <td>CHEMBL1909046</td>\n",
       "      <td>15</td>\n",
       "      <td>DrugMatrix</td>\n",
       "      <td>NaN</td>\n",
       "      <td>NaN</td>\n",
       "      <td>CHEMBL3308860</td>\n",
       "      <td>NaN</td>\n",
       "      <td>NaN</td>\n",
       "      <td>NaN</td>\n",
       "    </tr>\n",
       "  </tbody>\n",
       "</table>\n",
       "<p>5 rows × 47 columns</p>\n",
       "</div>"
      ],
      "text/plain": [
       "  Molecule ChEMBL ID Molecule Name  Molecule Max Phase  Molecular Weight  \\\n",
       "0         CHEMBL1479       DANAZOL                 4.0            337.46   \n",
       "1          CHEMBL513    CARMUSTINE                 4.0            214.05   \n",
       "2          CHEMBL490    PAROXETINE                 4.0            329.37   \n",
       "3        CHEMBL85650           NaN                 NaN            427.61   \n",
       "4       CHEMBL460499      CARMOFUR                 2.0            257.26   \n",
       "\n",
       "   #RO5 Violations  AlogP  Compound Key  \\\n",
       "0              0.0   4.22       DANAZOL   \n",
       "1              0.0   1.16      59, BCNU   \n",
       "2              0.0   3.33  SID170465075   \n",
       "3              1.0   5.90             j   \n",
       "4              0.0   0.81      CARMOFUR   \n",
       "\n",
       "                                              Smiles Standard Type  \\\n",
       "0  C#C[C@]1(O)CC[C@H]2[C@@H]3CCC4=Cc5oncc5C[C@]4(...          IC50   \n",
       "1                               O=NN(CCCl)C(=O)NCCCl          IC50   \n",
       "2      Fc1ccc([C@@H]2CCNC[C@H]2COc2ccc3c(c2)OCO3)cc1          IC50   \n",
       "3  CC(C)C[C@H]1Sc2cc(O)ccc2O[C@H]1c1ccc(OCCN2CCCC...          IC50   \n",
       "4                   CCCCCCNC(=O)n1cc(F)c(=O)[nH]c1=O          IC50   \n",
       "\n",
       "  Standard Relation  ...     Target Type Document ChEMBL ID  Source ID  \\\n",
       "0               '='  ...  SINGLE PROTEIN      CHEMBL1909046         15   \n",
       "1               NaN  ...  SINGLE PROTEIN      CHEMBL1909046         15   \n",
       "2               NaN  ...  SINGLE PROTEIN      CHEMBL1909046         15   \n",
       "3               '='  ...  SINGLE PROTEIN      CHEMBL1146734          1   \n",
       "4               NaN  ...  SINGLE PROTEIN      CHEMBL1909046         15   \n",
       "\n",
       "      Source Description      Document Journal Document Year  Cell ChEMBL ID  \\\n",
       "0             DrugMatrix                   NaN           NaN   CHEMBL3308860   \n",
       "1             DrugMatrix                   NaN           NaN   CHEMBL3308860   \n",
       "2             DrugMatrix                   NaN           NaN   CHEMBL3308860   \n",
       "3  Scientific Literature  Bioorg Med Chem Lett        2004.0             NaN   \n",
       "4             DrugMatrix                   NaN           NaN   CHEMBL3308860   \n",
       "\n",
       "   Properties  Action Type  Standard Text Value  \n",
       "0         NaN          NaN                  NaN  \n",
       "1         NaN          NaN                  NaN  \n",
       "2         NaN          NaN                  NaN  \n",
       "3         NaN          NaN                  NaN  \n",
       "4         NaN          NaN                  NaN  \n",
       "\n",
       "[5 rows x 47 columns]"
      ]
     },
     "execution_count": 3,
     "metadata": {},
     "output_type": "execute_result"
    }
   ],
   "source": [
    "ESR1.head()"
   ]
  },
  {
   "cell_type": "code",
   "execution_count": 4,
   "metadata": {},
   "outputs": [],
   "source": [
    "n_ESR1 = ESR1[[\"Molecule ChEMBL ID\", \"Molecule Name\", \"Smiles\", \"Standard Type\", \"Standard Relation\", \"Standard Value\", \"Standard Units\"]].copy()"
   ]
  },
  {
   "cell_type": "code",
   "execution_count": 5,
   "metadata": {},
   "outputs": [
    {
     "data": {
      "text/plain": [
       "(5182, 47)"
      ]
     },
     "execution_count": 5,
     "metadata": {},
     "output_type": "execute_result"
    }
   ],
   "source": [
    "ESR1.shape"
   ]
  },
  {
   "cell_type": "code",
   "execution_count": 6,
   "metadata": {},
   "outputs": [
    {
     "data": {
      "text/plain": [
       "Molecule ChEMBL ID       0\n",
       "Molecule Name         3963\n",
       "Smiles                  40\n",
       "Standard Type            0\n",
       "Standard Relation     1048\n",
       "Standard Value        1032\n",
       "Standard Units         982\n",
       "dtype: int64"
      ]
     },
     "execution_count": 6,
     "metadata": {},
     "output_type": "execute_result"
    }
   ],
   "source": [
    "n_ESR1.isna().sum()"
   ]
  },
  {
   "cell_type": "code",
   "execution_count": 7,
   "metadata": {},
   "outputs": [],
   "source": [
    "l_ESR1 = n_ESR1.dropna(subset=[\"Smiles\", \"Standard Value\"]).copy()"
   ]
  },
  {
   "cell_type": "code",
   "execution_count": 8,
   "metadata": {},
   "outputs": [
    {
     "data": {
      "text/plain": [
       "(4142, 7)"
      ]
     },
     "execution_count": 8,
     "metadata": {},
     "output_type": "execute_result"
    }
   ],
   "source": [
    "l_ESR1.shape"
   ]
  },
  {
   "cell_type": "code",
   "execution_count": 9,
   "metadata": {},
   "outputs": [
    {
     "data": {
      "text/plain": [
       "Molecule ChEMBL ID       0\n",
       "Molecule Name         3769\n",
       "Smiles                   0\n",
       "Standard Type            0\n",
       "Standard Relation       16\n",
       "Standard Value           0\n",
       "Standard Units           0\n",
       "dtype: int64"
      ]
     },
     "execution_count": 9,
     "metadata": {},
     "output_type": "execute_result"
    }
   ],
   "source": [
    "l_ESR1.isna().sum()"
   ]
  },
  {
   "cell_type": "code",
   "execution_count": 10,
   "metadata": {},
   "outputs": [
    {
     "data": {
      "text/html": [
       "<div>\n",
       "<style scoped>\n",
       "    .dataframe tbody tr th:only-of-type {\n",
       "        vertical-align: middle;\n",
       "    }\n",
       "\n",
       "    .dataframe tbody tr th {\n",
       "        vertical-align: top;\n",
       "    }\n",
       "\n",
       "    .dataframe thead th {\n",
       "        text-align: right;\n",
       "    }\n",
       "</style>\n",
       "<table border=\"1\" class=\"dataframe\">\n",
       "  <thead>\n",
       "    <tr style=\"text-align: right;\">\n",
       "      <th></th>\n",
       "      <th>Molecule ChEMBL ID</th>\n",
       "      <th>Molecule Name</th>\n",
       "      <th>Smiles</th>\n",
       "      <th>Standard Type</th>\n",
       "      <th>Standard Relation</th>\n",
       "      <th>Standard Value</th>\n",
       "      <th>Standard Units</th>\n",
       "    </tr>\n",
       "  </thead>\n",
       "  <tbody>\n",
       "    <tr>\n",
       "      <th>0</th>\n",
       "      <td>CHEMBL1479</td>\n",
       "      <td>DANAZOL</td>\n",
       "      <td>C#C[C@]1(O)CC[C@H]2[C@@H]3CCC4=Cc5oncc5C[C@]4(...</td>\n",
       "      <td>IC50</td>\n",
       "      <td>'='</td>\n",
       "      <td>17790.00</td>\n",
       "      <td>nM</td>\n",
       "    </tr>\n",
       "    <tr>\n",
       "      <th>3</th>\n",
       "      <td>CHEMBL85650</td>\n",
       "      <td>NaN</td>\n",
       "      <td>CC(C)C[C@H]1Sc2cc(O)ccc2O[C@H]1c1ccc(OCCN2CCCC...</td>\n",
       "      <td>IC50</td>\n",
       "      <td>'='</td>\n",
       "      <td>3.00</td>\n",
       "      <td>nM</td>\n",
       "    </tr>\n",
       "    <tr>\n",
       "      <th>5</th>\n",
       "      <td>CHEMBL101997</td>\n",
       "      <td>NaN</td>\n",
       "      <td>CC1(c2ccc(OCCN3CCCC3)cc2)c2ccc(O)cc2CCN1c1ccc(...</td>\n",
       "      <td>IC50</td>\n",
       "      <td>'='</td>\n",
       "      <td>31.00</td>\n",
       "      <td>nM</td>\n",
       "    </tr>\n",
       "    <tr>\n",
       "      <th>8</th>\n",
       "      <td>CHEMBL100763</td>\n",
       "      <td>NaN</td>\n",
       "      <td>CC1(c2ccc(OCCN3CCCC3)cc2)c2ccc(O)cc2CCN1c1ccc(...</td>\n",
       "      <td>IC50</td>\n",
       "      <td>'='</td>\n",
       "      <td>26.98</td>\n",
       "      <td>nM</td>\n",
       "    </tr>\n",
       "    <tr>\n",
       "      <th>9</th>\n",
       "      <td>CHEMBL394614</td>\n",
       "      <td>NaN</td>\n",
       "      <td>O/N=C/c1ccc(-c2ccc(O)cc2)c2occc12</td>\n",
       "      <td>IC50</td>\n",
       "      <td>'='</td>\n",
       "      <td>1330.00</td>\n",
       "      <td>nM</td>\n",
       "    </tr>\n",
       "  </tbody>\n",
       "</table>\n",
       "</div>"
      ],
      "text/plain": [
       "  Molecule ChEMBL ID Molecule Name  \\\n",
       "0         CHEMBL1479       DANAZOL   \n",
       "3        CHEMBL85650           NaN   \n",
       "5       CHEMBL101997           NaN   \n",
       "8       CHEMBL100763           NaN   \n",
       "9       CHEMBL394614           NaN   \n",
       "\n",
       "                                              Smiles Standard Type  \\\n",
       "0  C#C[C@]1(O)CC[C@H]2[C@@H]3CCC4=Cc5oncc5C[C@]4(...          IC50   \n",
       "3  CC(C)C[C@H]1Sc2cc(O)ccc2O[C@H]1c1ccc(OCCN2CCCC...          IC50   \n",
       "5  CC1(c2ccc(OCCN3CCCC3)cc2)c2ccc(O)cc2CCN1c1ccc(...          IC50   \n",
       "8  CC1(c2ccc(OCCN3CCCC3)cc2)c2ccc(O)cc2CCN1c1ccc(...          IC50   \n",
       "9                  O/N=C/c1ccc(-c2ccc(O)cc2)c2occc12          IC50   \n",
       "\n",
       "  Standard Relation  Standard Value Standard Units  \n",
       "0               '='        17790.00             nM  \n",
       "3               '='            3.00             nM  \n",
       "5               '='           31.00             nM  \n",
       "8               '='           26.98             nM  \n",
       "9               '='         1330.00             nM  "
      ]
     },
     "execution_count": 10,
     "metadata": {},
     "output_type": "execute_result"
    }
   ],
   "source": [
    "l_ESR1.head()"
   ]
  },
  {
   "cell_type": "code",
   "execution_count": 11,
   "metadata": {},
   "outputs": [
    {
     "data": {
      "text/plain": [
       "Standard Units\n",
       "nM         4140\n",
       "ug.mL-1       2\n",
       "Name: count, dtype: int64"
      ]
     },
     "execution_count": 11,
     "metadata": {},
     "output_type": "execute_result"
    }
   ],
   "source": [
    "l_ESR1[\"Standard Units\"].value_counts()"
   ]
  },
  {
   "cell_type": "code",
   "execution_count": 12,
   "metadata": {},
   "outputs": [],
   "source": [
    "s_ESR1 = l_ESR1[(l_ESR1[\"Standard Units\"] == \"nM\")]"
   ]
  },
  {
   "cell_type": "code",
   "execution_count": 13,
   "metadata": {},
   "outputs": [
    {
     "data": {
      "text/plain": [
       "(4140, 7)"
      ]
     },
     "execution_count": 13,
     "metadata": {},
     "output_type": "execute_result"
    }
   ],
   "source": [
    "s_ESR1.shape"
   ]
  },
  {
   "cell_type": "code",
   "execution_count": 14,
   "metadata": {},
   "outputs": [],
   "source": [
    "d_ESR1 = s_ESR1.drop_duplicates(subset=\"Molecule ChEMBL ID\").copy()"
   ]
  },
  {
   "cell_type": "code",
   "execution_count": 15,
   "metadata": {},
   "outputs": [
    {
     "data": {
      "text/plain": [
       "(3079, 7)"
      ]
     },
     "execution_count": 15,
     "metadata": {},
     "output_type": "execute_result"
    }
   ],
   "source": [
    "d_ESR1.shape"
   ]
  },
  {
   "cell_type": "code",
   "execution_count": 23,
   "metadata": {},
   "outputs": [],
   "source": [
    "d_ESR1 = d_ESR1[d_ESR1[\"Standard Relation\"] == \"'='\"].copy()"
   ]
  },
  {
   "cell_type": "code",
   "execution_count": 25,
   "metadata": {},
   "outputs": [],
   "source": [
    "d_ESR1.to_csv(\"ESR1_limpio.csv\", index=False)"
   ]
  },
  {
   "cell_type": "code",
   "execution_count": null,
   "metadata": {},
   "outputs": [],
   "source": []
  }
 ],
 "metadata": {
  "kernelspec": {
   "display_name": "Python 3",
   "language": "python",
   "name": "python3"
  },
  "language_info": {
   "codemirror_mode": {
    "name": "ipython",
    "version": 3
   },
   "file_extension": ".py",
   "mimetype": "text/x-python",
   "name": "python",
   "nbconvert_exporter": "python",
   "pygments_lexer": "ipython3",
   "version": "3.11.0"
  }
 },
 "nbformat": 4,
 "nbformat_minor": 2
}
