{
 "cells": [
  {
   "cell_type": "markdown",
   "metadata": {},
   "source": [
    "# Entrenamiento con datos de entrenamiento\n",
    "<hr>"
   ]
  },
  {
   "cell_type": "code",
   "execution_count": 2,
   "metadata": {},
   "outputs": [],
   "source": [
    "from sklearn.model_selection import train_test_split, GridSearchCV\n",
    "from sklearn.pipeline import Pipeline\n",
    "from sklearn.decomposition import PCA\n",
    "from sklearn.ensemble import RandomForestClassifier\n",
    "from sklearn.metrics import accuracy_score\n",
    "from sklearn.metrics import recall_score\n",
    "from sklearn.metrics import precision_score\n",
    "from sklearn.metrics import f1_score\n",
    "import pandas as pd"
   ]
  },
  {
   "cell_type": "code",
   "execution_count": 3,
   "metadata": {},
   "outputs": [],
   "source": [
    "X = pd.read_csv(\"../Reducción descriptores/BBB_h.csv\")"
   ]
  },
  {
   "cell_type": "code",
   "execution_count": 4,
   "metadata": {},
   "outputs": [
    {
     "data": {
      "text/plain": [
       "(7807, 58)"
      ]
     },
     "execution_count": 4,
     "metadata": {},
     "output_type": "execute_result"
    }
   ],
   "source": [
    "X.shape"
   ]
  },
  {
   "cell_type": "code",
   "execution_count": 5,
   "metadata": {},
   "outputs": [
    {
     "name": "stderr",
     "output_type": "stream",
     "text": [
      "C:\\Users\\Eliud\\AppData\\Local\\Temp\\ipykernel_2608\\419284443.py:1: FutureWarning: DataFrame.fillna with 'method' is deprecated and will raise in a future version. Use obj.ffill() or obj.bfill() instead.\n",
      "  X.fillna(method='ffill', inplace=True)\n"
     ]
    }
   ],
   "source": [
    "X.fillna(method='ffill', inplace=True)\n"
   ]
  },
  {
   "cell_type": "code",
   "execution_count": 6,
   "metadata": {},
   "outputs": [],
   "source": [
    "df = pd.read_csv(\"../Descriptores calculados/BBB_descriptores.csv\")"
   ]
  },
  {
   "cell_type": "code",
   "execution_count": 7,
   "metadata": {},
   "outputs": [],
   "source": [
    "y = df[\"BBB+/BBB-\"]"
   ]
  },
  {
   "cell_type": "code",
   "execution_count": 8,
   "metadata": {},
   "outputs": [],
   "source": [
    "X_train, X_test, y_train, y_test = train_test_split(X, y, test_size=0.2, random_state=42)"
   ]
  },
  {
   "cell_type": "code",
   "execution_count": 9,
   "metadata": {},
   "outputs": [],
   "source": [
    "pipe = Pipeline([\n",
    "    ('RF', RandomForestClassifier())\n",
    "])"
   ]
  },
  {
   "cell_type": "code",
   "execution_count": 10,
   "metadata": {},
   "outputs": [],
   "source": [
    "param_grid = {\n",
    "    'RF__max_depth': [10, 20, 30, 40, 50],\n",
    "    'RF__bootstrap': [True, False],\n",
    "    'RF__max_features': ['sqrt', \"log2\"]\n",
    "}"
   ]
  },
  {
   "cell_type": "code",
   "execution_count": 11,
   "metadata": {},
   "outputs": [],
   "source": [
    "grid_search = GridSearchCV(estimator=pipe, param_grid=param_grid, cv=5, scoring='accuracy', verbose=2)"
   ]
  },
  {
   "cell_type": "code",
   "execution_count": 12,
   "metadata": {},
   "outputs": [
    {
     "name": "stdout",
     "output_type": "stream",
     "text": [
      "Fitting 5 folds for each of 20 candidates, totalling 100 fits\n",
      "[CV] END RF__bootstrap=True, RF__max_depth=10, RF__max_features=sqrt; total time=   2.3s\n",
      "[CV] END RF__bootstrap=True, RF__max_depth=10, RF__max_features=sqrt; total time=   2.3s\n",
      "[CV] END RF__bootstrap=True, RF__max_depth=10, RF__max_features=sqrt; total time=   2.3s\n",
      "[CV] END RF__bootstrap=True, RF__max_depth=10, RF__max_features=sqrt; total time=   2.4s\n"
     ]
    },
    {
     "ename": "KeyboardInterrupt",
     "evalue": "",
     "output_type": "error",
     "traceback": [
      "\u001b[1;31m---------------------------------------------------------------------------\u001b[0m",
      "\u001b[1;31mKeyboardInterrupt\u001b[0m                         Traceback (most recent call last)",
      "Cell \u001b[1;32mIn[12], line 1\u001b[0m\n\u001b[1;32m----> 1\u001b[0m \u001b[43mgrid_search\u001b[49m\u001b[38;5;241;43m.\u001b[39;49m\u001b[43mfit\u001b[49m\u001b[43m(\u001b[49m\u001b[43mX_train\u001b[49m\u001b[43m,\u001b[49m\u001b[43m \u001b[49m\u001b[43my_train\u001b[49m\u001b[43m)\u001b[49m\n",
      "File \u001b[1;32mc:\\Users\\Eliud\\AppData\\Local\\Programs\\Python\\Python311\\Lib\\site-packages\\sklearn\\base.py:1152\u001b[0m, in \u001b[0;36m_fit_context.<locals>.decorator.<locals>.wrapper\u001b[1;34m(estimator, *args, **kwargs)\u001b[0m\n\u001b[0;32m   1145\u001b[0m     estimator\u001b[38;5;241m.\u001b[39m_validate_params()\n\u001b[0;32m   1147\u001b[0m \u001b[38;5;28;01mwith\u001b[39;00m config_context(\n\u001b[0;32m   1148\u001b[0m     skip_parameter_validation\u001b[38;5;241m=\u001b[39m(\n\u001b[0;32m   1149\u001b[0m         prefer_skip_nested_validation \u001b[38;5;129;01mor\u001b[39;00m global_skip_validation\n\u001b[0;32m   1150\u001b[0m     )\n\u001b[0;32m   1151\u001b[0m ):\n\u001b[1;32m-> 1152\u001b[0m     \u001b[38;5;28;01mreturn\u001b[39;00m \u001b[43mfit_method\u001b[49m\u001b[43m(\u001b[49m\u001b[43mestimator\u001b[49m\u001b[43m,\u001b[49m\u001b[43m \u001b[49m\u001b[38;5;241;43m*\u001b[39;49m\u001b[43margs\u001b[49m\u001b[43m,\u001b[49m\u001b[43m \u001b[49m\u001b[38;5;241;43m*\u001b[39;49m\u001b[38;5;241;43m*\u001b[39;49m\u001b[43mkwargs\u001b[49m\u001b[43m)\u001b[49m\n",
      "File \u001b[1;32mc:\\Users\\Eliud\\AppData\\Local\\Programs\\Python\\Python311\\Lib\\site-packages\\sklearn\\model_selection\\_search.py:898\u001b[0m, in \u001b[0;36mBaseSearchCV.fit\u001b[1;34m(self, X, y, groups, **fit_params)\u001b[0m\n\u001b[0;32m    892\u001b[0m     results \u001b[38;5;241m=\u001b[39m \u001b[38;5;28mself\u001b[39m\u001b[38;5;241m.\u001b[39m_format_results(\n\u001b[0;32m    893\u001b[0m         all_candidate_params, n_splits, all_out, all_more_results\n\u001b[0;32m    894\u001b[0m     )\n\u001b[0;32m    896\u001b[0m     \u001b[38;5;28;01mreturn\u001b[39;00m results\n\u001b[1;32m--> 898\u001b[0m \u001b[38;5;28;43mself\u001b[39;49m\u001b[38;5;241;43m.\u001b[39;49m\u001b[43m_run_search\u001b[49m\u001b[43m(\u001b[49m\u001b[43mevaluate_candidates\u001b[49m\u001b[43m)\u001b[49m\n\u001b[0;32m    900\u001b[0m \u001b[38;5;66;03m# multimetric is determined here because in the case of a callable\u001b[39;00m\n\u001b[0;32m    901\u001b[0m \u001b[38;5;66;03m# self.scoring the return type is only known after calling\u001b[39;00m\n\u001b[0;32m    902\u001b[0m first_test_score \u001b[38;5;241m=\u001b[39m all_out[\u001b[38;5;241m0\u001b[39m][\u001b[38;5;124m\"\u001b[39m\u001b[38;5;124mtest_scores\u001b[39m\u001b[38;5;124m\"\u001b[39m]\n",
      "File \u001b[1;32mc:\\Users\\Eliud\\AppData\\Local\\Programs\\Python\\Python311\\Lib\\site-packages\\sklearn\\model_selection\\_search.py:1422\u001b[0m, in \u001b[0;36mGridSearchCV._run_search\u001b[1;34m(self, evaluate_candidates)\u001b[0m\n\u001b[0;32m   1420\u001b[0m \u001b[38;5;28;01mdef\u001b[39;00m \u001b[38;5;21m_run_search\u001b[39m(\u001b[38;5;28mself\u001b[39m, evaluate_candidates):\n\u001b[0;32m   1421\u001b[0m \u001b[38;5;250m    \u001b[39m\u001b[38;5;124;03m\"\"\"Search all candidates in param_grid\"\"\"\u001b[39;00m\n\u001b[1;32m-> 1422\u001b[0m     \u001b[43mevaluate_candidates\u001b[49m\u001b[43m(\u001b[49m\u001b[43mParameterGrid\u001b[49m\u001b[43m(\u001b[49m\u001b[38;5;28;43mself\u001b[39;49m\u001b[38;5;241;43m.\u001b[39;49m\u001b[43mparam_grid\u001b[49m\u001b[43m)\u001b[49m\u001b[43m)\u001b[49m\n",
      "File \u001b[1;32mc:\\Users\\Eliud\\AppData\\Local\\Programs\\Python\\Python311\\Lib\\site-packages\\sklearn\\model_selection\\_search.py:845\u001b[0m, in \u001b[0;36mBaseSearchCV.fit.<locals>.evaluate_candidates\u001b[1;34m(candidate_params, cv, more_results)\u001b[0m\n\u001b[0;32m    837\u001b[0m \u001b[38;5;28;01mif\u001b[39;00m \u001b[38;5;28mself\u001b[39m\u001b[38;5;241m.\u001b[39mverbose \u001b[38;5;241m>\u001b[39m \u001b[38;5;241m0\u001b[39m:\n\u001b[0;32m    838\u001b[0m     \u001b[38;5;28mprint\u001b[39m(\n\u001b[0;32m    839\u001b[0m         \u001b[38;5;124m\"\u001b[39m\u001b[38;5;124mFitting \u001b[39m\u001b[38;5;132;01m{0}\u001b[39;00m\u001b[38;5;124m folds for each of \u001b[39m\u001b[38;5;132;01m{1}\u001b[39;00m\u001b[38;5;124m candidates,\u001b[39m\u001b[38;5;124m\"\u001b[39m\n\u001b[0;32m    840\u001b[0m         \u001b[38;5;124m\"\u001b[39m\u001b[38;5;124m totalling \u001b[39m\u001b[38;5;132;01m{2}\u001b[39;00m\u001b[38;5;124m fits\u001b[39m\u001b[38;5;124m\"\u001b[39m\u001b[38;5;241m.\u001b[39mformat(\n\u001b[0;32m    841\u001b[0m             n_splits, n_candidates, n_candidates \u001b[38;5;241m*\u001b[39m n_splits\n\u001b[0;32m    842\u001b[0m         )\n\u001b[0;32m    843\u001b[0m     )\n\u001b[1;32m--> 845\u001b[0m out \u001b[38;5;241m=\u001b[39m \u001b[43mparallel\u001b[49m\u001b[43m(\u001b[49m\n\u001b[0;32m    846\u001b[0m \u001b[43m    \u001b[49m\u001b[43mdelayed\u001b[49m\u001b[43m(\u001b[49m\u001b[43m_fit_and_score\u001b[49m\u001b[43m)\u001b[49m\u001b[43m(\u001b[49m\n\u001b[0;32m    847\u001b[0m \u001b[43m        \u001b[49m\u001b[43mclone\u001b[49m\u001b[43m(\u001b[49m\u001b[43mbase_estimator\u001b[49m\u001b[43m)\u001b[49m\u001b[43m,\u001b[49m\n\u001b[0;32m    848\u001b[0m \u001b[43m        \u001b[49m\u001b[43mX\u001b[49m\u001b[43m,\u001b[49m\n\u001b[0;32m    849\u001b[0m \u001b[43m        \u001b[49m\u001b[43my\u001b[49m\u001b[43m,\u001b[49m\n\u001b[0;32m    850\u001b[0m \u001b[43m        \u001b[49m\u001b[43mtrain\u001b[49m\u001b[38;5;241;43m=\u001b[39;49m\u001b[43mtrain\u001b[49m\u001b[43m,\u001b[49m\n\u001b[0;32m    851\u001b[0m \u001b[43m        \u001b[49m\u001b[43mtest\u001b[49m\u001b[38;5;241;43m=\u001b[39;49m\u001b[43mtest\u001b[49m\u001b[43m,\u001b[49m\n\u001b[0;32m    852\u001b[0m \u001b[43m        \u001b[49m\u001b[43mparameters\u001b[49m\u001b[38;5;241;43m=\u001b[39;49m\u001b[43mparameters\u001b[49m\u001b[43m,\u001b[49m\n\u001b[0;32m    853\u001b[0m \u001b[43m        \u001b[49m\u001b[43msplit_progress\u001b[49m\u001b[38;5;241;43m=\u001b[39;49m\u001b[43m(\u001b[49m\u001b[43msplit_idx\u001b[49m\u001b[43m,\u001b[49m\u001b[43m \u001b[49m\u001b[43mn_splits\u001b[49m\u001b[43m)\u001b[49m\u001b[43m,\u001b[49m\n\u001b[0;32m    854\u001b[0m \u001b[43m        \u001b[49m\u001b[43mcandidate_progress\u001b[49m\u001b[38;5;241;43m=\u001b[39;49m\u001b[43m(\u001b[49m\u001b[43mcand_idx\u001b[49m\u001b[43m,\u001b[49m\u001b[43m \u001b[49m\u001b[43mn_candidates\u001b[49m\u001b[43m)\u001b[49m\u001b[43m,\u001b[49m\n\u001b[0;32m    855\u001b[0m \u001b[43m        \u001b[49m\u001b[38;5;241;43m*\u001b[39;49m\u001b[38;5;241;43m*\u001b[39;49m\u001b[43mfit_and_score_kwargs\u001b[49m\u001b[43m,\u001b[49m\n\u001b[0;32m    856\u001b[0m \u001b[43m    \u001b[49m\u001b[43m)\u001b[49m\n\u001b[0;32m    857\u001b[0m \u001b[43m    \u001b[49m\u001b[38;5;28;43;01mfor\u001b[39;49;00m\u001b[43m \u001b[49m\u001b[43m(\u001b[49m\u001b[43mcand_idx\u001b[49m\u001b[43m,\u001b[49m\u001b[43m \u001b[49m\u001b[43mparameters\u001b[49m\u001b[43m)\u001b[49m\u001b[43m,\u001b[49m\u001b[43m \u001b[49m\u001b[43m(\u001b[49m\u001b[43msplit_idx\u001b[49m\u001b[43m,\u001b[49m\u001b[43m \u001b[49m\u001b[43m(\u001b[49m\u001b[43mtrain\u001b[49m\u001b[43m,\u001b[49m\u001b[43m \u001b[49m\u001b[43mtest\u001b[49m\u001b[43m)\u001b[49m\u001b[43m)\u001b[49m\u001b[43m \u001b[49m\u001b[38;5;129;43;01min\u001b[39;49;00m\u001b[43m \u001b[49m\u001b[43mproduct\u001b[49m\u001b[43m(\u001b[49m\n\u001b[0;32m    858\u001b[0m \u001b[43m        \u001b[49m\u001b[38;5;28;43menumerate\u001b[39;49m\u001b[43m(\u001b[49m\u001b[43mcandidate_params\u001b[49m\u001b[43m)\u001b[49m\u001b[43m,\u001b[49m\u001b[43m \u001b[49m\u001b[38;5;28;43menumerate\u001b[39;49m\u001b[43m(\u001b[49m\u001b[43mcv\u001b[49m\u001b[38;5;241;43m.\u001b[39;49m\u001b[43msplit\u001b[49m\u001b[43m(\u001b[49m\u001b[43mX\u001b[49m\u001b[43m,\u001b[49m\u001b[43m \u001b[49m\u001b[43my\u001b[49m\u001b[43m,\u001b[49m\u001b[43m \u001b[49m\u001b[43mgroups\u001b[49m\u001b[43m)\u001b[49m\u001b[43m)\u001b[49m\n\u001b[0;32m    859\u001b[0m \u001b[43m    \u001b[49m\u001b[43m)\u001b[49m\n\u001b[0;32m    860\u001b[0m \u001b[43m\u001b[49m\u001b[43m)\u001b[49m\n\u001b[0;32m    862\u001b[0m \u001b[38;5;28;01mif\u001b[39;00m \u001b[38;5;28mlen\u001b[39m(out) \u001b[38;5;241m<\u001b[39m \u001b[38;5;241m1\u001b[39m:\n\u001b[0;32m    863\u001b[0m     \u001b[38;5;28;01mraise\u001b[39;00m \u001b[38;5;167;01mValueError\u001b[39;00m(\n\u001b[0;32m    864\u001b[0m         \u001b[38;5;124m\"\u001b[39m\u001b[38;5;124mNo fits were performed. \u001b[39m\u001b[38;5;124m\"\u001b[39m\n\u001b[0;32m    865\u001b[0m         \u001b[38;5;124m\"\u001b[39m\u001b[38;5;124mWas the CV iterator empty? \u001b[39m\u001b[38;5;124m\"\u001b[39m\n\u001b[0;32m    866\u001b[0m         \u001b[38;5;124m\"\u001b[39m\u001b[38;5;124mWere there no candidates?\u001b[39m\u001b[38;5;124m\"\u001b[39m\n\u001b[0;32m    867\u001b[0m     )\n",
      "File \u001b[1;32mc:\\Users\\Eliud\\AppData\\Local\\Programs\\Python\\Python311\\Lib\\site-packages\\sklearn\\utils\\parallel.py:65\u001b[0m, in \u001b[0;36mParallel.__call__\u001b[1;34m(self, iterable)\u001b[0m\n\u001b[0;32m     60\u001b[0m config \u001b[38;5;241m=\u001b[39m get_config()\n\u001b[0;32m     61\u001b[0m iterable_with_config \u001b[38;5;241m=\u001b[39m (\n\u001b[0;32m     62\u001b[0m     (_with_config(delayed_func, config), args, kwargs)\n\u001b[0;32m     63\u001b[0m     \u001b[38;5;28;01mfor\u001b[39;00m delayed_func, args, kwargs \u001b[38;5;129;01min\u001b[39;00m iterable\n\u001b[0;32m     64\u001b[0m )\n\u001b[1;32m---> 65\u001b[0m \u001b[38;5;28;01mreturn\u001b[39;00m \u001b[38;5;28;43msuper\u001b[39;49m\u001b[43m(\u001b[49m\u001b[43m)\u001b[49m\u001b[38;5;241;43m.\u001b[39;49m\u001b[38;5;21;43m__call__\u001b[39;49m\u001b[43m(\u001b[49m\u001b[43miterable_with_config\u001b[49m\u001b[43m)\u001b[49m\n",
      "File \u001b[1;32mc:\\Users\\Eliud\\AppData\\Local\\Programs\\Python\\Python311\\Lib\\site-packages\\joblib\\parallel.py:1863\u001b[0m, in \u001b[0;36mParallel.__call__\u001b[1;34m(self, iterable)\u001b[0m\n\u001b[0;32m   1861\u001b[0m     output \u001b[38;5;241m=\u001b[39m \u001b[38;5;28mself\u001b[39m\u001b[38;5;241m.\u001b[39m_get_sequential_output(iterable)\n\u001b[0;32m   1862\u001b[0m     \u001b[38;5;28mnext\u001b[39m(output)\n\u001b[1;32m-> 1863\u001b[0m     \u001b[38;5;28;01mreturn\u001b[39;00m output \u001b[38;5;28;01mif\u001b[39;00m \u001b[38;5;28mself\u001b[39m\u001b[38;5;241m.\u001b[39mreturn_generator \u001b[38;5;28;01melse\u001b[39;00m \u001b[38;5;28;43mlist\u001b[39;49m\u001b[43m(\u001b[49m\u001b[43moutput\u001b[49m\u001b[43m)\u001b[49m\n\u001b[0;32m   1865\u001b[0m \u001b[38;5;66;03m# Let's create an ID that uniquely identifies the current call. If the\u001b[39;00m\n\u001b[0;32m   1866\u001b[0m \u001b[38;5;66;03m# call is interrupted early and that the same instance is immediately\u001b[39;00m\n\u001b[0;32m   1867\u001b[0m \u001b[38;5;66;03m# re-used, this id will be used to prevent workers that were\u001b[39;00m\n\u001b[0;32m   1868\u001b[0m \u001b[38;5;66;03m# concurrently finalizing a task from the previous call to run the\u001b[39;00m\n\u001b[0;32m   1869\u001b[0m \u001b[38;5;66;03m# callback.\u001b[39;00m\n\u001b[0;32m   1870\u001b[0m \u001b[38;5;28;01mwith\u001b[39;00m \u001b[38;5;28mself\u001b[39m\u001b[38;5;241m.\u001b[39m_lock:\n",
      "File \u001b[1;32mc:\\Users\\Eliud\\AppData\\Local\\Programs\\Python\\Python311\\Lib\\site-packages\\joblib\\parallel.py:1792\u001b[0m, in \u001b[0;36mParallel._get_sequential_output\u001b[1;34m(self, iterable)\u001b[0m\n\u001b[0;32m   1790\u001b[0m \u001b[38;5;28mself\u001b[39m\u001b[38;5;241m.\u001b[39mn_dispatched_batches \u001b[38;5;241m+\u001b[39m\u001b[38;5;241m=\u001b[39m \u001b[38;5;241m1\u001b[39m\n\u001b[0;32m   1791\u001b[0m \u001b[38;5;28mself\u001b[39m\u001b[38;5;241m.\u001b[39mn_dispatched_tasks \u001b[38;5;241m+\u001b[39m\u001b[38;5;241m=\u001b[39m \u001b[38;5;241m1\u001b[39m\n\u001b[1;32m-> 1792\u001b[0m res \u001b[38;5;241m=\u001b[39m \u001b[43mfunc\u001b[49m\u001b[43m(\u001b[49m\u001b[38;5;241;43m*\u001b[39;49m\u001b[43margs\u001b[49m\u001b[43m,\u001b[49m\u001b[43m \u001b[49m\u001b[38;5;241;43m*\u001b[39;49m\u001b[38;5;241;43m*\u001b[39;49m\u001b[43mkwargs\u001b[49m\u001b[43m)\u001b[49m\n\u001b[0;32m   1793\u001b[0m \u001b[38;5;28mself\u001b[39m\u001b[38;5;241m.\u001b[39mn_completed_tasks \u001b[38;5;241m+\u001b[39m\u001b[38;5;241m=\u001b[39m \u001b[38;5;241m1\u001b[39m\n\u001b[0;32m   1794\u001b[0m \u001b[38;5;28mself\u001b[39m\u001b[38;5;241m.\u001b[39mprint_progress()\n",
      "File \u001b[1;32mc:\\Users\\Eliud\\AppData\\Local\\Programs\\Python\\Python311\\Lib\\site-packages\\sklearn\\utils\\parallel.py:127\u001b[0m, in \u001b[0;36m_FuncWrapper.__call__\u001b[1;34m(self, *args, **kwargs)\u001b[0m\n\u001b[0;32m    125\u001b[0m     config \u001b[38;5;241m=\u001b[39m {}\n\u001b[0;32m    126\u001b[0m \u001b[38;5;28;01mwith\u001b[39;00m config_context(\u001b[38;5;241m*\u001b[39m\u001b[38;5;241m*\u001b[39mconfig):\n\u001b[1;32m--> 127\u001b[0m     \u001b[38;5;28;01mreturn\u001b[39;00m \u001b[38;5;28;43mself\u001b[39;49m\u001b[38;5;241;43m.\u001b[39;49m\u001b[43mfunction\u001b[49m\u001b[43m(\u001b[49m\u001b[38;5;241;43m*\u001b[39;49m\u001b[43margs\u001b[49m\u001b[43m,\u001b[49m\u001b[43m \u001b[49m\u001b[38;5;241;43m*\u001b[39;49m\u001b[38;5;241;43m*\u001b[39;49m\u001b[43mkwargs\u001b[49m\u001b[43m)\u001b[49m\n",
      "File \u001b[1;32mc:\\Users\\Eliud\\AppData\\Local\\Programs\\Python\\Python311\\Lib\\site-packages\\sklearn\\model_selection\\_validation.py:729\u001b[0m, in \u001b[0;36m_fit_and_score\u001b[1;34m(estimator, X, y, scorer, train, test, verbose, parameters, fit_params, return_train_score, return_parameters, return_n_test_samples, return_times, return_estimator, split_progress, candidate_progress, error_score)\u001b[0m\n\u001b[0;32m    727\u001b[0m         estimator\u001b[38;5;241m.\u001b[39mfit(X_train, \u001b[38;5;241m*\u001b[39m\u001b[38;5;241m*\u001b[39mfit_params)\n\u001b[0;32m    728\u001b[0m     \u001b[38;5;28;01melse\u001b[39;00m:\n\u001b[1;32m--> 729\u001b[0m         \u001b[43mestimator\u001b[49m\u001b[38;5;241;43m.\u001b[39;49m\u001b[43mfit\u001b[49m\u001b[43m(\u001b[49m\u001b[43mX_train\u001b[49m\u001b[43m,\u001b[49m\u001b[43m \u001b[49m\u001b[43my_train\u001b[49m\u001b[43m,\u001b[49m\u001b[43m \u001b[49m\u001b[38;5;241;43m*\u001b[39;49m\u001b[38;5;241;43m*\u001b[39;49m\u001b[43mfit_params\u001b[49m\u001b[43m)\u001b[49m\n\u001b[0;32m    731\u001b[0m \u001b[38;5;28;01mexcept\u001b[39;00m \u001b[38;5;167;01mException\u001b[39;00m:\n\u001b[0;32m    732\u001b[0m     \u001b[38;5;66;03m# Note fit time as time until error\u001b[39;00m\n\u001b[0;32m    733\u001b[0m     fit_time \u001b[38;5;241m=\u001b[39m time\u001b[38;5;241m.\u001b[39mtime() \u001b[38;5;241m-\u001b[39m start_time\n",
      "File \u001b[1;32mc:\\Users\\Eliud\\AppData\\Local\\Programs\\Python\\Python311\\Lib\\site-packages\\sklearn\\base.py:1152\u001b[0m, in \u001b[0;36m_fit_context.<locals>.decorator.<locals>.wrapper\u001b[1;34m(estimator, *args, **kwargs)\u001b[0m\n\u001b[0;32m   1145\u001b[0m     estimator\u001b[38;5;241m.\u001b[39m_validate_params()\n\u001b[0;32m   1147\u001b[0m \u001b[38;5;28;01mwith\u001b[39;00m config_context(\n\u001b[0;32m   1148\u001b[0m     skip_parameter_validation\u001b[38;5;241m=\u001b[39m(\n\u001b[0;32m   1149\u001b[0m         prefer_skip_nested_validation \u001b[38;5;129;01mor\u001b[39;00m global_skip_validation\n\u001b[0;32m   1150\u001b[0m     )\n\u001b[0;32m   1151\u001b[0m ):\n\u001b[1;32m-> 1152\u001b[0m     \u001b[38;5;28;01mreturn\u001b[39;00m \u001b[43mfit_method\u001b[49m\u001b[43m(\u001b[49m\u001b[43mestimator\u001b[49m\u001b[43m,\u001b[49m\u001b[43m \u001b[49m\u001b[38;5;241;43m*\u001b[39;49m\u001b[43margs\u001b[49m\u001b[43m,\u001b[49m\u001b[43m \u001b[49m\u001b[38;5;241;43m*\u001b[39;49m\u001b[38;5;241;43m*\u001b[39;49m\u001b[43mkwargs\u001b[49m\u001b[43m)\u001b[49m\n",
      "File \u001b[1;32mc:\\Users\\Eliud\\AppData\\Local\\Programs\\Python\\Python311\\Lib\\site-packages\\sklearn\\pipeline.py:427\u001b[0m, in \u001b[0;36mPipeline.fit\u001b[1;34m(self, X, y, **fit_params)\u001b[0m\n\u001b[0;32m    425\u001b[0m     \u001b[38;5;28;01mif\u001b[39;00m \u001b[38;5;28mself\u001b[39m\u001b[38;5;241m.\u001b[39m_final_estimator \u001b[38;5;241m!=\u001b[39m \u001b[38;5;124m\"\u001b[39m\u001b[38;5;124mpassthrough\u001b[39m\u001b[38;5;124m\"\u001b[39m:\n\u001b[0;32m    426\u001b[0m         fit_params_last_step \u001b[38;5;241m=\u001b[39m fit_params_steps[\u001b[38;5;28mself\u001b[39m\u001b[38;5;241m.\u001b[39msteps[\u001b[38;5;241m-\u001b[39m\u001b[38;5;241m1\u001b[39m][\u001b[38;5;241m0\u001b[39m]]\n\u001b[1;32m--> 427\u001b[0m         \u001b[38;5;28;43mself\u001b[39;49m\u001b[38;5;241;43m.\u001b[39;49m\u001b[43m_final_estimator\u001b[49m\u001b[38;5;241;43m.\u001b[39;49m\u001b[43mfit\u001b[49m\u001b[43m(\u001b[49m\u001b[43mXt\u001b[49m\u001b[43m,\u001b[49m\u001b[43m \u001b[49m\u001b[43my\u001b[49m\u001b[43m,\u001b[49m\u001b[43m \u001b[49m\u001b[38;5;241;43m*\u001b[39;49m\u001b[38;5;241;43m*\u001b[39;49m\u001b[43mfit_params_last_step\u001b[49m\u001b[43m)\u001b[49m\n\u001b[0;32m    429\u001b[0m \u001b[38;5;28;01mreturn\u001b[39;00m \u001b[38;5;28mself\u001b[39m\n",
      "File \u001b[1;32mc:\\Users\\Eliud\\AppData\\Local\\Programs\\Python\\Python311\\Lib\\site-packages\\sklearn\\base.py:1152\u001b[0m, in \u001b[0;36m_fit_context.<locals>.decorator.<locals>.wrapper\u001b[1;34m(estimator, *args, **kwargs)\u001b[0m\n\u001b[0;32m   1145\u001b[0m     estimator\u001b[38;5;241m.\u001b[39m_validate_params()\n\u001b[0;32m   1147\u001b[0m \u001b[38;5;28;01mwith\u001b[39;00m config_context(\n\u001b[0;32m   1148\u001b[0m     skip_parameter_validation\u001b[38;5;241m=\u001b[39m(\n\u001b[0;32m   1149\u001b[0m         prefer_skip_nested_validation \u001b[38;5;129;01mor\u001b[39;00m global_skip_validation\n\u001b[0;32m   1150\u001b[0m     )\n\u001b[0;32m   1151\u001b[0m ):\n\u001b[1;32m-> 1152\u001b[0m     \u001b[38;5;28;01mreturn\u001b[39;00m \u001b[43mfit_method\u001b[49m\u001b[43m(\u001b[49m\u001b[43mestimator\u001b[49m\u001b[43m,\u001b[49m\u001b[43m \u001b[49m\u001b[38;5;241;43m*\u001b[39;49m\u001b[43margs\u001b[49m\u001b[43m,\u001b[49m\u001b[43m \u001b[49m\u001b[38;5;241;43m*\u001b[39;49m\u001b[38;5;241;43m*\u001b[39;49m\u001b[43mkwargs\u001b[49m\u001b[43m)\u001b[49m\n",
      "File \u001b[1;32mc:\\Users\\Eliud\\AppData\\Local\\Programs\\Python\\Python311\\Lib\\site-packages\\sklearn\\ensemble\\_forest.py:456\u001b[0m, in \u001b[0;36mBaseForest.fit\u001b[1;34m(self, X, y, sample_weight)\u001b[0m\n\u001b[0;32m    445\u001b[0m trees \u001b[38;5;241m=\u001b[39m [\n\u001b[0;32m    446\u001b[0m     \u001b[38;5;28mself\u001b[39m\u001b[38;5;241m.\u001b[39m_make_estimator(append\u001b[38;5;241m=\u001b[39m\u001b[38;5;28;01mFalse\u001b[39;00m, random_state\u001b[38;5;241m=\u001b[39mrandom_state)\n\u001b[0;32m    447\u001b[0m     \u001b[38;5;28;01mfor\u001b[39;00m i \u001b[38;5;129;01min\u001b[39;00m \u001b[38;5;28mrange\u001b[39m(n_more_estimators)\n\u001b[0;32m    448\u001b[0m ]\n\u001b[0;32m    450\u001b[0m \u001b[38;5;66;03m# Parallel loop: we prefer the threading backend as the Cython code\u001b[39;00m\n\u001b[0;32m    451\u001b[0m \u001b[38;5;66;03m# for fitting the trees is internally releasing the Python GIL\u001b[39;00m\n\u001b[0;32m    452\u001b[0m \u001b[38;5;66;03m# making threading more efficient than multiprocessing in\u001b[39;00m\n\u001b[0;32m    453\u001b[0m \u001b[38;5;66;03m# that case. However, for joblib 0.12+ we respect any\u001b[39;00m\n\u001b[0;32m    454\u001b[0m \u001b[38;5;66;03m# parallel_backend contexts set at a higher level,\u001b[39;00m\n\u001b[0;32m    455\u001b[0m \u001b[38;5;66;03m# since correctness does not rely on using threads.\u001b[39;00m\n\u001b[1;32m--> 456\u001b[0m trees \u001b[38;5;241m=\u001b[39m \u001b[43mParallel\u001b[49m\u001b[43m(\u001b[49m\n\u001b[0;32m    457\u001b[0m \u001b[43m    \u001b[49m\u001b[43mn_jobs\u001b[49m\u001b[38;5;241;43m=\u001b[39;49m\u001b[38;5;28;43mself\u001b[39;49m\u001b[38;5;241;43m.\u001b[39;49m\u001b[43mn_jobs\u001b[49m\u001b[43m,\u001b[49m\n\u001b[0;32m    458\u001b[0m \u001b[43m    \u001b[49m\u001b[43mverbose\u001b[49m\u001b[38;5;241;43m=\u001b[39;49m\u001b[38;5;28;43mself\u001b[39;49m\u001b[38;5;241;43m.\u001b[39;49m\u001b[43mverbose\u001b[49m\u001b[43m,\u001b[49m\n\u001b[0;32m    459\u001b[0m \u001b[43m    \u001b[49m\u001b[43mprefer\u001b[49m\u001b[38;5;241;43m=\u001b[39;49m\u001b[38;5;124;43m\"\u001b[39;49m\u001b[38;5;124;43mthreads\u001b[39;49m\u001b[38;5;124;43m\"\u001b[39;49m\u001b[43m,\u001b[49m\n\u001b[0;32m    460\u001b[0m \u001b[43m\u001b[49m\u001b[43m)\u001b[49m\u001b[43m(\u001b[49m\n\u001b[0;32m    461\u001b[0m \u001b[43m    \u001b[49m\u001b[43mdelayed\u001b[49m\u001b[43m(\u001b[49m\u001b[43m_parallel_build_trees\u001b[49m\u001b[43m)\u001b[49m\u001b[43m(\u001b[49m\n\u001b[0;32m    462\u001b[0m \u001b[43m        \u001b[49m\u001b[43mt\u001b[49m\u001b[43m,\u001b[49m\n\u001b[0;32m    463\u001b[0m \u001b[43m        \u001b[49m\u001b[38;5;28;43mself\u001b[39;49m\u001b[38;5;241;43m.\u001b[39;49m\u001b[43mbootstrap\u001b[49m\u001b[43m,\u001b[49m\n\u001b[0;32m    464\u001b[0m \u001b[43m        \u001b[49m\u001b[43mX\u001b[49m\u001b[43m,\u001b[49m\n\u001b[0;32m    465\u001b[0m \u001b[43m        \u001b[49m\u001b[43my\u001b[49m\u001b[43m,\u001b[49m\n\u001b[0;32m    466\u001b[0m \u001b[43m        \u001b[49m\u001b[43msample_weight\u001b[49m\u001b[43m,\u001b[49m\n\u001b[0;32m    467\u001b[0m \u001b[43m        \u001b[49m\u001b[43mi\u001b[49m\u001b[43m,\u001b[49m\n\u001b[0;32m    468\u001b[0m \u001b[43m        \u001b[49m\u001b[38;5;28;43mlen\u001b[39;49m\u001b[43m(\u001b[49m\u001b[43mtrees\u001b[49m\u001b[43m)\u001b[49m\u001b[43m,\u001b[49m\n\u001b[0;32m    469\u001b[0m \u001b[43m        \u001b[49m\u001b[43mverbose\u001b[49m\u001b[38;5;241;43m=\u001b[39;49m\u001b[38;5;28;43mself\u001b[39;49m\u001b[38;5;241;43m.\u001b[39;49m\u001b[43mverbose\u001b[49m\u001b[43m,\u001b[49m\n\u001b[0;32m    470\u001b[0m \u001b[43m        \u001b[49m\u001b[43mclass_weight\u001b[49m\u001b[38;5;241;43m=\u001b[39;49m\u001b[38;5;28;43mself\u001b[39;49m\u001b[38;5;241;43m.\u001b[39;49m\u001b[43mclass_weight\u001b[49m\u001b[43m,\u001b[49m\n\u001b[0;32m    471\u001b[0m \u001b[43m        \u001b[49m\u001b[43mn_samples_bootstrap\u001b[49m\u001b[38;5;241;43m=\u001b[39;49m\u001b[43mn_samples_bootstrap\u001b[49m\u001b[43m,\u001b[49m\n\u001b[0;32m    472\u001b[0m \u001b[43m    \u001b[49m\u001b[43m)\u001b[49m\n\u001b[0;32m    473\u001b[0m \u001b[43m    \u001b[49m\u001b[38;5;28;43;01mfor\u001b[39;49;00m\u001b[43m \u001b[49m\u001b[43mi\u001b[49m\u001b[43m,\u001b[49m\u001b[43m \u001b[49m\u001b[43mt\u001b[49m\u001b[43m \u001b[49m\u001b[38;5;129;43;01min\u001b[39;49;00m\u001b[43m \u001b[49m\u001b[38;5;28;43menumerate\u001b[39;49m\u001b[43m(\u001b[49m\u001b[43mtrees\u001b[49m\u001b[43m)\u001b[49m\n\u001b[0;32m    474\u001b[0m \u001b[43m\u001b[49m\u001b[43m)\u001b[49m\n\u001b[0;32m    476\u001b[0m \u001b[38;5;66;03m# Collect newly grown trees\u001b[39;00m\n\u001b[0;32m    477\u001b[0m \u001b[38;5;28mself\u001b[39m\u001b[38;5;241m.\u001b[39mestimators_\u001b[38;5;241m.\u001b[39mextend(trees)\n",
      "File \u001b[1;32mc:\\Users\\Eliud\\AppData\\Local\\Programs\\Python\\Python311\\Lib\\site-packages\\sklearn\\utils\\parallel.py:65\u001b[0m, in \u001b[0;36mParallel.__call__\u001b[1;34m(self, iterable)\u001b[0m\n\u001b[0;32m     60\u001b[0m config \u001b[38;5;241m=\u001b[39m get_config()\n\u001b[0;32m     61\u001b[0m iterable_with_config \u001b[38;5;241m=\u001b[39m (\n\u001b[0;32m     62\u001b[0m     (_with_config(delayed_func, config), args, kwargs)\n\u001b[0;32m     63\u001b[0m     \u001b[38;5;28;01mfor\u001b[39;00m delayed_func, args, kwargs \u001b[38;5;129;01min\u001b[39;00m iterable\n\u001b[0;32m     64\u001b[0m )\n\u001b[1;32m---> 65\u001b[0m \u001b[38;5;28;01mreturn\u001b[39;00m \u001b[38;5;28;43msuper\u001b[39;49m\u001b[43m(\u001b[49m\u001b[43m)\u001b[49m\u001b[38;5;241;43m.\u001b[39;49m\u001b[38;5;21;43m__call__\u001b[39;49m\u001b[43m(\u001b[49m\u001b[43miterable_with_config\u001b[49m\u001b[43m)\u001b[49m\n",
      "File \u001b[1;32mc:\\Users\\Eliud\\AppData\\Local\\Programs\\Python\\Python311\\Lib\\site-packages\\joblib\\parallel.py:1863\u001b[0m, in \u001b[0;36mParallel.__call__\u001b[1;34m(self, iterable)\u001b[0m\n\u001b[0;32m   1861\u001b[0m     output \u001b[38;5;241m=\u001b[39m \u001b[38;5;28mself\u001b[39m\u001b[38;5;241m.\u001b[39m_get_sequential_output(iterable)\n\u001b[0;32m   1862\u001b[0m     \u001b[38;5;28mnext\u001b[39m(output)\n\u001b[1;32m-> 1863\u001b[0m     \u001b[38;5;28;01mreturn\u001b[39;00m output \u001b[38;5;28;01mif\u001b[39;00m \u001b[38;5;28mself\u001b[39m\u001b[38;5;241m.\u001b[39mreturn_generator \u001b[38;5;28;01melse\u001b[39;00m \u001b[38;5;28mlist\u001b[39m(output)\n\u001b[0;32m   1865\u001b[0m \u001b[38;5;66;03m# Let's create an ID that uniquely identifies the current call. If the\u001b[39;00m\n\u001b[0;32m   1866\u001b[0m \u001b[38;5;66;03m# call is interrupted early and that the same instance is immediately\u001b[39;00m\n\u001b[0;32m   1867\u001b[0m \u001b[38;5;66;03m# re-used, this id will be used to prevent workers that were\u001b[39;00m\n\u001b[0;32m   1868\u001b[0m \u001b[38;5;66;03m# concurrently finalizing a task from the previous call to run the\u001b[39;00m\n\u001b[0;32m   1869\u001b[0m \u001b[38;5;66;03m# callback.\u001b[39;00m\n\u001b[0;32m   1870\u001b[0m \u001b[38;5;28;01mwith\u001b[39;00m \u001b[38;5;28mself\u001b[39m\u001b[38;5;241m.\u001b[39m_lock:\n",
      "File \u001b[1;32mc:\\Users\\Eliud\\AppData\\Local\\Programs\\Python\\Python311\\Lib\\site-packages\\joblib\\parallel.py:1792\u001b[0m, in \u001b[0;36mParallel._get_sequential_output\u001b[1;34m(self, iterable)\u001b[0m\n\u001b[0;32m   1790\u001b[0m \u001b[38;5;28mself\u001b[39m\u001b[38;5;241m.\u001b[39mn_dispatched_batches \u001b[38;5;241m+\u001b[39m\u001b[38;5;241m=\u001b[39m \u001b[38;5;241m1\u001b[39m\n\u001b[0;32m   1791\u001b[0m \u001b[38;5;28mself\u001b[39m\u001b[38;5;241m.\u001b[39mn_dispatched_tasks \u001b[38;5;241m+\u001b[39m\u001b[38;5;241m=\u001b[39m \u001b[38;5;241m1\u001b[39m\n\u001b[1;32m-> 1792\u001b[0m res \u001b[38;5;241m=\u001b[39m \u001b[43mfunc\u001b[49m\u001b[43m(\u001b[49m\u001b[38;5;241;43m*\u001b[39;49m\u001b[43margs\u001b[49m\u001b[43m,\u001b[49m\u001b[43m \u001b[49m\u001b[38;5;241;43m*\u001b[39;49m\u001b[38;5;241;43m*\u001b[39;49m\u001b[43mkwargs\u001b[49m\u001b[43m)\u001b[49m\n\u001b[0;32m   1793\u001b[0m \u001b[38;5;28mself\u001b[39m\u001b[38;5;241m.\u001b[39mn_completed_tasks \u001b[38;5;241m+\u001b[39m\u001b[38;5;241m=\u001b[39m \u001b[38;5;241m1\u001b[39m\n\u001b[0;32m   1794\u001b[0m \u001b[38;5;28mself\u001b[39m\u001b[38;5;241m.\u001b[39mprint_progress()\n",
      "File \u001b[1;32mc:\\Users\\Eliud\\AppData\\Local\\Programs\\Python\\Python311\\Lib\\site-packages\\sklearn\\utils\\parallel.py:127\u001b[0m, in \u001b[0;36m_FuncWrapper.__call__\u001b[1;34m(self, *args, **kwargs)\u001b[0m\n\u001b[0;32m    125\u001b[0m     config \u001b[38;5;241m=\u001b[39m {}\n\u001b[0;32m    126\u001b[0m \u001b[38;5;28;01mwith\u001b[39;00m config_context(\u001b[38;5;241m*\u001b[39m\u001b[38;5;241m*\u001b[39mconfig):\n\u001b[1;32m--> 127\u001b[0m     \u001b[38;5;28;01mreturn\u001b[39;00m \u001b[38;5;28;43mself\u001b[39;49m\u001b[38;5;241;43m.\u001b[39;49m\u001b[43mfunction\u001b[49m\u001b[43m(\u001b[49m\u001b[38;5;241;43m*\u001b[39;49m\u001b[43margs\u001b[49m\u001b[43m,\u001b[49m\u001b[43m \u001b[49m\u001b[38;5;241;43m*\u001b[39;49m\u001b[38;5;241;43m*\u001b[39;49m\u001b[43mkwargs\u001b[49m\u001b[43m)\u001b[49m\n",
      "File \u001b[1;32mc:\\Users\\Eliud\\AppData\\Local\\Programs\\Python\\Python311\\Lib\\site-packages\\sklearn\\ensemble\\_forest.py:188\u001b[0m, in \u001b[0;36m_parallel_build_trees\u001b[1;34m(tree, bootstrap, X, y, sample_weight, tree_idx, n_trees, verbose, class_weight, n_samples_bootstrap)\u001b[0m\n\u001b[0;32m    185\u001b[0m     \u001b[38;5;28;01melif\u001b[39;00m class_weight \u001b[38;5;241m==\u001b[39m \u001b[38;5;124m\"\u001b[39m\u001b[38;5;124mbalanced_subsample\u001b[39m\u001b[38;5;124m\"\u001b[39m:\n\u001b[0;32m    186\u001b[0m         curr_sample_weight \u001b[38;5;241m*\u001b[39m\u001b[38;5;241m=\u001b[39m compute_sample_weight(\u001b[38;5;124m\"\u001b[39m\u001b[38;5;124mbalanced\u001b[39m\u001b[38;5;124m\"\u001b[39m, y, indices\u001b[38;5;241m=\u001b[39mindices)\n\u001b[1;32m--> 188\u001b[0m     \u001b[43mtree\u001b[49m\u001b[38;5;241;43m.\u001b[39;49m\u001b[43mfit\u001b[49m\u001b[43m(\u001b[49m\u001b[43mX\u001b[49m\u001b[43m,\u001b[49m\u001b[43m \u001b[49m\u001b[43my\u001b[49m\u001b[43m,\u001b[49m\u001b[43m \u001b[49m\u001b[43msample_weight\u001b[49m\u001b[38;5;241;43m=\u001b[39;49m\u001b[43mcurr_sample_weight\u001b[49m\u001b[43m,\u001b[49m\u001b[43m \u001b[49m\u001b[43mcheck_input\u001b[49m\u001b[38;5;241;43m=\u001b[39;49m\u001b[38;5;28;43;01mFalse\u001b[39;49;00m\u001b[43m)\u001b[49m\n\u001b[0;32m    189\u001b[0m \u001b[38;5;28;01melse\u001b[39;00m:\n\u001b[0;32m    190\u001b[0m     tree\u001b[38;5;241m.\u001b[39mfit(X, y, sample_weight\u001b[38;5;241m=\u001b[39msample_weight, check_input\u001b[38;5;241m=\u001b[39m\u001b[38;5;28;01mFalse\u001b[39;00m)\n",
      "File \u001b[1;32mc:\\Users\\Eliud\\AppData\\Local\\Programs\\Python\\Python311\\Lib\\site-packages\\sklearn\\base.py:1152\u001b[0m, in \u001b[0;36m_fit_context.<locals>.decorator.<locals>.wrapper\u001b[1;34m(estimator, *args, **kwargs)\u001b[0m\n\u001b[0;32m   1145\u001b[0m     estimator\u001b[38;5;241m.\u001b[39m_validate_params()\n\u001b[0;32m   1147\u001b[0m \u001b[38;5;28;01mwith\u001b[39;00m config_context(\n\u001b[0;32m   1148\u001b[0m     skip_parameter_validation\u001b[38;5;241m=\u001b[39m(\n\u001b[0;32m   1149\u001b[0m         prefer_skip_nested_validation \u001b[38;5;129;01mor\u001b[39;00m global_skip_validation\n\u001b[0;32m   1150\u001b[0m     )\n\u001b[0;32m   1151\u001b[0m ):\n\u001b[1;32m-> 1152\u001b[0m     \u001b[38;5;28;01mreturn\u001b[39;00m \u001b[43mfit_method\u001b[49m\u001b[43m(\u001b[49m\u001b[43mestimator\u001b[49m\u001b[43m,\u001b[49m\u001b[43m \u001b[49m\u001b[38;5;241;43m*\u001b[39;49m\u001b[43margs\u001b[49m\u001b[43m,\u001b[49m\u001b[43m \u001b[49m\u001b[38;5;241;43m*\u001b[39;49m\u001b[38;5;241;43m*\u001b[39;49m\u001b[43mkwargs\u001b[49m\u001b[43m)\u001b[49m\n",
      "File \u001b[1;32mc:\\Users\\Eliud\\AppData\\Local\\Programs\\Python\\Python311\\Lib\\site-packages\\sklearn\\tree\\_classes.py:959\u001b[0m, in \u001b[0;36mDecisionTreeClassifier.fit\u001b[1;34m(self, X, y, sample_weight, check_input)\u001b[0m\n\u001b[0;32m    928\u001b[0m \u001b[38;5;129m@_fit_context\u001b[39m(prefer_skip_nested_validation\u001b[38;5;241m=\u001b[39m\u001b[38;5;28;01mTrue\u001b[39;00m)\n\u001b[0;32m    929\u001b[0m \u001b[38;5;28;01mdef\u001b[39;00m \u001b[38;5;21mfit\u001b[39m(\u001b[38;5;28mself\u001b[39m, X, y, sample_weight\u001b[38;5;241m=\u001b[39m\u001b[38;5;28;01mNone\u001b[39;00m, check_input\u001b[38;5;241m=\u001b[39m\u001b[38;5;28;01mTrue\u001b[39;00m):\n\u001b[0;32m    930\u001b[0m \u001b[38;5;250m    \u001b[39m\u001b[38;5;124;03m\"\"\"Build a decision tree classifier from the training set (X, y).\u001b[39;00m\n\u001b[0;32m    931\u001b[0m \n\u001b[0;32m    932\u001b[0m \u001b[38;5;124;03m    Parameters\u001b[39;00m\n\u001b[1;32m   (...)\u001b[0m\n\u001b[0;32m    956\u001b[0m \u001b[38;5;124;03m        Fitted estimator.\u001b[39;00m\n\u001b[0;32m    957\u001b[0m \u001b[38;5;124;03m    \"\"\"\u001b[39;00m\n\u001b[1;32m--> 959\u001b[0m     \u001b[38;5;28;43msuper\u001b[39;49m\u001b[43m(\u001b[49m\u001b[43m)\u001b[49m\u001b[38;5;241;43m.\u001b[39;49m\u001b[43m_fit\u001b[49m\u001b[43m(\u001b[49m\n\u001b[0;32m    960\u001b[0m \u001b[43m        \u001b[49m\u001b[43mX\u001b[49m\u001b[43m,\u001b[49m\n\u001b[0;32m    961\u001b[0m \u001b[43m        \u001b[49m\u001b[43my\u001b[49m\u001b[43m,\u001b[49m\n\u001b[0;32m    962\u001b[0m \u001b[43m        \u001b[49m\u001b[43msample_weight\u001b[49m\u001b[38;5;241;43m=\u001b[39;49m\u001b[43msample_weight\u001b[49m\u001b[43m,\u001b[49m\n\u001b[0;32m    963\u001b[0m \u001b[43m        \u001b[49m\u001b[43mcheck_input\u001b[49m\u001b[38;5;241;43m=\u001b[39;49m\u001b[43mcheck_input\u001b[49m\u001b[43m,\u001b[49m\n\u001b[0;32m    964\u001b[0m \u001b[43m    \u001b[49m\u001b[43m)\u001b[49m\n\u001b[0;32m    965\u001b[0m     \u001b[38;5;28;01mreturn\u001b[39;00m \u001b[38;5;28mself\u001b[39m\n",
      "File \u001b[1;32mc:\\Users\\Eliud\\AppData\\Local\\Programs\\Python\\Python311\\Lib\\site-packages\\sklearn\\tree\\_classes.py:443\u001b[0m, in \u001b[0;36mBaseDecisionTree._fit\u001b[1;34m(self, X, y, sample_weight, check_input, missing_values_in_feature_mask)\u001b[0m\n\u001b[0;32m    432\u001b[0m \u001b[38;5;28;01melse\u001b[39;00m:\n\u001b[0;32m    433\u001b[0m     builder \u001b[38;5;241m=\u001b[39m BestFirstTreeBuilder(\n\u001b[0;32m    434\u001b[0m         splitter,\n\u001b[0;32m    435\u001b[0m         min_samples_split,\n\u001b[1;32m   (...)\u001b[0m\n\u001b[0;32m    440\u001b[0m         \u001b[38;5;28mself\u001b[39m\u001b[38;5;241m.\u001b[39mmin_impurity_decrease,\n\u001b[0;32m    441\u001b[0m     )\n\u001b[1;32m--> 443\u001b[0m \u001b[43mbuilder\u001b[49m\u001b[38;5;241;43m.\u001b[39;49m\u001b[43mbuild\u001b[49m\u001b[43m(\u001b[49m\u001b[38;5;28;43mself\u001b[39;49m\u001b[38;5;241;43m.\u001b[39;49m\u001b[43mtree_\u001b[49m\u001b[43m,\u001b[49m\u001b[43m \u001b[49m\u001b[43mX\u001b[49m\u001b[43m,\u001b[49m\u001b[43m \u001b[49m\u001b[43my\u001b[49m\u001b[43m,\u001b[49m\u001b[43m \u001b[49m\u001b[43msample_weight\u001b[49m\u001b[43m,\u001b[49m\u001b[43m \u001b[49m\u001b[43mmissing_values_in_feature_mask\u001b[49m\u001b[43m)\u001b[49m\n\u001b[0;32m    445\u001b[0m \u001b[38;5;28;01mif\u001b[39;00m \u001b[38;5;28mself\u001b[39m\u001b[38;5;241m.\u001b[39mn_outputs_ \u001b[38;5;241m==\u001b[39m \u001b[38;5;241m1\u001b[39m \u001b[38;5;129;01mand\u001b[39;00m is_classifier(\u001b[38;5;28mself\u001b[39m):\n\u001b[0;32m    446\u001b[0m     \u001b[38;5;28mself\u001b[39m\u001b[38;5;241m.\u001b[39mn_classes_ \u001b[38;5;241m=\u001b[39m \u001b[38;5;28mself\u001b[39m\u001b[38;5;241m.\u001b[39mn_classes_[\u001b[38;5;241m0\u001b[39m]\n",
      "\u001b[1;31mKeyboardInterrupt\u001b[0m: "
     ]
    }
   ],
   "source": [
    "grid_search.fit(X_train, y_train)"
   ]
  },
  {
   "cell_type": "code",
   "execution_count": null,
   "metadata": {},
   "outputs": [
    {
     "data": {
      "text/plain": [
       "{'RF__bootstrap': False, 'RF__max_depth': 40, 'RF__max_features': 'log2'}"
      ]
     },
     "execution_count": 37,
     "metadata": {},
     "output_type": "execute_result"
    }
   ],
   "source": [
    "grid_search.best_params_"
   ]
  },
  {
   "cell_type": "code",
   "execution_count": null,
   "metadata": {},
   "outputs": [
    {
     "data": {
      "text/plain": [
       "0.8810248198558845"
      ]
     },
     "execution_count": 38,
     "metadata": {},
     "output_type": "execute_result"
    }
   ],
   "source": [
    "grid_search.best_score_"
   ]
  },
  {
   "cell_type": "markdown",
   "metadata": {},
   "source": [
    "# Entrenamiento con los datos de prueba\n",
    "<hr>"
   ]
  },
  {
   "cell_type": "code",
   "execution_count": null,
   "metadata": {},
   "outputs": [],
   "source": [
    "pipe = Pipeline([\n",
    "    ('svc', RandomForestClassifier(bootstrap=False, max_depth=40, max_features=\"log2\"))\n",
    "])"
   ]
  },
  {
   "cell_type": "code",
   "execution_count": null,
   "metadata": {},
   "outputs": [
    {
     "data": {
      "text/html": [
       "<style>#sk-container-id-2 {color: black;}#sk-container-id-2 pre{padding: 0;}#sk-container-id-2 div.sk-toggleable {background-color: white;}#sk-container-id-2 label.sk-toggleable__label {cursor: pointer;display: block;width: 100%;margin-bottom: 0;padding: 0.3em;box-sizing: border-box;text-align: center;}#sk-container-id-2 label.sk-toggleable__label-arrow:before {content: \"▸\";float: left;margin-right: 0.25em;color: #696969;}#sk-container-id-2 label.sk-toggleable__label-arrow:hover:before {color: black;}#sk-container-id-2 div.sk-estimator:hover label.sk-toggleable__label-arrow:before {color: black;}#sk-container-id-2 div.sk-toggleable__content {max-height: 0;max-width: 0;overflow: hidden;text-align: left;background-color: #f0f8ff;}#sk-container-id-2 div.sk-toggleable__content pre {margin: 0.2em;color: black;border-radius: 0.25em;background-color: #f0f8ff;}#sk-container-id-2 input.sk-toggleable__control:checked~div.sk-toggleable__content {max-height: 200px;max-width: 100%;overflow: auto;}#sk-container-id-2 input.sk-toggleable__control:checked~label.sk-toggleable__label-arrow:before {content: \"▾\";}#sk-container-id-2 div.sk-estimator input.sk-toggleable__control:checked~label.sk-toggleable__label {background-color: #d4ebff;}#sk-container-id-2 div.sk-label input.sk-toggleable__control:checked~label.sk-toggleable__label {background-color: #d4ebff;}#sk-container-id-2 input.sk-hidden--visually {border: 0;clip: rect(1px 1px 1px 1px);clip: rect(1px, 1px, 1px, 1px);height: 1px;margin: -1px;overflow: hidden;padding: 0;position: absolute;width: 1px;}#sk-container-id-2 div.sk-estimator {font-family: monospace;background-color: #f0f8ff;border: 1px dotted black;border-radius: 0.25em;box-sizing: border-box;margin-bottom: 0.5em;}#sk-container-id-2 div.sk-estimator:hover {background-color: #d4ebff;}#sk-container-id-2 div.sk-parallel-item::after {content: \"\";width: 100%;border-bottom: 1px solid gray;flex-grow: 1;}#sk-container-id-2 div.sk-label:hover label.sk-toggleable__label {background-color: #d4ebff;}#sk-container-id-2 div.sk-serial::before {content: \"\";position: absolute;border-left: 1px solid gray;box-sizing: border-box;top: 0;bottom: 0;left: 50%;z-index: 0;}#sk-container-id-2 div.sk-serial {display: flex;flex-direction: column;align-items: center;background-color: white;padding-right: 0.2em;padding-left: 0.2em;position: relative;}#sk-container-id-2 div.sk-item {position: relative;z-index: 1;}#sk-container-id-2 div.sk-parallel {display: flex;align-items: stretch;justify-content: center;background-color: white;position: relative;}#sk-container-id-2 div.sk-item::before, #sk-container-id-2 div.sk-parallel-item::before {content: \"\";position: absolute;border-left: 1px solid gray;box-sizing: border-box;top: 0;bottom: 0;left: 50%;z-index: -1;}#sk-container-id-2 div.sk-parallel-item {display: flex;flex-direction: column;z-index: 1;position: relative;background-color: white;}#sk-container-id-2 div.sk-parallel-item:first-child::after {align-self: flex-end;width: 50%;}#sk-container-id-2 div.sk-parallel-item:last-child::after {align-self: flex-start;width: 50%;}#sk-container-id-2 div.sk-parallel-item:only-child::after {width: 0;}#sk-container-id-2 div.sk-dashed-wrapped {border: 1px dashed gray;margin: 0 0.4em 0.5em 0.4em;box-sizing: border-box;padding-bottom: 0.4em;background-color: white;}#sk-container-id-2 div.sk-label label {font-family: monospace;font-weight: bold;display: inline-block;line-height: 1.2em;}#sk-container-id-2 div.sk-label-container {text-align: center;}#sk-container-id-2 div.sk-container {/* jupyter's `normalize.less` sets `[hidden] { display: none; }` but bootstrap.min.css set `[hidden] { display: none !important; }` so we also need the `!important` here to be able to override the default hidden behavior on the sphinx rendered scikit-learn.org. See: https://github.com/scikit-learn/scikit-learn/issues/21755 */display: inline-block !important;position: relative;}#sk-container-id-2 div.sk-text-repr-fallback {display: none;}</style><div id=\"sk-container-id-2\" class=\"sk-top-container\"><div class=\"sk-text-repr-fallback\"><pre>Pipeline(steps=[(&#x27;svc&#x27;,\n",
       "                 RandomForestClassifier(bootstrap=False, max_depth=40,\n",
       "                                        max_features=&#x27;log2&#x27;))])</pre><b>In a Jupyter environment, please rerun this cell to show the HTML representation or trust the notebook. <br />On GitHub, the HTML representation is unable to render, please try loading this page with nbviewer.org.</b></div><div class=\"sk-container\" hidden><div class=\"sk-item sk-dashed-wrapped\"><div class=\"sk-label-container\"><div class=\"sk-label sk-toggleable\"><input class=\"sk-toggleable__control sk-hidden--visually\" id=\"sk-estimator-id-4\" type=\"checkbox\" ><label for=\"sk-estimator-id-4\" class=\"sk-toggleable__label sk-toggleable__label-arrow\">Pipeline</label><div class=\"sk-toggleable__content\"><pre>Pipeline(steps=[(&#x27;svc&#x27;,\n",
       "                 RandomForestClassifier(bootstrap=False, max_depth=40,\n",
       "                                        max_features=&#x27;log2&#x27;))])</pre></div></div></div><div class=\"sk-serial\"><div class=\"sk-item\"><div class=\"sk-estimator sk-toggleable\"><input class=\"sk-toggleable__control sk-hidden--visually\" id=\"sk-estimator-id-5\" type=\"checkbox\" ><label for=\"sk-estimator-id-5\" class=\"sk-toggleable__label sk-toggleable__label-arrow\">RandomForestClassifier</label><div class=\"sk-toggleable__content\"><pre>RandomForestClassifier(bootstrap=False, max_depth=40, max_features=&#x27;log2&#x27;)</pre></div></div></div></div></div></div></div>"
      ],
      "text/plain": [
       "Pipeline(steps=[('svc',\n",
       "                 RandomForestClassifier(bootstrap=False, max_depth=40,\n",
       "                                        max_features='log2'))])"
      ]
     },
     "execution_count": 42,
     "metadata": {},
     "output_type": "execute_result"
    }
   ],
   "source": [
    "pipe.fit(X_train, y_train)"
   ]
  },
  {
   "cell_type": "markdown",
   "metadata": {},
   "source": [
    "# Resultados del modelo\n",
    "<hr>"
   ]
  },
  {
   "cell_type": "code",
   "execution_count": null,
   "metadata": {},
   "outputs": [],
   "source": [
    "y_predicha = pipe.predict(X_test)"
   ]
  },
  {
   "cell_type": "code",
   "execution_count": null,
   "metadata": {},
   "outputs": [
    {
     "name": "stdout",
     "output_type": "stream",
     "text": [
      "Accuracy 0.882\n",
      "Recall 0.882\n",
      "precision 0.881\n",
      "f1 0.881\n"
     ]
    }
   ],
   "source": [
    "#Calcular estadísticos\n",
    "accuracy = accuracy_score(y_test, y_predicha)\n",
    "recall = recall_score(y_test, y_predicha, average='weighted')\n",
    "precision = precision_score(y_test, y_predicha, average='weighted')\n",
    "f1 = f1_score(y_test, y_predicha, average='weighted')\n",
    "print(\"Accuracy\", round(accuracy, 3))\n",
    "print(\"Recall\", round(recall, 3))\n",
    "print(\"precision\", round(precision,3))\n",
    "print(\"f1\", round(f1,3))"
   ]
  },
  {
   "cell_type": "code",
   "execution_count": null,
   "metadata": {},
   "outputs": [],
   "source": [
    "y_entrenamiento = pipe.predict(X_train)"
   ]
  },
  {
   "cell_type": "code",
   "execution_count": null,
   "metadata": {},
   "outputs": [
    {
     "name": "stdout",
     "output_type": "stream",
     "text": [
      "Accuracy 0.983\n",
      "Recall 0.983\n",
      "precision 1.0\n",
      "f1 0.983\n"
     ]
    }
   ],
   "source": [
    "accuracy = accuracy_score(y_train, y_entrenamiento)\n",
    "recall = recall_score(y_train, y_entrenamiento, average='weighted')\n",
    "precision = precision_score(y_entrenamiento, y_entrenamiento, average='weighted')\n",
    "f1 = f1_score(y_train, y_entrenamiento, average='weighted')\n",
    "print(\"Accuracy\", round(accuracy, 3))\n",
    "print(\"Recall\", round(recall, 3))\n",
    "print(\"precision\", round(precision,3))\n",
    "print(\"f1\", round(f1,3))"
   ]
  },
  {
   "cell_type": "markdown",
   "metadata": {},
   "source": [
    "# Confusion Matrix\n",
    "<hr>"
   ]
  },
  {
   "cell_type": "code",
   "execution_count": null,
   "metadata": {},
   "outputs": [],
   "source": [
    "from sklearn.metrics import confusion_matrix\n",
    "import seaborn as sns"
   ]
  },
  {
   "cell_type": "code",
   "execution_count": null,
   "metadata": {},
   "outputs": [],
   "source": [
    "mat = confusion_matrix(y_predicha, y_test)"
   ]
  },
  {
   "cell_type": "code",
   "execution_count": null,
   "metadata": {},
   "outputs": [
    {
     "data": {
      "text/plain": [
       "<Axes: >"
      ]
     },
     "execution_count": 49,
     "metadata": {},
     "output_type": "execute_result"
    },
    {
     "data": {
      "image/png": "[encoded data removed]",
      "text/plain": [
       "<Figure size 640x480 with 1 Axes>"
      ]
     },
     "metadata": {},
     "output_type": "display_data"
    }
   ],
   "source": [
    "sns.heatmap(mat.T, square=True, annot=True, fmt='d', cbar = False, xticklabels=df[\"BBB+/BBB-\"].value_counts().index, yticklabels=df[\"BBB+/BBB-\"].value_counts().index)"
   ]
  },
  {
   "cell_type": "markdown",
   "metadata": {},
   "source": [
    "# Guardar modelo\n",
    "<hr>"
   ]
  },
  {
   "cell_type": "code",
   "execution_count": null,
   "metadata": {},
   "outputs": [],
   "source": [
    "import joblib"
   ]
  },
  {
   "cell_type": "code",
   "execution_count": null,
   "metadata": {},
   "outputs": [
    {
     "data": {
      "text/plain": [
       "['../GuardadoDeModelos MD/modelo_RF.joblib']"
      ]
     },
     "execution_count": 51,
     "metadata": {},
     "output_type": "execute_result"
    }
   ],
   "source": [
    "joblib.dump(pipe, '../GuardadoDeModelos MD/modelo_RF.joblib')"
   ]
  },
  {
   "cell_type": "code",
   "execution_count": 13,
   "metadata": {},
   "outputs": [
    {
     "name": "stderr",
     "output_type": "stream",
     "text": [
      "C:\\Users\\Eliud\\AppData\\Local\\Temp\\ipykernel_2608\\3356246948.py:9: FutureWarning: DataFrame.fillna with 'method' is deprecated and will raise in a future version. Use obj.ffill() or obj.bfill() instead.\n",
      "  X.fillna(method='ffill', inplace=True)\n"
     ]
    },
    {
     "name": "stdout",
     "output_type": "stream",
     "text": [
      "Fitting 5 folds for each of 60 candidates, totalling 300 fits\n",
      "[CV] END RF__bootstrap=True, RF__max_depth=10, RF__max_features=sqrt, RF__n_estimators=100; total time=   2.3s\n",
      "[CV] END RF__bootstrap=True, RF__max_depth=10, RF__max_features=sqrt, RF__n_estimators=100; total time=   2.2s\n",
      "[CV] END RF__bootstrap=True, RF__max_depth=10, RF__max_features=sqrt, RF__n_estimators=100; total time=   2.2s\n",
      "[CV] END RF__bootstrap=True, RF__max_depth=10, RF__max_features=sqrt, RF__n_estimators=100; total time=   2.2s\n",
      "[CV] END RF__bootstrap=True, RF__max_depth=10, RF__max_features=sqrt, RF__n_estimators=100; total time=   2.2s\n",
      "[CV] END RF__bootstrap=True, RF__max_depth=10, RF__max_features=sqrt, RF__n_estimators=200; total time=   4.6s\n",
      "[CV] END RF__bootstrap=True, RF__max_depth=10, RF__max_features=sqrt, RF__n_estimators=200; total time=   5.0s\n",
      "[CV] END RF__bootstrap=True, RF__max_depth=10, RF__max_features=sqrt, RF__n_estimators=200; total time=   4.9s\n",
      "[CV] END RF__bootstrap=True, RF__max_depth=10, RF__max_features=sqrt, RF__n_estimators=200; total time=   4.9s\n",
      "[CV] END RF__bootstrap=True, RF__max_depth=10, RF__max_features=sqrt, RF__n_estimators=200; total time=   5.2s\n",
      "[CV] END RF__bootstrap=True, RF__max_depth=10, RF__max_features=sqrt, RF__n_estimators=300; total time=   7.2s\n",
      "[CV] END RF__bootstrap=True, RF__max_depth=10, RF__max_features=sqrt, RF__n_estimators=300; total time=   7.0s\n",
      "[CV] END RF__bootstrap=True, RF__max_depth=10, RF__max_features=sqrt, RF__n_estimators=300; total time=   7.4s\n",
      "[CV] END RF__bootstrap=True, RF__max_depth=10, RF__max_features=sqrt, RF__n_estimators=300; total time=   6.9s\n",
      "[CV] END RF__bootstrap=True, RF__max_depth=10, RF__max_features=sqrt, RF__n_estimators=300; total time=   6.7s\n",
      "[CV] END RF__bootstrap=True, RF__max_depth=10, RF__max_features=log2, RF__n_estimators=100; total time=   1.6s\n",
      "[CV] END RF__bootstrap=True, RF__max_depth=10, RF__max_features=log2, RF__n_estimators=100; total time=   1.6s\n",
      "[CV] END RF__bootstrap=True, RF__max_depth=10, RF__max_features=log2, RF__n_estimators=100; total time=   1.6s\n",
      "[CV] END RF__bootstrap=True, RF__max_depth=10, RF__max_features=log2, RF__n_estimators=100; total time=   1.6s\n",
      "[CV] END RF__bootstrap=True, RF__max_depth=10, RF__max_features=log2, RF__n_estimators=100; total time=   1.7s\n",
      "[CV] END RF__bootstrap=True, RF__max_depth=10, RF__max_features=log2, RF__n_estimators=200; total time=   3.4s\n",
      "[CV] END RF__bootstrap=True, RF__max_depth=10, RF__max_features=log2, RF__n_estimators=200; total time=   3.3s\n",
      "[CV] END RF__bootstrap=True, RF__max_depth=10, RF__max_features=log2, RF__n_estimators=200; total time=   3.3s\n",
      "[CV] END RF__bootstrap=True, RF__max_depth=10, RF__max_features=log2, RF__n_estimators=200; total time=   3.4s\n",
      "[CV] END RF__bootstrap=True, RF__max_depth=10, RF__max_features=log2, RF__n_estimators=200; total time=   3.4s\n",
      "[CV] END RF__bootstrap=True, RF__max_depth=10, RF__max_features=log2, RF__n_estimators=300; total time=   5.0s\n",
      "[CV] END RF__bootstrap=True, RF__max_depth=10, RF__max_features=log2, RF__n_estimators=300; total time=   4.8s\n",
      "[CV] END RF__bootstrap=True, RF__max_depth=10, RF__max_features=log2, RF__n_estimators=300; total time=   5.0s\n",
      "[CV] END RF__bootstrap=True, RF__max_depth=10, RF__max_features=log2, RF__n_estimators=300; total time=   5.1s\n",
      "[CV] END RF__bootstrap=True, RF__max_depth=10, RF__max_features=log2, RF__n_estimators=300; total time=   5.1s\n",
      "[CV] END RF__bootstrap=True, RF__max_depth=20, RF__max_features=sqrt, RF__n_estimators=100; total time=   3.0s\n",
      "[CV] END RF__bootstrap=True, RF__max_depth=20, RF__max_features=sqrt, RF__n_estimators=100; total time=   2.9s\n",
      "[CV] END RF__bootstrap=True, RF__max_depth=20, RF__max_features=sqrt, RF__n_estimators=100; total time=   2.9s\n",
      "[CV] END RF__bootstrap=True, RF__max_depth=20, RF__max_features=sqrt, RF__n_estimators=100; total time=   3.0s\n",
      "[CV] END RF__bootstrap=True, RF__max_depth=20, RF__max_features=sqrt, RF__n_estimators=100; total time=   2.9s\n",
      "[CV] END RF__bootstrap=True, RF__max_depth=20, RF__max_features=sqrt, RF__n_estimators=200; total time=   5.9s\n",
      "[CV] END RF__bootstrap=True, RF__max_depth=20, RF__max_features=sqrt, RF__n_estimators=200; total time=   6.2s\n",
      "[CV] END RF__bootstrap=True, RF__max_depth=20, RF__max_features=sqrt, RF__n_estimators=200; total time=   6.2s\n",
      "[CV] END RF__bootstrap=True, RF__max_depth=20, RF__max_features=sqrt, RF__n_estimators=200; total time=   6.3s\n",
      "[CV] END RF__bootstrap=True, RF__max_depth=20, RF__max_features=sqrt, RF__n_estimators=200; total time=   6.3s\n",
      "[CV] END RF__bootstrap=True, RF__max_depth=20, RF__max_features=sqrt, RF__n_estimators=300; total time=   9.1s\n",
      "[CV] END RF__bootstrap=True, RF__max_depth=20, RF__max_features=sqrt, RF__n_estimators=300; total time=   9.1s\n",
      "[CV] END RF__bootstrap=True, RF__max_depth=20, RF__max_features=sqrt, RF__n_estimators=300; total time=   9.6s\n",
      "[CV] END RF__bootstrap=True, RF__max_depth=20, RF__max_features=sqrt, RF__n_estimators=300; total time=   9.8s\n",
      "[CV] END RF__bootstrap=True, RF__max_depth=20, RF__max_features=sqrt, RF__n_estimators=300; total time=  10.1s\n",
      "[CV] END RF__bootstrap=True, RF__max_depth=20, RF__max_features=log2, RF__n_estimators=100; total time=   2.3s\n",
      "[CV] END RF__bootstrap=True, RF__max_depth=20, RF__max_features=log2, RF__n_estimators=100; total time=   2.3s\n",
      "[CV] END RF__bootstrap=True, RF__max_depth=20, RF__max_features=log2, RF__n_estimators=100; total time=   2.4s\n",
      "[CV] END RF__bootstrap=True, RF__max_depth=20, RF__max_features=log2, RF__n_estimators=100; total time=   2.2s\n",
      "[CV] END RF__bootstrap=True, RF__max_depth=20, RF__max_features=log2, RF__n_estimators=100; total time=   2.4s\n",
      "[CV] END RF__bootstrap=True, RF__max_depth=20, RF__max_features=log2, RF__n_estimators=200; total time=   4.7s\n",
      "[CV] END RF__bootstrap=True, RF__max_depth=20, RF__max_features=log2, RF__n_estimators=200; total time=   4.7s\n",
      "[CV] END RF__bootstrap=True, RF__max_depth=20, RF__max_features=log2, RF__n_estimators=200; total time=   4.6s\n",
      "[CV] END RF__bootstrap=True, RF__max_depth=20, RF__max_features=log2, RF__n_estimators=200; total time=   4.4s\n",
      "[CV] END RF__bootstrap=True, RF__max_depth=20, RF__max_features=log2, RF__n_estimators=200; total time=   4.9s\n",
      "[CV] END RF__bootstrap=True, RF__max_depth=20, RF__max_features=log2, RF__n_estimators=300; total time=   6.9s\n",
      "[CV] END RF__bootstrap=True, RF__max_depth=20, RF__max_features=log2, RF__n_estimators=300; total time=   7.1s\n",
      "[CV] END RF__bootstrap=True, RF__max_depth=20, RF__max_features=log2, RF__n_estimators=300; total time=   6.9s\n",
      "[CV] END RF__bootstrap=True, RF__max_depth=20, RF__max_features=log2, RF__n_estimators=300; total time=   7.0s\n",
      "[CV] END RF__bootstrap=True, RF__max_depth=20, RF__max_features=log2, RF__n_estimators=300; total time=   7.0s\n",
      "[CV] END RF__bootstrap=True, RF__max_depth=30, RF__max_features=sqrt, RF__n_estimators=100; total time=   3.0s\n",
      "[CV] END RF__bootstrap=True, RF__max_depth=30, RF__max_features=sqrt, RF__n_estimators=100; total time=   3.1s\n",
      "[CV] END RF__bootstrap=True, RF__max_depth=30, RF__max_features=sqrt, RF__n_estimators=100; total time=   3.0s\n",
      "[CV] END RF__bootstrap=True, RF__max_depth=30, RF__max_features=sqrt, RF__n_estimators=100; total time=   3.2s\n",
      "[CV] END RF__bootstrap=True, RF__max_depth=30, RF__max_features=sqrt, RF__n_estimators=100; total time=   3.0s\n",
      "[CV] END RF__bootstrap=True, RF__max_depth=30, RF__max_features=sqrt, RF__n_estimators=200; total time=   6.3s\n",
      "[CV] END RF__bootstrap=True, RF__max_depth=30, RF__max_features=sqrt, RF__n_estimators=200; total time=   6.3s\n",
      "[CV] END RF__bootstrap=True, RF__max_depth=30, RF__max_features=sqrt, RF__n_estimators=200; total time=   6.2s\n",
      "[CV] END RF__bootstrap=True, RF__max_depth=30, RF__max_features=sqrt, RF__n_estimators=200; total time=   6.2s\n",
      "[CV] END RF__bootstrap=True, RF__max_depth=30, RF__max_features=sqrt, RF__n_estimators=200; total time=   6.4s\n",
      "[CV] END RF__bootstrap=True, RF__max_depth=30, RF__max_features=sqrt, RF__n_estimators=300; total time=  10.0s\n",
      "[CV] END RF__bootstrap=True, RF__max_depth=30, RF__max_features=sqrt, RF__n_estimators=300; total time=   9.4s\n",
      "[CV] END RF__bootstrap=True, RF__max_depth=30, RF__max_features=sqrt, RF__n_estimators=300; total time=   9.5s\n",
      "[CV] END RF__bootstrap=True, RF__max_depth=30, RF__max_features=sqrt, RF__n_estimators=300; total time=   9.2s\n",
      "[CV] END RF__bootstrap=True, RF__max_depth=30, RF__max_features=sqrt, RF__n_estimators=300; total time=   9.1s\n",
      "[CV] END RF__bootstrap=True, RF__max_depth=30, RF__max_features=log2, RF__n_estimators=100; total time=   2.2s\n",
      "[CV] END RF__bootstrap=True, RF__max_depth=30, RF__max_features=log2, RF__n_estimators=100; total time=   2.2s\n",
      "[CV] END RF__bootstrap=True, RF__max_depth=30, RF__max_features=log2, RF__n_estimators=100; total time=   2.2s\n",
      "[CV] END RF__bootstrap=True, RF__max_depth=30, RF__max_features=log2, RF__n_estimators=100; total time=   2.5s\n",
      "[CV] END RF__bootstrap=True, RF__max_depth=30, RF__max_features=log2, RF__n_estimators=100; total time=   2.2s\n",
      "[CV] END RF__bootstrap=True, RF__max_depth=30, RF__max_features=log2, RF__n_estimators=200; total time=   4.6s\n",
      "[CV] END RF__bootstrap=True, RF__max_depth=30, RF__max_features=log2, RF__n_estimators=200; total time=   4.8s\n",
      "[CV] END RF__bootstrap=True, RF__max_depth=30, RF__max_features=log2, RF__n_estimators=200; total time=   4.3s\n",
      "[CV] END RF__bootstrap=True, RF__max_depth=30, RF__max_features=log2, RF__n_estimators=200; total time=   4.5s\n",
      "[CV] END RF__bootstrap=True, RF__max_depth=30, RF__max_features=log2, RF__n_estimators=200; total time=   4.6s\n",
      "[CV] END RF__bootstrap=True, RF__max_depth=30, RF__max_features=log2, RF__n_estimators=300; total time=   6.7s\n",
      "[CV] END RF__bootstrap=True, RF__max_depth=30, RF__max_features=log2, RF__n_estimators=300; total time=   6.7s\n",
      "[CV] END RF__bootstrap=True, RF__max_depth=30, RF__max_features=log2, RF__n_estimators=300; total time=   7.0s\n",
      "[CV] END RF__bootstrap=True, RF__max_depth=30, RF__max_features=log2, RF__n_estimators=300; total time=   6.8s\n",
      "[CV] END RF__bootstrap=True, RF__max_depth=30, RF__max_features=log2, RF__n_estimators=300; total time=   7.0s\n",
      "[CV] END RF__bootstrap=True, RF__max_depth=40, RF__max_features=sqrt, RF__n_estimators=100; total time=   2.9s\n",
      "[CV] END RF__bootstrap=True, RF__max_depth=40, RF__max_features=sqrt, RF__n_estimators=100; total time=   3.3s\n",
      "[CV] END RF__bootstrap=True, RF__max_depth=40, RF__max_features=sqrt, RF__n_estimators=100; total time=   3.2s\n",
      "[CV] END RF__bootstrap=True, RF__max_depth=40, RF__max_features=sqrt, RF__n_estimators=100; total time=   3.2s\n",
      "[CV] END RF__bootstrap=True, RF__max_depth=40, RF__max_features=sqrt, RF__n_estimators=100; total time=   3.1s\n",
      "[CV] END RF__bootstrap=True, RF__max_depth=40, RF__max_features=sqrt, RF__n_estimators=200; total time=   6.1s\n",
      "[CV] END RF__bootstrap=True, RF__max_depth=40, RF__max_features=sqrt, RF__n_estimators=200; total time=   6.0s\n",
      "[CV] END RF__bootstrap=True, RF__max_depth=40, RF__max_features=sqrt, RF__n_estimators=200; total time=   6.2s\n",
      "[CV] END RF__bootstrap=True, RF__max_depth=40, RF__max_features=sqrt, RF__n_estimators=200; total time=   5.9s\n",
      "[CV] END RF__bootstrap=True, RF__max_depth=40, RF__max_features=sqrt, RF__n_estimators=200; total time=   6.3s\n",
      "[CV] END RF__bootstrap=True, RF__max_depth=40, RF__max_features=sqrt, RF__n_estimators=300; total time=   9.4s\n",
      "[CV] END RF__bootstrap=True, RF__max_depth=40, RF__max_features=sqrt, RF__n_estimators=300; total time=   9.7s\n",
      "[CV] END RF__bootstrap=True, RF__max_depth=40, RF__max_features=sqrt, RF__n_estimators=300; total time=   9.5s\n",
      "[CV] END RF__bootstrap=True, RF__max_depth=40, RF__max_features=sqrt, RF__n_estimators=300; total time=   9.7s\n",
      "[CV] END RF__bootstrap=True, RF__max_depth=40, RF__max_features=sqrt, RF__n_estimators=300; total time=  10.4s\n",
      "[CV] END RF__bootstrap=True, RF__max_depth=40, RF__max_features=log2, RF__n_estimators=100; total time=   2.6s\n",
      "[CV] END RF__bootstrap=True, RF__max_depth=40, RF__max_features=log2, RF__n_estimators=100; total time=   2.8s\n",
      "[CV] END RF__bootstrap=True, RF__max_depth=40, RF__max_features=log2, RF__n_estimators=100; total time=   2.1s\n",
      "[CV] END RF__bootstrap=True, RF__max_depth=40, RF__max_features=log2, RF__n_estimators=100; total time=   2.1s\n",
      "[CV] END RF__bootstrap=True, RF__max_depth=40, RF__max_features=log2, RF__n_estimators=100; total time=   2.2s\n",
      "[CV] END RF__bootstrap=True, RF__max_depth=40, RF__max_features=log2, RF__n_estimators=200; total time=   4.3s\n",
      "[CV] END RF__bootstrap=True, RF__max_depth=40, RF__max_features=log2, RF__n_estimators=200; total time=   4.8s\n",
      "[CV] END RF__bootstrap=True, RF__max_depth=40, RF__max_features=log2, RF__n_estimators=200; total time=   5.3s\n",
      "[CV] END RF__bootstrap=True, RF__max_depth=40, RF__max_features=log2, RF__n_estimators=200; total time=   5.0s\n",
      "[CV] END RF__bootstrap=True, RF__max_depth=40, RF__max_features=log2, RF__n_estimators=200; total time=   4.8s\n",
      "[CV] END RF__bootstrap=True, RF__max_depth=40, RF__max_features=log2, RF__n_estimators=300; total time=   7.0s\n",
      "[CV] END RF__bootstrap=True, RF__max_depth=40, RF__max_features=log2, RF__n_estimators=300; total time=   7.1s\n",
      "[CV] END RF__bootstrap=True, RF__max_depth=40, RF__max_features=log2, RF__n_estimators=300; total time=   7.2s\n",
      "[CV] END RF__bootstrap=True, RF__max_depth=40, RF__max_features=log2, RF__n_estimators=300; total time=   7.6s\n",
      "[CV] END RF__bootstrap=True, RF__max_depth=40, RF__max_features=log2, RF__n_estimators=300; total time=   7.1s\n",
      "[CV] END RF__bootstrap=True, RF__max_depth=50, RF__max_features=sqrt, RF__n_estimators=100; total time=   3.1s\n",
      "[CV] END RF__bootstrap=True, RF__max_depth=50, RF__max_features=sqrt, RF__n_estimators=100; total time=   3.1s\n",
      "[CV] END RF__bootstrap=True, RF__max_depth=50, RF__max_features=sqrt, RF__n_estimators=100; total time=   3.2s\n",
      "[CV] END RF__bootstrap=True, RF__max_depth=50, RF__max_features=sqrt, RF__n_estimators=100; total time=   3.1s\n",
      "[CV] END RF__bootstrap=True, RF__max_depth=50, RF__max_features=sqrt, RF__n_estimators=100; total time=   3.5s\n",
      "[CV] END RF__bootstrap=True, RF__max_depth=50, RF__max_features=sqrt, RF__n_estimators=200; total time=   6.2s\n",
      "[CV] END RF__bootstrap=True, RF__max_depth=50, RF__max_features=sqrt, RF__n_estimators=200; total time=   6.2s\n",
      "[CV] END RF__bootstrap=True, RF__max_depth=50, RF__max_features=sqrt, RF__n_estimators=200; total time=   6.3s\n",
      "[CV] END RF__bootstrap=True, RF__max_depth=50, RF__max_features=sqrt, RF__n_estimators=200; total time=   6.0s\n",
      "[CV] END RF__bootstrap=True, RF__max_depth=50, RF__max_features=sqrt, RF__n_estimators=200; total time=   6.2s\n",
      "[CV] END RF__bootstrap=True, RF__max_depth=50, RF__max_features=sqrt, RF__n_estimators=300; total time=   9.5s\n",
      "[CV] END RF__bootstrap=True, RF__max_depth=50, RF__max_features=sqrt, RF__n_estimators=300; total time=   9.3s\n",
      "[CV] END RF__bootstrap=True, RF__max_depth=50, RF__max_features=sqrt, RF__n_estimators=300; total time=   9.4s\n",
      "[CV] END RF__bootstrap=True, RF__max_depth=50, RF__max_features=sqrt, RF__n_estimators=300; total time=   9.5s\n",
      "[CV] END RF__bootstrap=True, RF__max_depth=50, RF__max_features=sqrt, RF__n_estimators=300; total time=   9.2s\n",
      "[CV] END RF__bootstrap=True, RF__max_depth=50, RF__max_features=log2, RF__n_estimators=100; total time=   2.3s\n",
      "[CV] END RF__bootstrap=True, RF__max_depth=50, RF__max_features=log2, RF__n_estimators=100; total time=   2.5s\n",
      "[CV] END RF__bootstrap=True, RF__max_depth=50, RF__max_features=log2, RF__n_estimators=100; total time=   2.3s\n",
      "[CV] END RF__bootstrap=True, RF__max_depth=50, RF__max_features=log2, RF__n_estimators=100; total time=   2.2s\n",
      "[CV] END RF__bootstrap=True, RF__max_depth=50, RF__max_features=log2, RF__n_estimators=100; total time=   2.3s\n",
      "[CV] END RF__bootstrap=True, RF__max_depth=50, RF__max_features=log2, RF__n_estimators=200; total time=   4.5s\n",
      "[CV] END RF__bootstrap=True, RF__max_depth=50, RF__max_features=log2, RF__n_estimators=200; total time=   4.8s\n",
      "[CV] END RF__bootstrap=True, RF__max_depth=50, RF__max_features=log2, RF__n_estimators=200; total time=   4.6s\n",
      "[CV] END RF__bootstrap=True, RF__max_depth=50, RF__max_features=log2, RF__n_estimators=200; total time=   4.6s\n",
      "[CV] END RF__bootstrap=True, RF__max_depth=50, RF__max_features=log2, RF__n_estimators=200; total time=   4.8s\n",
      "[CV] END RF__bootstrap=True, RF__max_depth=50, RF__max_features=log2, RF__n_estimators=300; total time=   6.7s\n",
      "[CV] END RF__bootstrap=True, RF__max_depth=50, RF__max_features=log2, RF__n_estimators=300; total time=   6.7s\n",
      "[CV] END RF__bootstrap=True, RF__max_depth=50, RF__max_features=log2, RF__n_estimators=300; total time=   6.7s\n",
      "[CV] END RF__bootstrap=True, RF__max_depth=50, RF__max_features=log2, RF__n_estimators=300; total time=   6.7s\n",
      "[CV] END RF__bootstrap=True, RF__max_depth=50, RF__max_features=log2, RF__n_estimators=300; total time=   7.0s\n",
      "[CV] END RF__bootstrap=False, RF__max_depth=10, RF__max_features=sqrt, RF__n_estimators=100; total time=   2.7s\n",
      "[CV] END RF__bootstrap=False, RF__max_depth=10, RF__max_features=sqrt, RF__n_estimators=100; total time=   2.8s\n",
      "[CV] END RF__bootstrap=False, RF__max_depth=10, RF__max_features=sqrt, RF__n_estimators=100; total time=   2.7s\n",
      "[CV] END RF__bootstrap=False, RF__max_depth=10, RF__max_features=sqrt, RF__n_estimators=100; total time=   2.6s\n",
      "[CV] END RF__bootstrap=False, RF__max_depth=10, RF__max_features=sqrt, RF__n_estimators=100; total time=   2.9s\n",
      "[CV] END RF__bootstrap=False, RF__max_depth=10, RF__max_features=sqrt, RF__n_estimators=200; total time=   5.4s\n",
      "[CV] END RF__bootstrap=False, RF__max_depth=10, RF__max_features=sqrt, RF__n_estimators=200; total time=   5.7s\n",
      "[CV] END RF__bootstrap=False, RF__max_depth=10, RF__max_features=sqrt, RF__n_estimators=200; total time=   5.1s\n",
      "[CV] END RF__bootstrap=False, RF__max_depth=10, RF__max_features=sqrt, RF__n_estimators=200; total time=   5.2s\n",
      "[CV] END RF__bootstrap=False, RF__max_depth=10, RF__max_features=sqrt, RF__n_estimators=200; total time=   5.4s\n",
      "[CV] END RF__bootstrap=False, RF__max_depth=10, RF__max_features=sqrt, RF__n_estimators=300; total time=   8.2s\n",
      "[CV] END RF__bootstrap=False, RF__max_depth=10, RF__max_features=sqrt, RF__n_estimators=300; total time=   8.1s\n",
      "[CV] END RF__bootstrap=False, RF__max_depth=10, RF__max_features=sqrt, RF__n_estimators=300; total time=   8.0s\n",
      "[CV] END RF__bootstrap=False, RF__max_depth=10, RF__max_features=sqrt, RF__n_estimators=300; total time=   8.3s\n",
      "[CV] END RF__bootstrap=False, RF__max_depth=10, RF__max_features=sqrt, RF__n_estimators=300; total time=   8.3s\n",
      "[CV] END RF__bootstrap=False, RF__max_depth=10, RF__max_features=log2, RF__n_estimators=100; total time=   2.0s\n",
      "[CV] END RF__bootstrap=False, RF__max_depth=10, RF__max_features=log2, RF__n_estimators=100; total time=   2.1s\n",
      "[CV] END RF__bootstrap=False, RF__max_depth=10, RF__max_features=log2, RF__n_estimators=100; total time=   2.2s\n",
      "[CV] END RF__bootstrap=False, RF__max_depth=10, RF__max_features=log2, RF__n_estimators=100; total time=   2.0s\n",
      "[CV] END RF__bootstrap=False, RF__max_depth=10, RF__max_features=log2, RF__n_estimators=100; total time=   2.0s\n",
      "[CV] END RF__bootstrap=False, RF__max_depth=10, RF__max_features=log2, RF__n_estimators=200; total time=   3.9s\n",
      "[CV] END RF__bootstrap=False, RF__max_depth=10, RF__max_features=log2, RF__n_estimators=200; total time=   4.0s\n",
      "[CV] END RF__bootstrap=False, RF__max_depth=10, RF__max_features=log2, RF__n_estimators=200; total time=   3.9s\n",
      "[CV] END RF__bootstrap=False, RF__max_depth=10, RF__max_features=log2, RF__n_estimators=200; total time=   3.9s\n",
      "[CV] END RF__bootstrap=False, RF__max_depth=10, RF__max_features=log2, RF__n_estimators=200; total time=   3.8s\n",
      "[CV] END RF__bootstrap=False, RF__max_depth=10, RF__max_features=log2, RF__n_estimators=300; total time=   5.9s\n",
      "[CV] END RF__bootstrap=False, RF__max_depth=10, RF__max_features=log2, RF__n_estimators=300; total time=   5.8s\n",
      "[CV] END RF__bootstrap=False, RF__max_depth=10, RF__max_features=log2, RF__n_estimators=300; total time=   6.2s\n",
      "[CV] END RF__bootstrap=False, RF__max_depth=10, RF__max_features=log2, RF__n_estimators=300; total time=   5.8s\n",
      "[CV] END RF__bootstrap=False, RF__max_depth=10, RF__max_features=log2, RF__n_estimators=300; total time=   5.7s\n",
      "[CV] END RF__bootstrap=False, RF__max_depth=20, RF__max_features=sqrt, RF__n_estimators=100; total time=   4.1s\n",
      "[CV] END RF__bootstrap=False, RF__max_depth=20, RF__max_features=sqrt, RF__n_estimators=100; total time=   3.8s\n",
      "[CV] END RF__bootstrap=False, RF__max_depth=20, RF__max_features=sqrt, RF__n_estimators=100; total time=   3.7s\n",
      "[CV] END RF__bootstrap=False, RF__max_depth=20, RF__max_features=sqrt, RF__n_estimators=100; total time=   3.8s\n",
      "[CV] END RF__bootstrap=False, RF__max_depth=20, RF__max_features=sqrt, RF__n_estimators=100; total time=   4.0s\n",
      "[CV] END RF__bootstrap=False, RF__max_depth=20, RF__max_features=sqrt, RF__n_estimators=200; total time=   7.6s\n",
      "[CV] END RF__bootstrap=False, RF__max_depth=20, RF__max_features=sqrt, RF__n_estimators=200; total time=   7.5s\n",
      "[CV] END RF__bootstrap=False, RF__max_depth=20, RF__max_features=sqrt, RF__n_estimators=200; total time=   7.7s\n",
      "[CV] END RF__bootstrap=False, RF__max_depth=20, RF__max_features=sqrt, RF__n_estimators=200; total time=   7.6s\n",
      "[CV] END RF__bootstrap=False, RF__max_depth=20, RF__max_features=sqrt, RF__n_estimators=200; total time=   7.5s\n",
      "[CV] END RF__bootstrap=False, RF__max_depth=20, RF__max_features=sqrt, RF__n_estimators=300; total time=  11.9s\n",
      "[CV] END RF__bootstrap=False, RF__max_depth=20, RF__max_features=sqrt, RF__n_estimators=300; total time=  11.8s\n",
      "[CV] END RF__bootstrap=False, RF__max_depth=20, RF__max_features=sqrt, RF__n_estimators=300; total time=  11.8s\n",
      "[CV] END RF__bootstrap=False, RF__max_depth=20, RF__max_features=sqrt, RF__n_estimators=300; total time=  11.2s\n",
      "[CV] END RF__bootstrap=False, RF__max_depth=20, RF__max_features=sqrt, RF__n_estimators=300; total time=  11.3s\n",
      "[CV] END RF__bootstrap=False, RF__max_depth=20, RF__max_features=log2, RF__n_estimators=100; total time=   2.8s\n",
      "[CV] END RF__bootstrap=False, RF__max_depth=20, RF__max_features=log2, RF__n_estimators=100; total time=   2.7s\n",
      "[CV] END RF__bootstrap=False, RF__max_depth=20, RF__max_features=log2, RF__n_estimators=100; total time=   2.7s\n",
      "[CV] END RF__bootstrap=False, RF__max_depth=20, RF__max_features=log2, RF__n_estimators=100; total time=   2.8s\n",
      "[CV] END RF__bootstrap=False, RF__max_depth=20, RF__max_features=log2, RF__n_estimators=100; total time=   2.7s\n",
      "[CV] END RF__bootstrap=False, RF__max_depth=20, RF__max_features=log2, RF__n_estimators=200; total time=   5.8s\n",
      "[CV] END RF__bootstrap=False, RF__max_depth=20, RF__max_features=log2, RF__n_estimators=200; total time=   5.9s\n",
      "[CV] END RF__bootstrap=False, RF__max_depth=20, RF__max_features=log2, RF__n_estimators=200; total time=   5.7s\n",
      "[CV] END RF__bootstrap=False, RF__max_depth=20, RF__max_features=log2, RF__n_estimators=200; total time=   5.9s\n",
      "[CV] END RF__bootstrap=False, RF__max_depth=20, RF__max_features=log2, RF__n_estimators=200; total time=   5.9s\n",
      "[CV] END RF__bootstrap=False, RF__max_depth=20, RF__max_features=log2, RF__n_estimators=300; total time=   8.7s\n",
      "[CV] END RF__bootstrap=False, RF__max_depth=20, RF__max_features=log2, RF__n_estimators=300; total time=   8.6s\n",
      "[CV] END RF__bootstrap=False, RF__max_depth=20, RF__max_features=log2, RF__n_estimators=300; total time=   8.7s\n",
      "[CV] END RF__bootstrap=False, RF__max_depth=20, RF__max_features=log2, RF__n_estimators=300; total time=   8.6s\n",
      "[CV] END RF__bootstrap=False, RF__max_depth=20, RF__max_features=log2, RF__n_estimators=300; total time=   9.0s\n",
      "[CV] END RF__bootstrap=False, RF__max_depth=30, RF__max_features=sqrt, RF__n_estimators=100; total time=   3.9s\n",
      "[CV] END RF__bootstrap=False, RF__max_depth=30, RF__max_features=sqrt, RF__n_estimators=100; total time=   4.2s\n",
      "[CV] END RF__bootstrap=False, RF__max_depth=30, RF__max_features=sqrt, RF__n_estimators=100; total time=   4.3s\n",
      "[CV] END RF__bootstrap=False, RF__max_depth=30, RF__max_features=sqrt, RF__n_estimators=100; total time=   4.5s\n",
      "[CV] END RF__bootstrap=False, RF__max_depth=30, RF__max_features=sqrt, RF__n_estimators=100; total time=   4.0s\n",
      "[CV] END RF__bootstrap=False, RF__max_depth=30, RF__max_features=sqrt, RF__n_estimators=200; total time=   8.3s\n",
      "[CV] END RF__bootstrap=False, RF__max_depth=30, RF__max_features=sqrt, RF__n_estimators=200; total time=   8.0s\n",
      "[CV] END RF__bootstrap=False, RF__max_depth=30, RF__max_features=sqrt, RF__n_estimators=200; total time=   8.2s\n",
      "[CV] END RF__bootstrap=False, RF__max_depth=30, RF__max_features=sqrt, RF__n_estimators=200; total time=   7.6s\n",
      "[CV] END RF__bootstrap=False, RF__max_depth=30, RF__max_features=sqrt, RF__n_estimators=200; total time=   7.9s\n",
      "[CV] END RF__bootstrap=False, RF__max_depth=30, RF__max_features=sqrt, RF__n_estimators=300; total time=  11.5s\n",
      "[CV] END RF__bootstrap=False, RF__max_depth=30, RF__max_features=sqrt, RF__n_estimators=300; total time=  11.7s\n",
      "[CV] END RF__bootstrap=False, RF__max_depth=30, RF__max_features=sqrt, RF__n_estimators=300; total time=  11.7s\n",
      "[CV] END RF__bootstrap=False, RF__max_depth=30, RF__max_features=sqrt, RF__n_estimators=300; total time=  12.0s\n",
      "[CV] END RF__bootstrap=False, RF__max_depth=30, RF__max_features=sqrt, RF__n_estimators=300; total time=  11.8s\n",
      "[CV] END RF__bootstrap=False, RF__max_depth=30, RF__max_features=log2, RF__n_estimators=100; total time=   2.9s\n",
      "[CV] END RF__bootstrap=False, RF__max_depth=30, RF__max_features=log2, RF__n_estimators=100; total time=   2.8s\n",
      "[CV] END RF__bootstrap=False, RF__max_depth=30, RF__max_features=log2, RF__n_estimators=100; total time=   2.8s\n",
      "[CV] END RF__bootstrap=False, RF__max_depth=30, RF__max_features=log2, RF__n_estimators=100; total time=   2.8s\n",
      "[CV] END RF__bootstrap=False, RF__max_depth=30, RF__max_features=log2, RF__n_estimators=100; total time=   2.8s\n",
      "[CV] END RF__bootstrap=False, RF__max_depth=30, RF__max_features=log2, RF__n_estimators=200; total time=   5.7s\n",
      "[CV] END RF__bootstrap=False, RF__max_depth=30, RF__max_features=log2, RF__n_estimators=200; total time=   5.7s\n",
      "[CV] END RF__bootstrap=False, RF__max_depth=30, RF__max_features=log2, RF__n_estimators=200; total time=   5.5s\n",
      "[CV] END RF__bootstrap=False, RF__max_depth=30, RF__max_features=log2, RF__n_estimators=200; total time=   5.7s\n",
      "[CV] END RF__bootstrap=False, RF__max_depth=30, RF__max_features=log2, RF__n_estimators=200; total time=   5.6s\n",
      "[CV] END RF__bootstrap=False, RF__max_depth=30, RF__max_features=log2, RF__n_estimators=300; total time=   8.8s\n",
      "[CV] END RF__bootstrap=False, RF__max_depth=30, RF__max_features=log2, RF__n_estimators=300; total time=   8.8s\n",
      "[CV] END RF__bootstrap=False, RF__max_depth=30, RF__max_features=log2, RF__n_estimators=300; total time=   8.6s\n",
      "[CV] END RF__bootstrap=False, RF__max_depth=30, RF__max_features=log2, RF__n_estimators=300; total time=   8.7s\n",
      "[CV] END RF__bootstrap=False, RF__max_depth=30, RF__max_features=log2, RF__n_estimators=300; total time=   8.8s\n",
      "[CV] END RF__bootstrap=False, RF__max_depth=40, RF__max_features=sqrt, RF__n_estimators=100; total time=   3.8s\n",
      "[CV] END RF__bootstrap=False, RF__max_depth=40, RF__max_features=sqrt, RF__n_estimators=100; total time=   3.9s\n",
      "[CV] END RF__bootstrap=False, RF__max_depth=40, RF__max_features=sqrt, RF__n_estimators=100; total time=   3.9s\n",
      "[CV] END RF__bootstrap=False, RF__max_depth=40, RF__max_features=sqrt, RF__n_estimators=100; total time=   3.7s\n",
      "[CV] END RF__bootstrap=False, RF__max_depth=40, RF__max_features=sqrt, RF__n_estimators=100; total time=   3.8s\n",
      "[CV] END RF__bootstrap=False, RF__max_depth=40, RF__max_features=sqrt, RF__n_estimators=200; total time=   8.1s\n",
      "[CV] END RF__bootstrap=False, RF__max_depth=40, RF__max_features=sqrt, RF__n_estimators=200; total time=   8.1s\n",
      "[CV] END RF__bootstrap=False, RF__max_depth=40, RF__max_features=sqrt, RF__n_estimators=200; total time=   8.0s\n",
      "[CV] END RF__bootstrap=False, RF__max_depth=40, RF__max_features=sqrt, RF__n_estimators=200; total time=   8.1s\n",
      "[CV] END RF__bootstrap=False, RF__max_depth=40, RF__max_features=sqrt, RF__n_estimators=200; total time=   8.3s\n",
      "[CV] END RF__bootstrap=False, RF__max_depth=40, RF__max_features=sqrt, RF__n_estimators=300; total time=  12.3s\n",
      "[CV] END RF__bootstrap=False, RF__max_depth=40, RF__max_features=sqrt, RF__n_estimators=300; total time=  12.2s\n",
      "[CV] END RF__bootstrap=False, RF__max_depth=40, RF__max_features=sqrt, RF__n_estimators=300; total time=  11.7s\n",
      "[CV] END RF__bootstrap=False, RF__max_depth=40, RF__max_features=sqrt, RF__n_estimators=300; total time=  11.7s\n",
      "[CV] END RF__bootstrap=False, RF__max_depth=40, RF__max_features=sqrt, RF__n_estimators=300; total time=  11.8s\n",
      "[CV] END RF__bootstrap=False, RF__max_depth=40, RF__max_features=log2, RF__n_estimators=100; total time=   2.8s\n",
      "[CV] END RF__bootstrap=False, RF__max_depth=40, RF__max_features=log2, RF__n_estimators=100; total time=   2.8s\n",
      "[CV] END RF__bootstrap=False, RF__max_depth=40, RF__max_features=log2, RF__n_estimators=100; total time=   2.7s\n",
      "[CV] END RF__bootstrap=False, RF__max_depth=40, RF__max_features=log2, RF__n_estimators=100; total time=   3.0s\n",
      "[CV] END RF__bootstrap=False, RF__max_depth=40, RF__max_features=log2, RF__n_estimators=100; total time=   3.0s\n",
      "[CV] END RF__bootstrap=False, RF__max_depth=40, RF__max_features=log2, RF__n_estimators=200; total time=   5.8s\n",
      "[CV] END RF__bootstrap=False, RF__max_depth=40, RF__max_features=log2, RF__n_estimators=200; total time=   6.0s\n",
      "[CV] END RF__bootstrap=False, RF__max_depth=40, RF__max_features=log2, RF__n_estimators=200; total time=   5.8s\n",
      "[CV] END RF__bootstrap=False, RF__max_depth=40, RF__max_features=log2, RF__n_estimators=200; total time=   6.0s\n",
      "[CV] END RF__bootstrap=False, RF__max_depth=40, RF__max_features=log2, RF__n_estimators=200; total time=   5.9s\n",
      "[CV] END RF__bootstrap=False, RF__max_depth=40, RF__max_features=log2, RF__n_estimators=300; total time=   8.9s\n",
      "[CV] END RF__bootstrap=False, RF__max_depth=40, RF__max_features=log2, RF__n_estimators=300; total time=   9.2s\n",
      "[CV] END RF__bootstrap=False, RF__max_depth=40, RF__max_features=log2, RF__n_estimators=300; total time=   9.0s\n",
      "[CV] END RF__bootstrap=False, RF__max_depth=40, RF__max_features=log2, RF__n_estimators=300; total time=   9.1s\n",
      "[CV] END RF__bootstrap=False, RF__max_depth=40, RF__max_features=log2, RF__n_estimators=300; total time=   8.8s\n",
      "[CV] END RF__bootstrap=False, RF__max_depth=50, RF__max_features=sqrt, RF__n_estimators=100; total time=   3.9s\n",
      "[CV] END RF__bootstrap=False, RF__max_depth=50, RF__max_features=sqrt, RF__n_estimators=100; total time=   4.3s\n",
      "[CV] END RF__bootstrap=False, RF__max_depth=50, RF__max_features=sqrt, RF__n_estimators=100; total time=   5.5s\n",
      "[CV] END RF__bootstrap=False, RF__max_depth=50, RF__max_features=sqrt, RF__n_estimators=100; total time=   5.2s\n",
      "[CV] END RF__bootstrap=False, RF__max_depth=50, RF__max_features=sqrt, RF__n_estimators=100; total time=   4.9s\n",
      "[CV] END RF__bootstrap=False, RF__max_depth=50, RF__max_features=sqrt, RF__n_estimators=200; total time=  10.5s\n",
      "[CV] END RF__bootstrap=False, RF__max_depth=50, RF__max_features=sqrt, RF__n_estimators=200; total time=   8.5s\n",
      "[CV] END RF__bootstrap=False, RF__max_depth=50, RF__max_features=sqrt, RF__n_estimators=200; total time=   8.2s\n",
      "[CV] END RF__bootstrap=False, RF__max_depth=50, RF__max_features=sqrt, RF__n_estimators=200; total time=   8.2s\n",
      "[CV] END RF__bootstrap=False, RF__max_depth=50, RF__max_features=sqrt, RF__n_estimators=200; total time=   8.4s\n",
      "[CV] END RF__bootstrap=False, RF__max_depth=50, RF__max_features=sqrt, RF__n_estimators=300; total time=  12.3s\n",
      "[CV] END RF__bootstrap=False, RF__max_depth=50, RF__max_features=sqrt, RF__n_estimators=300; total time=  12.7s\n",
      "[CV] END RF__bootstrap=False, RF__max_depth=50, RF__max_features=sqrt, RF__n_estimators=300; total time=  12.1s\n",
      "[CV] END RF__bootstrap=False, RF__max_depth=50, RF__max_features=sqrt, RF__n_estimators=300; total time=  11.7s\n",
      "[CV] END RF__bootstrap=False, RF__max_depth=50, RF__max_features=sqrt, RF__n_estimators=300; total time=  12.1s\n",
      "[CV] END RF__bootstrap=False, RF__max_depth=50, RF__max_features=log2, RF__n_estimators=100; total time=   3.2s\n",
      "[CV] END RF__bootstrap=False, RF__max_depth=50, RF__max_features=log2, RF__n_estimators=100; total time=   3.1s\n",
      "[CV] END RF__bootstrap=False, RF__max_depth=50, RF__max_features=log2, RF__n_estimators=100; total time=   3.0s\n",
      "[CV] END RF__bootstrap=False, RF__max_depth=50, RF__max_features=log2, RF__n_estimators=100; total time=   2.9s\n",
      "[CV] END RF__bootstrap=False, RF__max_depth=50, RF__max_features=log2, RF__n_estimators=100; total time=   2.9s\n",
      "[CV] END RF__bootstrap=False, RF__max_depth=50, RF__max_features=log2, RF__n_estimators=200; total time=   5.9s\n",
      "[CV] END RF__bootstrap=False, RF__max_depth=50, RF__max_features=log2, RF__n_estimators=200; total time=   6.1s\n",
      "[CV] END RF__bootstrap=False, RF__max_depth=50, RF__max_features=log2, RF__n_estimators=200; total time=   6.0s\n",
      "[CV] END RF__bootstrap=False, RF__max_depth=50, RF__max_features=log2, RF__n_estimators=200; total time=   5.9s\n",
      "[CV] END RF__bootstrap=False, RF__max_depth=50, RF__max_features=log2, RF__n_estimators=200; total time=   6.4s\n",
      "[CV] END RF__bootstrap=False, RF__max_depth=50, RF__max_features=log2, RF__n_estimators=300; total time=   9.4s\n",
      "[CV] END RF__bootstrap=False, RF__max_depth=50, RF__max_features=log2, RF__n_estimators=300; total time=   9.6s\n",
      "[CV] END RF__bootstrap=False, RF__max_depth=50, RF__max_features=log2, RF__n_estimators=300; total time=   8.9s\n",
      "[CV] END RF__bootstrap=False, RF__max_depth=50, RF__max_features=log2, RF__n_estimators=300; total time=   8.9s\n",
      "[CV] END RF__bootstrap=False, RF__max_depth=50, RF__max_features=log2, RF__n_estimators=300; total time=   9.1s\n",
      "Mejores parámetros: {'RF__bootstrap': False, 'RF__max_depth': 20, 'RF__max_features': 'log2', 'RF__n_estimators': 100}\n",
      "Mejor puntuación (validación cruzada): 0.8818254603682945\n",
      "\n",
      "Resultados en conjunto de prueba:\n",
      "Accuracy: 0.878\n",
      "Recall: 0.878\n",
      "Precision: 0.878\n",
      "F1 Score: 0.877\n",
      "\n",
      "Resultados en conjunto de entrenamiento:\n",
      "Accuracy: 0.983\n",
      "Recall: 0.983\n",
      "Precision: 0.983\n",
      "F1 Score: 0.983\n"
     ]
    }
   ],
   "source": [
    "from sklearn.model_selection import train_test_split, GridSearchCV\n",
    "from sklearn.pipeline import Pipeline\n",
    "from sklearn.ensemble import RandomForestClassifier\n",
    "from sklearn.metrics import accuracy_score, recall_score, precision_score, f1_score\n",
    "import pandas as pd\n",
    "\n",
    "# Cargar y preparar los datos\n",
    "X = pd.read_csv(\"../Reducción descriptores/BBB_h.csv\")\n",
    "X.fillna(method='ffill', inplace=True)\n",
    "\n",
    "df = pd.read_csv(\"../Descriptores calculados/BBB_descriptores.csv\")\n",
    "y = df[\"BBB+/BBB-\"]\n",
    "\n",
    "# Dividir el conjunto de datos en entrenamiento y prueba\n",
    "X_train, X_test, y_train, y_test = train_test_split(X, y, test_size=0.2, random_state=42)\n",
    "\n",
    "# Crear el pipeline\n",
    "pipe = Pipeline([\n",
    "    ('RF', RandomForestClassifier())\n",
    "])\n",
    "\n",
    "# Definir la rejilla de hiperparámetros\n",
    "param_grid = {\n",
    "    'RF__max_depth': [10, 20, 30, 40, 50],\n",
    "    'RF__bootstrap': [True, False],\n",
    "    'RF__max_features': ['sqrt', \"log2\"],\n",
    "    'RF__n_estimators': [100, 200, 300]\n",
    "}\n",
    "\n",
    "# Búsqueda de hiperparámetros\n",
    "grid_search = GridSearchCV(estimator=pipe, param_grid=param_grid, cv=5, scoring='accuracy', verbose=2)\n",
    "grid_search.fit(X_train, y_train)\n",
    "\n",
    "# Obtener los mejores parámetros y el mejor modelo\n",
    "print(\"Mejores parámetros:\", grid_search.best_params_)\n",
    "print(\"Mejor puntuación (validación cruzada):\", grid_search.best_score_)\n",
    "\n",
    "# Usar el mejor modelo ajustado\n",
    "best_model = grid_search.best_estimator_\n",
    "\n",
    "# Predecir en el conjunto de prueba\n",
    "y_predicha = best_model.predict(X_test)\n",
    "\n",
    "# Calcular las métricas en el conjunto de prueba\n",
    "accuracy_test = accuracy_score(y_test, y_predicha)\n",
    "recall_test = recall_score(y_test, y_predicha, average='weighted')\n",
    "precision_test = precision_score(y_test, y_predicha, average='weighted')\n",
    "f1_test = f1_score(y_test, y_predicha, average='weighted')\n",
    "print(\"\\nResultados en conjunto de prueba:\")\n",
    "print(\"Accuracy:\", round(accuracy_test, 3))\n",
    "print(\"Recall:\", round(recall_test, 3))\n",
    "print(\"Precision:\", round(precision_test, 3))\n",
    "print(\"F1 Score:\", round(f1_test, 3))\n",
    "\n",
    "# Predecir en el conjunto de entrenamiento\n",
    "y_entrenamiento = best_model.predict(X_train)\n",
    "\n",
    "# Calcular las métricas en el conjunto de entrenamiento\n",
    "accuracy_train = accuracy_score(y_train, y_entrenamiento)\n",
    "recall_train = recall_score(y_train, y_entrenamiento, average='weighted')\n",
    "precision_train = precision_score(y_train, y_entrenamiento, average='weighted')\n",
    "f1_train = f1_score(y_train, y_entrenamiento, average='weighted')\n",
    "print(\"\\nResultados en conjunto de entrenamiento:\")\n",
    "print(\"Accuracy:\", round(accuracy_train, 3))\n",
    "print(\"Recall:\", round(recall_train, 3))\n",
    "print(\"Precision:\", round(precision_train, 3))\n",
    "print(\"F1 Score:\", round(f1_train, 3))\n"
   ]
  },
  {
   "cell_type": "code",
   "execution_count": null,
   "metadata": {},
   "outputs": [],
   "source": []
  }
 ],
 "metadata": {
  "kernelspec": {
   "display_name": "Python 3",
   "language": "python",
   "name": "python3"
  },
  "language_info": {
   "codemirror_mode": {
    "name": "ipython",
    "version": 3
   },
   "file_extension": ".py",
   "mimetype": "text/x-python",
   "name": "python",
   "nbconvert_exporter": "python",
   "pygments_lexer": "ipython3",
   "version": "3.11.0"
  }
 },
 "nbformat": 4,
 "nbformat_minor": 2
}
