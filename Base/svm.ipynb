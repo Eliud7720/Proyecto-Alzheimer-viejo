{
 "cells": [
  {
   "cell_type": "markdown",
   "metadata": {},
   "source": [
    "# Entrenamiento con datos de entrenamiento\n",
    "<hr>"
   ]
  },
  {
   "cell_type": "code",
   "execution_count": 77,
   "metadata": {},
   "outputs": [],
   "source": [
    "from sklearn.model_selection import train_test_split, GridSearchCV\n",
    "from sklearn.pipeline import Pipeline\n",
    "from sklearn.decomposition import PCA\n",
    "from sklearn.svm import SVC\n",
    "from sklearn.metrics import accuracy_score\n",
    "from sklearn.metrics import recall_score\n",
    "from sklearn.metrics import precision_score\n",
    "from sklearn.metrics import f1_score\n",
    "import pandas as pd"
   ]
  },
  {
   "cell_type": "code",
   "execution_count": 78,
   "metadata": {},
   "outputs": [],
   "source": [
    "X = pd.read_csv(\"../Reducción descriptores/BBB_h.csv\")"
   ]
  },
  {
   "cell_type": "code",
   "execution_count": 79,
   "metadata": {},
   "outputs": [
    {
     "data": {
      "text/html": [
       "<div>\n",
       "<style scoped>\n",
       "    .dataframe tbody tr th:only-of-type {\n",
       "        vertical-align: middle;\n",
       "    }\n",
       "\n",
       "    .dataframe tbody tr th {\n",
       "        vertical-align: top;\n",
       "    }\n",
       "\n",
       "    .dataframe thead th {\n",
       "        text-align: right;\n",
       "    }\n",
       "</style>\n",
       "<table border=\"1\" class=\"dataframe\">\n",
       "  <thead>\n",
       "    <tr style=\"text-align: right;\">\n",
       "      <th></th>\n",
       "      <th>MaxEStateIndex</th>\n",
       "      <th>qed</th>\n",
       "      <th>SPS</th>\n",
       "      <th>MinPartialCharge</th>\n",
       "      <th>MinAbsPartialCharge</th>\n",
       "      <th>FpDensityMorgan1</th>\n",
       "      <th>FpDensityMorgan3</th>\n",
       "      <th>BCUT2D_MWHI</th>\n",
       "      <th>AvgIpc</th>\n",
       "      <th>Chi4n</th>\n",
       "      <th>...</th>\n",
       "      <th>fr_furan</th>\n",
       "      <th>fr_ketone_Topliss</th>\n",
       "      <th>fr_lactam</th>\n",
       "      <th>fr_morpholine</th>\n",
       "      <th>fr_para_hydroxylation</th>\n",
       "      <th>fr_piperdine</th>\n",
       "      <th>fr_piperzine</th>\n",
       "      <th>fr_sulfide</th>\n",
       "      <th>fr_tetrazole</th>\n",
       "      <th>fr_thiazole</th>\n",
       "    </tr>\n",
       "  </thead>\n",
       "  <tbody>\n",
       "    <tr>\n",
       "      <th>0</th>\n",
       "      <td>0.692714</td>\n",
       "      <td>0.566809</td>\n",
       "      <td>0.177505</td>\n",
       "      <td>0.328059</td>\n",
       "      <td>0.663112</td>\n",
       "      <td>0.414596</td>\n",
       "      <td>0.604396</td>\n",
       "      <td>0.175988</td>\n",
       "      <td>0.597016</td>\n",
       "      <td>0.100222</td>\n",
       "      <td>...</td>\n",
       "      <td>0.0</td>\n",
       "      <td>0.0</td>\n",
       "      <td>0.0</td>\n",
       "      <td>0.0</td>\n",
       "      <td>0.0</td>\n",
       "      <td>0.00</td>\n",
       "      <td>0.0</td>\n",
       "      <td>0.00</td>\n",
       "      <td>0.0</td>\n",
       "      <td>0.0</td>\n",
       "    </tr>\n",
       "    <tr>\n",
       "      <th>1</th>\n",
       "      <td>0.740398</td>\n",
       "      <td>0.132027</td>\n",
       "      <td>0.341697</td>\n",
       "      <td>0.326844</td>\n",
       "      <td>0.688957</td>\n",
       "      <td>0.607488</td>\n",
       "      <td>0.695726</td>\n",
       "      <td>0.175408</td>\n",
       "      <td>0.725694</td>\n",
       "      <td>0.177883</td>\n",
       "      <td>...</td>\n",
       "      <td>0.0</td>\n",
       "      <td>0.0</td>\n",
       "      <td>0.5</td>\n",
       "      <td>0.0</td>\n",
       "      <td>0.0</td>\n",
       "      <td>0.00</td>\n",
       "      <td>0.0</td>\n",
       "      <td>0.25</td>\n",
       "      <td>1.0</td>\n",
       "      <td>0.0</td>\n",
       "    </tr>\n",
       "    <tr>\n",
       "      <th>2</th>\n",
       "      <td>0.541892</td>\n",
       "      <td>0.799509</td>\n",
       "      <td>0.164875</td>\n",
       "      <td>0.331318</td>\n",
       "      <td>0.302673</td>\n",
       "      <td>0.695652</td>\n",
       "      <td>0.846154</td>\n",
       "      <td>0.999956</td>\n",
       "      <td>0.478667</td>\n",
       "      <td>0.053087</td>\n",
       "      <td>...</td>\n",
       "      <td>0.0</td>\n",
       "      <td>0.0</td>\n",
       "      <td>0.0</td>\n",
       "      <td>0.0</td>\n",
       "      <td>0.0</td>\n",
       "      <td>0.00</td>\n",
       "      <td>0.0</td>\n",
       "      <td>0.00</td>\n",
       "      <td>0.0</td>\n",
       "      <td>0.0</td>\n",
       "    </tr>\n",
       "    <tr>\n",
       "      <th>3</th>\n",
       "      <td>0.479617</td>\n",
       "      <td>0.280131</td>\n",
       "      <td>0.169213</td>\n",
       "      <td>0.528428</td>\n",
       "      <td>0.399398</td>\n",
       "      <td>0.791762</td>\n",
       "      <td>0.899595</td>\n",
       "      <td>0.590981</td>\n",
       "      <td>0.536565</td>\n",
       "      <td>0.058511</td>\n",
       "      <td>...</td>\n",
       "      <td>0.0</td>\n",
       "      <td>0.0</td>\n",
       "      <td>0.0</td>\n",
       "      <td>0.0</td>\n",
       "      <td>0.0</td>\n",
       "      <td>0.00</td>\n",
       "      <td>0.0</td>\n",
       "      <td>0.25</td>\n",
       "      <td>0.0</td>\n",
       "      <td>0.0</td>\n",
       "    </tr>\n",
       "    <tr>\n",
       "      <th>4</th>\n",
       "      <td>0.642439</td>\n",
       "      <td>0.359106</td>\n",
       "      <td>0.703631</td>\n",
       "      <td>0.361003</td>\n",
       "      <td>0.655845</td>\n",
       "      <td>0.520422</td>\n",
       "      <td>0.743590</td>\n",
       "      <td>0.040912</td>\n",
       "      <td>0.700605</td>\n",
       "      <td>0.302560</td>\n",
       "      <td>...</td>\n",
       "      <td>0.0</td>\n",
       "      <td>0.0</td>\n",
       "      <td>0.0</td>\n",
       "      <td>0.0</td>\n",
       "      <td>0.0</td>\n",
       "      <td>0.25</td>\n",
       "      <td>0.0</td>\n",
       "      <td>0.00</td>\n",
       "      <td>0.0</td>\n",
       "      <td>0.0</td>\n",
       "    </tr>\n",
       "  </tbody>\n",
       "</table>\n",
       "<p>5 rows × 58 columns</p>\n",
       "</div>"
      ],
      "text/plain": [
       "   MaxEStateIndex       qed       SPS  MinPartialCharge  MinAbsPartialCharge  \\\n",
       "0        0.692714  0.566809  0.177505          0.328059             0.663112   \n",
       "1        0.740398  0.132027  0.341697          0.326844             0.688957   \n",
       "2        0.541892  0.799509  0.164875          0.331318             0.302673   \n",
       "3        0.479617  0.280131  0.169213          0.528428             0.399398   \n",
       "4        0.642439  0.359106  0.703631          0.361003             0.655845   \n",
       "\n",
       "   FpDensityMorgan1  FpDensityMorgan3  BCUT2D_MWHI    AvgIpc     Chi4n  ...  \\\n",
       "0          0.414596          0.604396     0.175988  0.597016  0.100222  ...   \n",
       "1          0.607488          0.695726     0.175408  0.725694  0.177883  ...   \n",
       "2          0.695652          0.846154     0.999956  0.478667  0.053087  ...   \n",
       "3          0.791762          0.899595     0.590981  0.536565  0.058511  ...   \n",
       "4          0.520422          0.743590     0.040912  0.700605  0.302560  ...   \n",
       "\n",
       "   fr_furan  fr_ketone_Topliss  fr_lactam  fr_morpholine  \\\n",
       "0       0.0                0.0        0.0            0.0   \n",
       "1       0.0                0.0        0.5            0.0   \n",
       "2       0.0                0.0        0.0            0.0   \n",
       "3       0.0                0.0        0.0            0.0   \n",
       "4       0.0                0.0        0.0            0.0   \n",
       "\n",
       "   fr_para_hydroxylation  fr_piperdine  fr_piperzine  fr_sulfide  \\\n",
       "0                    0.0          0.00           0.0        0.00   \n",
       "1                    0.0          0.00           0.0        0.25   \n",
       "2                    0.0          0.00           0.0        0.00   \n",
       "3                    0.0          0.00           0.0        0.25   \n",
       "4                    0.0          0.25           0.0        0.00   \n",
       "\n",
       "   fr_tetrazole  fr_thiazole  \n",
       "0           0.0          0.0  \n",
       "1           1.0          0.0  \n",
       "2           0.0          0.0  \n",
       "3           0.0          0.0  \n",
       "4           0.0          0.0  \n",
       "\n",
       "[5 rows x 58 columns]"
      ]
     },
     "execution_count": 79,
     "metadata": {},
     "output_type": "execute_result"
    }
   ],
   "source": [
    "X.head()"
   ]
  },
  {
   "cell_type": "code",
   "execution_count": 80,
   "metadata": {},
   "outputs": [
    {
     "data": {
      "text/plain": [
       "(7807, 58)"
      ]
     },
     "execution_count": 80,
     "metadata": {},
     "output_type": "execute_result"
    }
   ],
   "source": [
    "X.shape"
   ]
  },
  {
   "cell_type": "code",
   "execution_count": 81,
   "metadata": {},
   "outputs": [
    {
     "name": "stderr",
     "output_type": "stream",
     "text": [
      "C:\\Users\\Eliud\\AppData\\Local\\Temp\\ipykernel_22556\\419284443.py:1: FutureWarning: DataFrame.fillna with 'method' is deprecated and will raise in a future version. Use obj.ffill() or obj.bfill() instead.\n",
      "  X.fillna(method='ffill', inplace=True)\n"
     ]
    }
   ],
   "source": [
    "X.fillna(method='ffill', inplace=True)\n"
   ]
  },
  {
   "cell_type": "code",
   "execution_count": 82,
   "metadata": {},
   "outputs": [],
   "source": [
    "df = pd.read_csv(\"../Descriptores calculados/BBB_descriptores.csv\")"
   ]
  },
  {
   "cell_type": "code",
   "execution_count": 83,
   "metadata": {},
   "outputs": [
    {
     "data": {
      "text/html": [
       "<div>\n",
       "<style scoped>\n",
       "    .dataframe tbody tr th:only-of-type {\n",
       "        vertical-align: middle;\n",
       "    }\n",
       "\n",
       "    .dataframe tbody tr th {\n",
       "        vertical-align: top;\n",
       "    }\n",
       "\n",
       "    .dataframe thead th {\n",
       "        text-align: right;\n",
       "    }\n",
       "</style>\n",
       "<table border=\"1\" class=\"dataframe\">\n",
       "  <thead>\n",
       "    <tr style=\"text-align: right;\">\n",
       "      <th></th>\n",
       "      <th>SMILES</th>\n",
       "      <th>BBB+/BBB-</th>\n",
       "      <th>group</th>\n",
       "      <th>MaxAbsEStateIndex</th>\n",
       "      <th>MaxEStateIndex</th>\n",
       "      <th>MinAbsEStateIndex</th>\n",
       "      <th>MinEStateIndex</th>\n",
       "      <th>qed</th>\n",
       "      <th>SPS</th>\n",
       "      <th>MolWt</th>\n",
       "      <th>...</th>\n",
       "      <th>fr_sulfide</th>\n",
       "      <th>fr_sulfonamd</th>\n",
       "      <th>fr_sulfone</th>\n",
       "      <th>fr_term_acetylene</th>\n",
       "      <th>fr_tetrazole</th>\n",
       "      <th>fr_thiazole</th>\n",
       "      <th>fr_thiocyan</th>\n",
       "      <th>fr_thiophene</th>\n",
       "      <th>fr_unbrch_alkane</th>\n",
       "      <th>fr_urea</th>\n",
       "    </tr>\n",
       "  </thead>\n",
       "  <tbody>\n",
       "    <tr>\n",
       "      <th>0</th>\n",
       "      <td>O=C(O)c1cc(N=Nc2ccc(S(=O)(=O)Nc3ccccn3)cc2)ccc1O</td>\n",
       "      <td>BBB-</td>\n",
       "      <td>A</td>\n",
       "      <td>12.341010</td>\n",
       "      <td>12.341010</td>\n",
       "      <td>0.023055</td>\n",
       "      <td>-3.794932</td>\n",
       "      <td>0.540588</td>\n",
       "      <td>11.428571</td>\n",
       "      <td>398.400</td>\n",
       "      <td>...</td>\n",
       "      <td>0.0</td>\n",
       "      <td>1.0</td>\n",
       "      <td>0.0</td>\n",
       "      <td>0.0</td>\n",
       "      <td>0.0</td>\n",
       "      <td>0.0</td>\n",
       "      <td>0.0</td>\n",
       "      <td>0.0</td>\n",
       "      <td>0.0</td>\n",
       "      <td>0.0</td>\n",
       "    </tr>\n",
       "    <tr>\n",
       "      <th>1</th>\n",
       "      <td>COC1(NC(=O)C(C(=O)O)c2ccc(O)cc2)C(=O)N2C(C(=O)...</td>\n",
       "      <td>BBB-</td>\n",
       "      <td>A</td>\n",
       "      <td>13.190522</td>\n",
       "      <td>13.190522</td>\n",
       "      <td>0.042537</td>\n",
       "      <td>-2.144257</td>\n",
       "      <td>0.133795</td>\n",
       "      <td>22.000000</td>\n",
       "      <td>520.480</td>\n",
       "      <td>...</td>\n",
       "      <td>1.0</td>\n",
       "      <td>0.0</td>\n",
       "      <td>0.0</td>\n",
       "      <td>0.0</td>\n",
       "      <td>1.0</td>\n",
       "      <td>0.0</td>\n",
       "      <td>0.0</td>\n",
       "      <td>0.0</td>\n",
       "      <td>0.0</td>\n",
       "      <td>0.0</td>\n",
       "    </tr>\n",
       "    <tr>\n",
       "      <th>2</th>\n",
       "      <td>Oc1c(I)cc(Cl)c2cccnc12</td>\n",
       "      <td>BBB-</td>\n",
       "      <td>A</td>\n",
       "      <td>9.654043</td>\n",
       "      <td>9.654043</td>\n",
       "      <td>0.195000</td>\n",
       "      <td>0.195000</td>\n",
       "      <td>0.758308</td>\n",
       "      <td>10.615385</td>\n",
       "      <td>305.502</td>\n",
       "      <td>...</td>\n",
       "      <td>0.0</td>\n",
       "      <td>0.0</td>\n",
       "      <td>0.0</td>\n",
       "      <td>0.0</td>\n",
       "      <td>0.0</td>\n",
       "      <td>0.0</td>\n",
       "      <td>0.0</td>\n",
       "      <td>0.0</td>\n",
       "      <td>0.0</td>\n",
       "      <td>0.0</td>\n",
       "    </tr>\n",
       "    <tr>\n",
       "      <th>3</th>\n",
       "      <td>CCNC(=NCCSCc1ncccc1Br)NC#N</td>\n",
       "      <td>BBB-</td>\n",
       "      <td>A</td>\n",
       "      <td>8.544584</td>\n",
       "      <td>8.544584</td>\n",
       "      <td>0.532052</td>\n",
       "      <td>0.532052</td>\n",
       "      <td>0.272365</td>\n",
       "      <td>10.894737</td>\n",
       "      <td>342.266</td>\n",
       "      <td>...</td>\n",
       "      <td>1.0</td>\n",
       "      <td>0.0</td>\n",
       "      <td>0.0</td>\n",
       "      <td>0.0</td>\n",
       "      <td>0.0</td>\n",
       "      <td>0.0</td>\n",
       "      <td>0.0</td>\n",
       "      <td>0.0</td>\n",
       "      <td>2.0</td>\n",
       "      <td>0.0</td>\n",
       "    </tr>\n",
       "    <tr>\n",
       "      <th>4</th>\n",
       "      <td>CN1CC[C@]23c4c5ccc(OC6O[C@H](C(=O)O)[C@@H](O)[...</td>\n",
       "      <td>BBB-</td>\n",
       "      <td>A</td>\n",
       "      <td>11.445328</td>\n",
       "      <td>11.445328</td>\n",
       "      <td>0.165306</td>\n",
       "      <td>-1.798901</td>\n",
       "      <td>0.346256</td>\n",
       "      <td>45.303030</td>\n",
       "      <td>461.467</td>\n",
       "      <td>...</td>\n",
       "      <td>0.0</td>\n",
       "      <td>0.0</td>\n",
       "      <td>0.0</td>\n",
       "      <td>0.0</td>\n",
       "      <td>0.0</td>\n",
       "      <td>0.0</td>\n",
       "      <td>0.0</td>\n",
       "      <td>0.0</td>\n",
       "      <td>0.0</td>\n",
       "      <td>0.0</td>\n",
       "    </tr>\n",
       "    <tr>\n",
       "      <th>...</th>\n",
       "      <td>...</td>\n",
       "      <td>...</td>\n",
       "      <td>...</td>\n",
       "      <td>...</td>\n",
       "      <td>...</td>\n",
       "      <td>...</td>\n",
       "      <td>...</td>\n",
       "      <td>...</td>\n",
       "      <td>...</td>\n",
       "      <td>...</td>\n",
       "      <td>...</td>\n",
       "      <td>...</td>\n",
       "      <td>...</td>\n",
       "      <td>...</td>\n",
       "      <td>...</td>\n",
       "      <td>...</td>\n",
       "      <td>...</td>\n",
       "      <td>...</td>\n",
       "      <td>...</td>\n",
       "      <td>...</td>\n",
       "      <td>...</td>\n",
       "    </tr>\n",
       "    <tr>\n",
       "      <th>7802</th>\n",
       "      <td>c1ccc(CN(CC2=NCCN2)c2ccccc2)cc1</td>\n",
       "      <td>BBB-</td>\n",
       "      <td>D</td>\n",
       "      <td>4.506501</td>\n",
       "      <td>4.506501</td>\n",
       "      <td>0.832250</td>\n",
       "      <td>0.832250</td>\n",
       "      <td>0.899820</td>\n",
       "      <td>13.700000</td>\n",
       "      <td>265.360</td>\n",
       "      <td>...</td>\n",
       "      <td>0.0</td>\n",
       "      <td>0.0</td>\n",
       "      <td>0.0</td>\n",
       "      <td>0.0</td>\n",
       "      <td>0.0</td>\n",
       "      <td>0.0</td>\n",
       "      <td>0.0</td>\n",
       "      <td>0.0</td>\n",
       "      <td>0.0</td>\n",
       "      <td>0.0</td>\n",
       "    </tr>\n",
       "    <tr>\n",
       "      <th>7803</th>\n",
       "      <td>CCOCCn1c(N2CCCN(C)CC2)nc2ccccc21</td>\n",
       "      <td>BBB+</td>\n",
       "      <td>D</td>\n",
       "      <td>5.564458</td>\n",
       "      <td>5.564458</td>\n",
       "      <td>0.733727</td>\n",
       "      <td>0.733727</td>\n",
       "      <td>0.793110</td>\n",
       "      <td>17.090909</td>\n",
       "      <td>302.422</td>\n",
       "      <td>...</td>\n",
       "      <td>0.0</td>\n",
       "      <td>0.0</td>\n",
       "      <td>0.0</td>\n",
       "      <td>0.0</td>\n",
       "      <td>0.0</td>\n",
       "      <td>0.0</td>\n",
       "      <td>0.0</td>\n",
       "      <td>0.0</td>\n",
       "      <td>1.0</td>\n",
       "      <td>0.0</td>\n",
       "    </tr>\n",
       "    <tr>\n",
       "      <th>7804</th>\n",
       "      <td>CN1CCC(=C2c3ccccc3CC(=O)c3sccc32)CC1</td>\n",
       "      <td>BBB+</td>\n",
       "      <td>D</td>\n",
       "      <td>12.589347</td>\n",
       "      <td>12.589347</td>\n",
       "      <td>0.264794</td>\n",
       "      <td>0.264794</td>\n",
       "      <td>0.732528</td>\n",
       "      <td>18.863636</td>\n",
       "      <td>309.434</td>\n",
       "      <td>...</td>\n",
       "      <td>0.0</td>\n",
       "      <td>0.0</td>\n",
       "      <td>0.0</td>\n",
       "      <td>0.0</td>\n",
       "      <td>0.0</td>\n",
       "      <td>0.0</td>\n",
       "      <td>0.0</td>\n",
       "      <td>1.0</td>\n",
       "      <td>0.0</td>\n",
       "      <td>0.0</td>\n",
       "    </tr>\n",
       "    <tr>\n",
       "      <th>7805</th>\n",
       "      <td>Cc1[nH]c(=O)c(C#N)cc1-c1ccncc1</td>\n",
       "      <td>BBB-</td>\n",
       "      <td>D</td>\n",
       "      <td>11.364205</td>\n",
       "      <td>11.364205</td>\n",
       "      <td>0.122604</td>\n",
       "      <td>-0.349254</td>\n",
       "      <td>0.778670</td>\n",
       "      <td>9.750000</td>\n",
       "      <td>211.224</td>\n",
       "      <td>...</td>\n",
       "      <td>0.0</td>\n",
       "      <td>0.0</td>\n",
       "      <td>0.0</td>\n",
       "      <td>0.0</td>\n",
       "      <td>0.0</td>\n",
       "      <td>0.0</td>\n",
       "      <td>0.0</td>\n",
       "      <td>0.0</td>\n",
       "      <td>0.0</td>\n",
       "      <td>0.0</td>\n",
       "    </tr>\n",
       "    <tr>\n",
       "      <th>7806</th>\n",
       "      <td>Nc1cc(-c2ccncc2)c[nH]c1=O</td>\n",
       "      <td>BBB-</td>\n",
       "      <td>D</td>\n",
       "      <td>11.009622</td>\n",
       "      <td>11.009622</td>\n",
       "      <td>0.221585</td>\n",
       "      <td>-0.261291</td>\n",
       "      <td>0.699644</td>\n",
       "      <td>10.000000</td>\n",
       "      <td>187.202</td>\n",
       "      <td>...</td>\n",
       "      <td>0.0</td>\n",
       "      <td>0.0</td>\n",
       "      <td>0.0</td>\n",
       "      <td>0.0</td>\n",
       "      <td>0.0</td>\n",
       "      <td>0.0</td>\n",
       "      <td>0.0</td>\n",
       "      <td>0.0</td>\n",
       "      <td>0.0</td>\n",
       "      <td>0.0</td>\n",
       "    </tr>\n",
       "  </tbody>\n",
       "</table>\n",
       "<p>7807 rows × 213 columns</p>\n",
       "</div>"
      ],
      "text/plain": [
       "                                                 SMILES BBB+/BBB- group  \\\n",
       "0      O=C(O)c1cc(N=Nc2ccc(S(=O)(=O)Nc3ccccn3)cc2)ccc1O      BBB-     A   \n",
       "1     COC1(NC(=O)C(C(=O)O)c2ccc(O)cc2)C(=O)N2C(C(=O)...      BBB-     A   \n",
       "2                                Oc1c(I)cc(Cl)c2cccnc12      BBB-     A   \n",
       "3                            CCNC(=NCCSCc1ncccc1Br)NC#N      BBB-     A   \n",
       "4     CN1CC[C@]23c4c5ccc(OC6O[C@H](C(=O)O)[C@@H](O)[...      BBB-     A   \n",
       "...                                                 ...       ...   ...   \n",
       "7802                    c1ccc(CN(CC2=NCCN2)c2ccccc2)cc1      BBB-     D   \n",
       "7803                   CCOCCn1c(N2CCCN(C)CC2)nc2ccccc21      BBB+     D   \n",
       "7804               CN1CCC(=C2c3ccccc3CC(=O)c3sccc32)CC1      BBB+     D   \n",
       "7805                     Cc1[nH]c(=O)c(C#N)cc1-c1ccncc1      BBB-     D   \n",
       "7806                          Nc1cc(-c2ccncc2)c[nH]c1=O      BBB-     D   \n",
       "\n",
       "      MaxAbsEStateIndex  MaxEStateIndex  MinAbsEStateIndex  MinEStateIndex  \\\n",
       "0             12.341010       12.341010           0.023055       -3.794932   \n",
       "1             13.190522       13.190522           0.042537       -2.144257   \n",
       "2              9.654043        9.654043           0.195000        0.195000   \n",
       "3              8.544584        8.544584           0.532052        0.532052   \n",
       "4             11.445328       11.445328           0.165306       -1.798901   \n",
       "...                 ...             ...                ...             ...   \n",
       "7802           4.506501        4.506501           0.832250        0.832250   \n",
       "7803           5.564458        5.564458           0.733727        0.733727   \n",
       "7804          12.589347       12.589347           0.264794        0.264794   \n",
       "7805          11.364205       11.364205           0.122604       -0.349254   \n",
       "7806          11.009622       11.009622           0.221585       -0.261291   \n",
       "\n",
       "           qed        SPS    MolWt  ...  fr_sulfide  fr_sulfonamd  fr_sulfone  \\\n",
       "0     0.540588  11.428571  398.400  ...         0.0           1.0         0.0   \n",
       "1     0.133795  22.000000  520.480  ...         1.0           0.0         0.0   \n",
       "2     0.758308  10.615385  305.502  ...         0.0           0.0         0.0   \n",
       "3     0.272365  10.894737  342.266  ...         1.0           0.0         0.0   \n",
       "4     0.346256  45.303030  461.467  ...         0.0           0.0         0.0   \n",
       "...        ...        ...      ...  ...         ...           ...         ...   \n",
       "7802  0.899820  13.700000  265.360  ...         0.0           0.0         0.0   \n",
       "7803  0.793110  17.090909  302.422  ...         0.0           0.0         0.0   \n",
       "7804  0.732528  18.863636  309.434  ...         0.0           0.0         0.0   \n",
       "7805  0.778670   9.750000  211.224  ...         0.0           0.0         0.0   \n",
       "7806  0.699644  10.000000  187.202  ...         0.0           0.0         0.0   \n",
       "\n",
       "      fr_term_acetylene  fr_tetrazole  fr_thiazole  fr_thiocyan  fr_thiophene  \\\n",
       "0                   0.0           0.0          0.0          0.0           0.0   \n",
       "1                   0.0           1.0          0.0          0.0           0.0   \n",
       "2                   0.0           0.0          0.0          0.0           0.0   \n",
       "3                   0.0           0.0          0.0          0.0           0.0   \n",
       "4                   0.0           0.0          0.0          0.0           0.0   \n",
       "...                 ...           ...          ...          ...           ...   \n",
       "7802                0.0           0.0          0.0          0.0           0.0   \n",
       "7803                0.0           0.0          0.0          0.0           0.0   \n",
       "7804                0.0           0.0          0.0          0.0           1.0   \n",
       "7805                0.0           0.0          0.0          0.0           0.0   \n",
       "7806                0.0           0.0          0.0          0.0           0.0   \n",
       "\n",
       "      fr_unbrch_alkane  fr_urea  \n",
       "0                  0.0      0.0  \n",
       "1                  0.0      0.0  \n",
       "2                  0.0      0.0  \n",
       "3                  2.0      0.0  \n",
       "4                  0.0      0.0  \n",
       "...                ...      ...  \n",
       "7802               0.0      0.0  \n",
       "7803               1.0      0.0  \n",
       "7804               0.0      0.0  \n",
       "7805               0.0      0.0  \n",
       "7806               0.0      0.0  \n",
       "\n",
       "[7807 rows x 213 columns]"
      ]
     },
     "execution_count": 83,
     "metadata": {},
     "output_type": "execute_result"
    }
   ],
   "source": [
    "df"
   ]
  },
  {
   "cell_type": "code",
   "execution_count": 84,
   "metadata": {},
   "outputs": [],
   "source": [
    "y = df[\"BBB+/BBB-\"]"
   ]
  },
  {
   "cell_type": "code",
   "execution_count": 85,
   "metadata": {},
   "outputs": [
    {
     "data": {
      "text/plain": [
       "0       BBB-\n",
       "1       BBB-\n",
       "2       BBB-\n",
       "3       BBB-\n",
       "4       BBB-\n",
       "        ... \n",
       "7802    BBB-\n",
       "7803    BBB+\n",
       "7804    BBB+\n",
       "7805    BBB-\n",
       "7806    BBB-\n",
       "Name: BBB+/BBB-, Length: 7807, dtype: object"
      ]
     },
     "execution_count": 85,
     "metadata": {},
     "output_type": "execute_result"
    }
   ],
   "source": [
    "y"
   ]
  },
  {
   "cell_type": "code",
   "execution_count": 86,
   "metadata": {},
   "outputs": [],
   "source": [
    "X_train, X_test, y_train, y_test = train_test_split(X, y, test_size=0.2, random_state=42)"
   ]
  },
  {
   "cell_type": "code",
   "execution_count": 87,
   "metadata": {},
   "outputs": [],
   "source": [
    "pipe = Pipeline([\n",
    "    ('svc', SVC())\n",
    "])"
   ]
  },
  {
   "cell_type": "code",
   "execution_count": 88,
   "metadata": {},
   "outputs": [],
   "source": [
    "param_grid = {\n",
    "    'svc__C': [10, 100, 1000, 10000],\n",
    "    'svc__gamma': [1, 0.1, 0.01, 0.001],\n",
    "    'svc__kernel': ['rbf', \"poly\"]\n",
    "}"
   ]
  },
  {
   "cell_type": "code",
   "execution_count": 89,
   "metadata": {},
   "outputs": [],
   "source": [
    "grid_search = GridSearchCV(estimator=pipe, param_grid=param_grid, cv=5, scoring='accuracy', verbose=2)"
   ]
  },
  {
   "cell_type": "code",
   "execution_count": 90,
   "metadata": {},
   "outputs": [
    {
     "name": "stdout",
     "output_type": "stream",
     "text": [
      "Fitting 5 folds for each of 32 candidates, totalling 160 fits\n",
      "[CV] END ...........svc__C=10, svc__gamma=1, svc__kernel=rbf; total time=   1.4s\n",
      "[CV] END ...........svc__C=10, svc__gamma=1, svc__kernel=rbf; total time=   1.2s\n",
      "[CV] END ...........svc__C=10, svc__gamma=1, svc__kernel=rbf; total time=   1.2s\n",
      "[CV] END ...........svc__C=10, svc__gamma=1, svc__kernel=rbf; total time=   1.3s\n",
      "[CV] END ...........svc__C=10, svc__gamma=1, svc__kernel=rbf; total time=   1.3s\n",
      "[CV] END ..........svc__C=10, svc__gamma=1, svc__kernel=poly; total time=   4.0s\n",
      "[CV] END ..........svc__C=10, svc__gamma=1, svc__kernel=poly; total time=   2.5s\n",
      "[CV] END ..........svc__C=10, svc__gamma=1, svc__kernel=poly; total time=   1.9s\n",
      "[CV] END ..........svc__C=10, svc__gamma=1, svc__kernel=poly; total time=   1.9s\n",
      "[CV] END ..........svc__C=10, svc__gamma=1, svc__kernel=poly; total time=   2.0s\n",
      "[CV] END .........svc__C=10, svc__gamma=0.1, svc__kernel=rbf; total time=   0.5s\n",
      "[CV] END .........svc__C=10, svc__gamma=0.1, svc__kernel=rbf; total time=   0.5s\n",
      "[CV] END .........svc__C=10, svc__gamma=0.1, svc__kernel=rbf; total time=   0.5s\n",
      "[CV] END .........svc__C=10, svc__gamma=0.1, svc__kernel=rbf; total time=   0.5s\n",
      "[CV] END .........svc__C=10, svc__gamma=0.1, svc__kernel=rbf; total time=   0.5s\n",
      "[CV] END ........svc__C=10, svc__gamma=0.1, svc__kernel=poly; total time=   0.3s\n",
      "[CV] END ........svc__C=10, svc__gamma=0.1, svc__kernel=poly; total time=   0.3s\n",
      "[CV] END ........svc__C=10, svc__gamma=0.1, svc__kernel=poly; total time=   0.3s\n",
      "[CV] END ........svc__C=10, svc__gamma=0.1, svc__kernel=poly; total time=   0.3s\n",
      "[CV] END ........svc__C=10, svc__gamma=0.1, svc__kernel=poly; total time=   0.3s\n",
      "[CV] END ........svc__C=10, svc__gamma=0.01, svc__kernel=rbf; total time=   0.6s\n",
      "[CV] END ........svc__C=10, svc__gamma=0.01, svc__kernel=rbf; total time=   0.5s\n",
      "[CV] END ........svc__C=10, svc__gamma=0.01, svc__kernel=rbf; total time=   0.5s\n",
      "[CV] END ........svc__C=10, svc__gamma=0.01, svc__kernel=rbf; total time=   0.5s\n",
      "[CV] END ........svc__C=10, svc__gamma=0.01, svc__kernel=rbf; total time=   0.6s\n",
      "[CV] END .......svc__C=10, svc__gamma=0.01, svc__kernel=poly; total time=   0.6s\n",
      "[CV] END .......svc__C=10, svc__gamma=0.01, svc__kernel=poly; total time=   0.6s\n",
      "[CV] END .......svc__C=10, svc__gamma=0.01, svc__kernel=poly; total time=   0.6s\n",
      "[CV] END .......svc__C=10, svc__gamma=0.01, svc__kernel=poly; total time=   0.6s\n",
      "[CV] END .......svc__C=10, svc__gamma=0.01, svc__kernel=poly; total time=   0.6s\n",
      "[CV] END .......svc__C=10, svc__gamma=0.001, svc__kernel=rbf; total time=   0.7s\n",
      "[CV] END .......svc__C=10, svc__gamma=0.001, svc__kernel=rbf; total time=   0.7s\n",
      "[CV] END .......svc__C=10, svc__gamma=0.001, svc__kernel=rbf; total time=   0.7s\n",
      "[CV] END .......svc__C=10, svc__gamma=0.001, svc__kernel=rbf; total time=   0.7s\n",
      "[CV] END .......svc__C=10, svc__gamma=0.001, svc__kernel=rbf; total time=   0.7s\n",
      "[CV] END ......svc__C=10, svc__gamma=0.001, svc__kernel=poly; total time=   0.6s\n",
      "[CV] END ......svc__C=10, svc__gamma=0.001, svc__kernel=poly; total time=   0.6s\n",
      "[CV] END ......svc__C=10, svc__gamma=0.001, svc__kernel=poly; total time=   0.6s\n",
      "[CV] END ......svc__C=10, svc__gamma=0.001, svc__kernel=poly; total time=   0.6s\n",
      "[CV] END ......svc__C=10, svc__gamma=0.001, svc__kernel=poly; total time=   0.5s\n",
      "[CV] END ..........svc__C=100, svc__gamma=1, svc__kernel=rbf; total time=   0.7s\n",
      "[CV] END ..........svc__C=100, svc__gamma=1, svc__kernel=rbf; total time=   0.6s\n",
      "[CV] END ..........svc__C=100, svc__gamma=1, svc__kernel=rbf; total time=   0.7s\n",
      "[CV] END ..........svc__C=100, svc__gamma=1, svc__kernel=rbf; total time=   0.7s\n",
      "[CV] END ..........svc__C=100, svc__gamma=1, svc__kernel=rbf; total time=   0.7s\n",
      "[CV] END .........svc__C=100, svc__gamma=1, svc__kernel=poly; total time=   2.9s\n",
      "[CV] END .........svc__C=100, svc__gamma=1, svc__kernel=poly; total time=   2.8s\n",
      "[CV] END .........svc__C=100, svc__gamma=1, svc__kernel=poly; total time=   3.0s\n",
      "[CV] END .........svc__C=100, svc__gamma=1, svc__kernel=poly; total time=   3.3s\n",
      "[CV] END .........svc__C=100, svc__gamma=1, svc__kernel=poly; total time=   3.3s\n",
      "[CV] END ........svc__C=100, svc__gamma=0.1, svc__kernel=rbf; total time=   0.7s\n",
      "[CV] END ........svc__C=100, svc__gamma=0.1, svc__kernel=rbf; total time=   0.7s\n",
      "[CV] END ........svc__C=100, svc__gamma=0.1, svc__kernel=rbf; total time=   0.7s\n",
      "[CV] END ........svc__C=100, svc__gamma=0.1, svc__kernel=rbf; total time=   0.7s\n",
      "[CV] END ........svc__C=100, svc__gamma=0.1, svc__kernel=rbf; total time=   0.7s\n",
      "[CV] END .......svc__C=100, svc__gamma=0.1, svc__kernel=poly; total time=   0.4s\n",
      "[CV] END .......svc__C=100, svc__gamma=0.1, svc__kernel=poly; total time=   0.4s\n",
      "[CV] END .......svc__C=100, svc__gamma=0.1, svc__kernel=poly; total time=   0.4s\n",
      "[CV] END .......svc__C=100, svc__gamma=0.1, svc__kernel=poly; total time=   0.4s\n",
      "[CV] END .......svc__C=100, svc__gamma=0.1, svc__kernel=poly; total time=   0.4s\n",
      "[CV] END .......svc__C=100, svc__gamma=0.01, svc__kernel=rbf; total time=   0.5s\n",
      "[CV] END .......svc__C=100, svc__gamma=0.01, svc__kernel=rbf; total time=   0.5s\n",
      "[CV] END .......svc__C=100, svc__gamma=0.01, svc__kernel=rbf; total time=   0.5s\n",
      "[CV] END .......svc__C=100, svc__gamma=0.01, svc__kernel=rbf; total time=   0.5s\n",
      "[CV] END .......svc__C=100, svc__gamma=0.01, svc__kernel=rbf; total time=   0.5s\n",
      "[CV] END ......svc__C=100, svc__gamma=0.01, svc__kernel=poly; total time=   0.5s\n",
      "[CV] END ......svc__C=100, svc__gamma=0.01, svc__kernel=poly; total time=   0.5s\n",
      "[CV] END ......svc__C=100, svc__gamma=0.01, svc__kernel=poly; total time=   0.5s\n",
      "[CV] END ......svc__C=100, svc__gamma=0.01, svc__kernel=poly; total time=   0.5s\n",
      "[CV] END ......svc__C=100, svc__gamma=0.01, svc__kernel=poly; total time=   0.5s\n",
      "[CV] END ......svc__C=100, svc__gamma=0.001, svc__kernel=rbf; total time=   0.5s\n",
      "[CV] END ......svc__C=100, svc__gamma=0.001, svc__kernel=rbf; total time=   0.5s\n",
      "[CV] END ......svc__C=100, svc__gamma=0.001, svc__kernel=rbf; total time=   0.6s\n",
      "[CV] END ......svc__C=100, svc__gamma=0.001, svc__kernel=rbf; total time=   0.6s\n",
      "[CV] END ......svc__C=100, svc__gamma=0.001, svc__kernel=rbf; total time=   0.6s\n",
      "[CV] END .....svc__C=100, svc__gamma=0.001, svc__kernel=poly; total time=   0.6s\n",
      "[CV] END .....svc__C=100, svc__gamma=0.001, svc__kernel=poly; total time=   0.6s\n",
      "[CV] END .....svc__C=100, svc__gamma=0.001, svc__kernel=poly; total time=   0.6s\n",
      "[CV] END .....svc__C=100, svc__gamma=0.001, svc__kernel=poly; total time=   0.6s\n",
      "[CV] END .....svc__C=100, svc__gamma=0.001, svc__kernel=poly; total time=   0.5s\n",
      "[CV] END .........svc__C=1000, svc__gamma=1, svc__kernel=rbf; total time=   0.7s\n",
      "[CV] END .........svc__C=1000, svc__gamma=1, svc__kernel=rbf; total time=   0.7s\n",
      "[CV] END .........svc__C=1000, svc__gamma=1, svc__kernel=rbf; total time=   0.7s\n",
      "[CV] END .........svc__C=1000, svc__gamma=1, svc__kernel=rbf; total time=   0.7s\n",
      "[CV] END .........svc__C=1000, svc__gamma=1, svc__kernel=rbf; total time=   0.7s\n",
      "[CV] END ........svc__C=1000, svc__gamma=1, svc__kernel=poly; total time=   3.3s\n",
      "[CV] END ........svc__C=1000, svc__gamma=1, svc__kernel=poly; total time=   2.7s\n",
      "[CV] END ........svc__C=1000, svc__gamma=1, svc__kernel=poly; total time=   3.8s\n",
      "[CV] END ........svc__C=1000, svc__gamma=1, svc__kernel=poly; total time=   3.0s\n",
      "[CV] END ........svc__C=1000, svc__gamma=1, svc__kernel=poly; total time=   3.7s\n",
      "[CV] END .......svc__C=1000, svc__gamma=0.1, svc__kernel=rbf; total time=   1.6s\n",
      "[CV] END .......svc__C=1000, svc__gamma=0.1, svc__kernel=rbf; total time=   1.5s\n",
      "[CV] END .......svc__C=1000, svc__gamma=0.1, svc__kernel=rbf; total time=   1.6s\n",
      "[CV] END .......svc__C=1000, svc__gamma=0.1, svc__kernel=rbf; total time=   1.6s\n",
      "[CV] END .......svc__C=1000, svc__gamma=0.1, svc__kernel=rbf; total time=   1.6s\n",
      "[CV] END ......svc__C=1000, svc__gamma=0.1, svc__kernel=poly; total time=   0.7s\n",
      "[CV] END ......svc__C=1000, svc__gamma=0.1, svc__kernel=poly; total time=   0.7s\n",
      "[CV] END ......svc__C=1000, svc__gamma=0.1, svc__kernel=poly; total time=   0.7s\n",
      "[CV] END ......svc__C=1000, svc__gamma=0.1, svc__kernel=poly; total time=   0.7s\n",
      "[CV] END ......svc__C=1000, svc__gamma=0.1, svc__kernel=poly; total time=   0.7s\n",
      "[CV] END ......svc__C=1000, svc__gamma=0.01, svc__kernel=rbf; total time=   0.8s\n",
      "[CV] END ......svc__C=1000, svc__gamma=0.01, svc__kernel=rbf; total time=   0.8s\n",
      "[CV] END ......svc__C=1000, svc__gamma=0.01, svc__kernel=rbf; total time=   0.8s\n",
      "[CV] END ......svc__C=1000, svc__gamma=0.01, svc__kernel=rbf; total time=   0.8s\n",
      "[CV] END ......svc__C=1000, svc__gamma=0.01, svc__kernel=rbf; total time=   0.8s\n",
      "[CV] END .....svc__C=1000, svc__gamma=0.01, svc__kernel=poly; total time=   0.4s\n",
      "[CV] END .....svc__C=1000, svc__gamma=0.01, svc__kernel=poly; total time=   0.4s\n",
      "[CV] END .....svc__C=1000, svc__gamma=0.01, svc__kernel=poly; total time=   0.4s\n",
      "[CV] END .....svc__C=1000, svc__gamma=0.01, svc__kernel=poly; total time=   0.4s\n",
      "[CV] END .....svc__C=1000, svc__gamma=0.01, svc__kernel=poly; total time=   0.4s\n",
      "[CV] END .....svc__C=1000, svc__gamma=0.001, svc__kernel=rbf; total time=   0.6s\n",
      "[CV] END .....svc__C=1000, svc__gamma=0.001, svc__kernel=rbf; total time=   0.6s\n",
      "[CV] END .....svc__C=1000, svc__gamma=0.001, svc__kernel=rbf; total time=   0.6s\n",
      "[CV] END .....svc__C=1000, svc__gamma=0.001, svc__kernel=rbf; total time=   0.6s\n",
      "[CV] END .....svc__C=1000, svc__gamma=0.001, svc__kernel=rbf; total time=   0.6s\n",
      "[CV] END ....svc__C=1000, svc__gamma=0.001, svc__kernel=poly; total time=   0.6s\n",
      "[CV] END ....svc__C=1000, svc__gamma=0.001, svc__kernel=poly; total time=   0.6s\n",
      "[CV] END ....svc__C=1000, svc__gamma=0.001, svc__kernel=poly; total time=   0.6s\n",
      "[CV] END ....svc__C=1000, svc__gamma=0.001, svc__kernel=poly; total time=   0.6s\n",
      "[CV] END ....svc__C=1000, svc__gamma=0.001, svc__kernel=poly; total time=   0.6s\n",
      "[CV] END ........svc__C=10000, svc__gamma=1, svc__kernel=rbf; total time=   0.6s\n",
      "[CV] END ........svc__C=10000, svc__gamma=1, svc__kernel=rbf; total time=   0.7s\n",
      "[CV] END ........svc__C=10000, svc__gamma=1, svc__kernel=rbf; total time=   0.7s\n",
      "[CV] END ........svc__C=10000, svc__gamma=1, svc__kernel=rbf; total time=   0.7s\n",
      "[CV] END ........svc__C=10000, svc__gamma=1, svc__kernel=rbf; total time=   0.7s\n",
      "[CV] END .......svc__C=10000, svc__gamma=1, svc__kernel=poly; total time=   3.4s\n",
      "[CV] END .......svc__C=10000, svc__gamma=1, svc__kernel=poly; total time=   3.0s\n",
      "[CV] END .......svc__C=10000, svc__gamma=1, svc__kernel=poly; total time=   4.4s\n",
      "[CV] END .......svc__C=10000, svc__gamma=1, svc__kernel=poly; total time=   4.6s\n",
      "[CV] END .......svc__C=10000, svc__gamma=1, svc__kernel=poly; total time=   5.9s\n",
      "[CV] END ......svc__C=10000, svc__gamma=0.1, svc__kernel=rbf; total time=   7.2s\n",
      "[CV] END ......svc__C=10000, svc__gamma=0.1, svc__kernel=rbf; total time=   7.0s\n",
      "[CV] END ......svc__C=10000, svc__gamma=0.1, svc__kernel=rbf; total time=   6.6s\n",
      "[CV] END ......svc__C=10000, svc__gamma=0.1, svc__kernel=rbf; total time=   7.4s\n",
      "[CV] END ......svc__C=10000, svc__gamma=0.1, svc__kernel=rbf; total time=   8.0s\n",
      "[CV] END .....svc__C=10000, svc__gamma=0.1, svc__kernel=poly; total time=   2.9s\n",
      "[CV] END .....svc__C=10000, svc__gamma=0.1, svc__kernel=poly; total time=   2.7s\n",
      "[CV] END .....svc__C=10000, svc__gamma=0.1, svc__kernel=poly; total time=   2.8s\n",
      "[CV] END .....svc__C=10000, svc__gamma=0.1, svc__kernel=poly; total time=   2.8s\n",
      "[CV] END .....svc__C=10000, svc__gamma=0.1, svc__kernel=poly; total time=   3.0s\n",
      "[CV] END .....svc__C=10000, svc__gamma=0.01, svc__kernel=rbf; total time=   2.9s\n",
      "[CV] END .....svc__C=10000, svc__gamma=0.01, svc__kernel=rbf; total time=   2.2s\n",
      "[CV] END .....svc__C=10000, svc__gamma=0.01, svc__kernel=rbf; total time=   2.2s\n",
      "[CV] END .....svc__C=10000, svc__gamma=0.01, svc__kernel=rbf; total time=   2.5s\n",
      "[CV] END .....svc__C=10000, svc__gamma=0.01, svc__kernel=rbf; total time=   2.3s\n",
      "[CV] END ....svc__C=10000, svc__gamma=0.01, svc__kernel=poly; total time=   0.3s\n",
      "[CV] END ....svc__C=10000, svc__gamma=0.01, svc__kernel=poly; total time=   0.3s\n",
      "[CV] END ....svc__C=10000, svc__gamma=0.01, svc__kernel=poly; total time=   0.3s\n",
      "[CV] END ....svc__C=10000, svc__gamma=0.01, svc__kernel=poly; total time=   0.3s\n",
      "[CV] END ....svc__C=10000, svc__gamma=0.01, svc__kernel=poly; total time=   0.3s\n",
      "[CV] END ....svc__C=10000, svc__gamma=0.001, svc__kernel=rbf; total time=   0.8s\n",
      "[CV] END ....svc__C=10000, svc__gamma=0.001, svc__kernel=rbf; total time=   0.8s\n",
      "[CV] END ....svc__C=10000, svc__gamma=0.001, svc__kernel=rbf; total time=   0.8s\n",
      "[CV] END ....svc__C=10000, svc__gamma=0.001, svc__kernel=rbf; total time=   0.8s\n",
      "[CV] END ....svc__C=10000, svc__gamma=0.001, svc__kernel=rbf; total time=   0.8s\n",
      "[CV] END ...svc__C=10000, svc__gamma=0.001, svc__kernel=poly; total time=   0.6s\n",
      "[CV] END ...svc__C=10000, svc__gamma=0.001, svc__kernel=poly; total time=   0.6s\n",
      "[CV] END ...svc__C=10000, svc__gamma=0.001, svc__kernel=poly; total time=   0.6s\n",
      "[CV] END ...svc__C=10000, svc__gamma=0.001, svc__kernel=poly; total time=   0.6s\n",
      "[CV] END ...svc__C=10000, svc__gamma=0.001, svc__kernel=poly; total time=   0.6s\n"
     ]
    },
    {
     "data": {
      "text/html": [
       "<style>#sk-container-id-1 {color: black;}#sk-container-id-1 pre{padding: 0;}#sk-container-id-1 div.sk-toggleable {background-color: white;}#sk-container-id-1 label.sk-toggleable__label {cursor: pointer;display: block;width: 100%;margin-bottom: 0;padding: 0.3em;box-sizing: border-box;text-align: center;}#sk-container-id-1 label.sk-toggleable__label-arrow:before {content: \"▸\";float: left;margin-right: 0.25em;color: #696969;}#sk-container-id-1 label.sk-toggleable__label-arrow:hover:before {color: black;}#sk-container-id-1 div.sk-estimator:hover label.sk-toggleable__label-arrow:before {color: black;}#sk-container-id-1 div.sk-toggleable__content {max-height: 0;max-width: 0;overflow: hidden;text-align: left;background-color: #f0f8ff;}#sk-container-id-1 div.sk-toggleable__content pre {margin: 0.2em;color: black;border-radius: 0.25em;background-color: #f0f8ff;}#sk-container-id-1 input.sk-toggleable__control:checked~div.sk-toggleable__content {max-height: 200px;max-width: 100%;overflow: auto;}#sk-container-id-1 input.sk-toggleable__control:checked~label.sk-toggleable__label-arrow:before {content: \"▾\";}#sk-container-id-1 div.sk-estimator input.sk-toggleable__control:checked~label.sk-toggleable__label {background-color: #d4ebff;}#sk-container-id-1 div.sk-label input.sk-toggleable__control:checked~label.sk-toggleable__label {background-color: #d4ebff;}#sk-container-id-1 input.sk-hidden--visually {border: 0;clip: rect(1px 1px 1px 1px);clip: rect(1px, 1px, 1px, 1px);height: 1px;margin: -1px;overflow: hidden;padding: 0;position: absolute;width: 1px;}#sk-container-id-1 div.sk-estimator {font-family: monospace;background-color: #f0f8ff;border: 1px dotted black;border-radius: 0.25em;box-sizing: border-box;margin-bottom: 0.5em;}#sk-container-id-1 div.sk-estimator:hover {background-color: #d4ebff;}#sk-container-id-1 div.sk-parallel-item::after {content: \"\";width: 100%;border-bottom: 1px solid gray;flex-grow: 1;}#sk-container-id-1 div.sk-label:hover label.sk-toggleable__label {background-color: #d4ebff;}#sk-container-id-1 div.sk-serial::before {content: \"\";position: absolute;border-left: 1px solid gray;box-sizing: border-box;top: 0;bottom: 0;left: 50%;z-index: 0;}#sk-container-id-1 div.sk-serial {display: flex;flex-direction: column;align-items: center;background-color: white;padding-right: 0.2em;padding-left: 0.2em;position: relative;}#sk-container-id-1 div.sk-item {position: relative;z-index: 1;}#sk-container-id-1 div.sk-parallel {display: flex;align-items: stretch;justify-content: center;background-color: white;position: relative;}#sk-container-id-1 div.sk-item::before, #sk-container-id-1 div.sk-parallel-item::before {content: \"\";position: absolute;border-left: 1px solid gray;box-sizing: border-box;top: 0;bottom: 0;left: 50%;z-index: -1;}#sk-container-id-1 div.sk-parallel-item {display: flex;flex-direction: column;z-index: 1;position: relative;background-color: white;}#sk-container-id-1 div.sk-parallel-item:first-child::after {align-self: flex-end;width: 50%;}#sk-container-id-1 div.sk-parallel-item:last-child::after {align-self: flex-start;width: 50%;}#sk-container-id-1 div.sk-parallel-item:only-child::after {width: 0;}#sk-container-id-1 div.sk-dashed-wrapped {border: 1px dashed gray;margin: 0 0.4em 0.5em 0.4em;box-sizing: border-box;padding-bottom: 0.4em;background-color: white;}#sk-container-id-1 div.sk-label label {font-family: monospace;font-weight: bold;display: inline-block;line-height: 1.2em;}#sk-container-id-1 div.sk-label-container {text-align: center;}#sk-container-id-1 div.sk-container {/* jupyter's `normalize.less` sets `[hidden] { display: none; }` but bootstrap.min.css set `[hidden] { display: none !important; }` so we also need the `!important` here to be able to override the default hidden behavior on the sphinx rendered scikit-learn.org. See: https://github.com/scikit-learn/scikit-learn/issues/21755 */display: inline-block !important;position: relative;}#sk-container-id-1 div.sk-text-repr-fallback {display: none;}</style><div id=\"sk-container-id-1\" class=\"sk-top-container\"><div class=\"sk-text-repr-fallback\"><pre>GridSearchCV(cv=5, estimator=Pipeline(steps=[(&#x27;svc&#x27;, SVC())]),\n",
       "             param_grid={&#x27;svc__C&#x27;: [10, 100, 1000, 10000],\n",
       "                         &#x27;svc__gamma&#x27;: [1, 0.1, 0.01, 0.001],\n",
       "                         &#x27;svc__kernel&#x27;: [&#x27;rbf&#x27;, &#x27;poly&#x27;]},\n",
       "             scoring=&#x27;accuracy&#x27;, verbose=2)</pre><b>In a Jupyter environment, please rerun this cell to show the HTML representation or trust the notebook. <br />On GitHub, the HTML representation is unable to render, please try loading this page with nbviewer.org.</b></div><div class=\"sk-container\" hidden><div class=\"sk-item sk-dashed-wrapped\"><div class=\"sk-label-container\"><div class=\"sk-label sk-toggleable\"><input class=\"sk-toggleable__control sk-hidden--visually\" id=\"sk-estimator-id-1\" type=\"checkbox\" ><label for=\"sk-estimator-id-1\" class=\"sk-toggleable__label sk-toggleable__label-arrow\">GridSearchCV</label><div class=\"sk-toggleable__content\"><pre>GridSearchCV(cv=5, estimator=Pipeline(steps=[(&#x27;svc&#x27;, SVC())]),\n",
       "             param_grid={&#x27;svc__C&#x27;: [10, 100, 1000, 10000],\n",
       "                         &#x27;svc__gamma&#x27;: [1, 0.1, 0.01, 0.001],\n",
       "                         &#x27;svc__kernel&#x27;: [&#x27;rbf&#x27;, &#x27;poly&#x27;]},\n",
       "             scoring=&#x27;accuracy&#x27;, verbose=2)</pre></div></div></div><div class=\"sk-parallel\"><div class=\"sk-parallel-item\"><div class=\"sk-item\"><div class=\"sk-label-container\"><div class=\"sk-label sk-toggleable\"><input class=\"sk-toggleable__control sk-hidden--visually\" id=\"sk-estimator-id-2\" type=\"checkbox\" ><label for=\"sk-estimator-id-2\" class=\"sk-toggleable__label sk-toggleable__label-arrow\">estimator: Pipeline</label><div class=\"sk-toggleable__content\"><pre>Pipeline(steps=[(&#x27;svc&#x27;, SVC())])</pre></div></div></div><div class=\"sk-serial\"><div class=\"sk-item\"><div class=\"sk-serial\"><div class=\"sk-item\"><div class=\"sk-estimator sk-toggleable\"><input class=\"sk-toggleable__control sk-hidden--visually\" id=\"sk-estimator-id-3\" type=\"checkbox\" ><label for=\"sk-estimator-id-3\" class=\"sk-toggleable__label sk-toggleable__label-arrow\">SVC</label><div class=\"sk-toggleable__content\"><pre>SVC()</pre></div></div></div></div></div></div></div></div></div></div></div></div>"
      ],
      "text/plain": [
       "GridSearchCV(cv=5, estimator=Pipeline(steps=[('svc', SVC())]),\n",
       "             param_grid={'svc__C': [10, 100, 1000, 10000],\n",
       "                         'svc__gamma': [1, 0.1, 0.01, 0.001],\n",
       "                         'svc__kernel': ['rbf', 'poly']},\n",
       "             scoring='accuracy', verbose=2)"
      ]
     },
     "execution_count": 90,
     "metadata": {},
     "output_type": "execute_result"
    }
   ],
   "source": [
    "grid_search.fit(X_train, y_train)"
   ]
  },
  {
   "cell_type": "code",
   "execution_count": 91,
   "metadata": {},
   "outputs": [
    {
     "data": {
      "text/plain": [
       "{'svc__C': 10, 'svc__gamma': 1, 'svc__kernel': 'rbf'}"
      ]
     },
     "execution_count": 91,
     "metadata": {},
     "output_type": "execute_result"
    }
   ],
   "source": [
    "grid_search.best_params_"
   ]
  },
  {
   "cell_type": "code",
   "execution_count": 92,
   "metadata": {},
   "outputs": [
    {
     "data": {
      "text/plain": [
       "0.8739791833466773"
      ]
     },
     "execution_count": 92,
     "metadata": {},
     "output_type": "execute_result"
    }
   ],
   "source": [
    "grid_search.best_score_"
   ]
  },
  {
   "cell_type": "markdown",
   "metadata": {},
   "source": [
    "# Entrenamiento con los datos de prueba\n",
    "<hr>"
   ]
  },
  {
   "cell_type": "code",
   "execution_count": 101,
   "metadata": {},
   "outputs": [],
   "source": [
    "pipe = Pipeline([\n",
    "    ('svc', SVC(C=10, gamma=1, kernel=\"rbf\", probability=True))\n",
    "])"
   ]
  },
  {
   "cell_type": "code",
   "execution_count": 102,
   "metadata": {},
   "outputs": [
    {
     "data": {
      "text/html": [
       "<style>#sk-container-id-3 {color: black;}#sk-container-id-3 pre{padding: 0;}#sk-container-id-3 div.sk-toggleable {background-color: white;}#sk-container-id-3 label.sk-toggleable__label {cursor: pointer;display: block;width: 100%;margin-bottom: 0;padding: 0.3em;box-sizing: border-box;text-align: center;}#sk-container-id-3 label.sk-toggleable__label-arrow:before {content: \"▸\";float: left;margin-right: 0.25em;color: #696969;}#sk-container-id-3 label.sk-toggleable__label-arrow:hover:before {color: black;}#sk-container-id-3 div.sk-estimator:hover label.sk-toggleable__label-arrow:before {color: black;}#sk-container-id-3 div.sk-toggleable__content {max-height: 0;max-width: 0;overflow: hidden;text-align: left;background-color: #f0f8ff;}#sk-container-id-3 div.sk-toggleable__content pre {margin: 0.2em;color: black;border-radius: 0.25em;background-color: #f0f8ff;}#sk-container-id-3 input.sk-toggleable__control:checked~div.sk-toggleable__content {max-height: 200px;max-width: 100%;overflow: auto;}#sk-container-id-3 input.sk-toggleable__control:checked~label.sk-toggleable__label-arrow:before {content: \"▾\";}#sk-container-id-3 div.sk-estimator input.sk-toggleable__control:checked~label.sk-toggleable__label {background-color: #d4ebff;}#sk-container-id-3 div.sk-label input.sk-toggleable__control:checked~label.sk-toggleable__label {background-color: #d4ebff;}#sk-container-id-3 input.sk-hidden--visually {border: 0;clip: rect(1px 1px 1px 1px);clip: rect(1px, 1px, 1px, 1px);height: 1px;margin: -1px;overflow: hidden;padding: 0;position: absolute;width: 1px;}#sk-container-id-3 div.sk-estimator {font-family: monospace;background-color: #f0f8ff;border: 1px dotted black;border-radius: 0.25em;box-sizing: border-box;margin-bottom: 0.5em;}#sk-container-id-3 div.sk-estimator:hover {background-color: #d4ebff;}#sk-container-id-3 div.sk-parallel-item::after {content: \"\";width: 100%;border-bottom: 1px solid gray;flex-grow: 1;}#sk-container-id-3 div.sk-label:hover label.sk-toggleable__label {background-color: #d4ebff;}#sk-container-id-3 div.sk-serial::before {content: \"\";position: absolute;border-left: 1px solid gray;box-sizing: border-box;top: 0;bottom: 0;left: 50%;z-index: 0;}#sk-container-id-3 div.sk-serial {display: flex;flex-direction: column;align-items: center;background-color: white;padding-right: 0.2em;padding-left: 0.2em;position: relative;}#sk-container-id-3 div.sk-item {position: relative;z-index: 1;}#sk-container-id-3 div.sk-parallel {display: flex;align-items: stretch;justify-content: center;background-color: white;position: relative;}#sk-container-id-3 div.sk-item::before, #sk-container-id-3 div.sk-parallel-item::before {content: \"\";position: absolute;border-left: 1px solid gray;box-sizing: border-box;top: 0;bottom: 0;left: 50%;z-index: -1;}#sk-container-id-3 div.sk-parallel-item {display: flex;flex-direction: column;z-index: 1;position: relative;background-color: white;}#sk-container-id-3 div.sk-parallel-item:first-child::after {align-self: flex-end;width: 50%;}#sk-container-id-3 div.sk-parallel-item:last-child::after {align-self: flex-start;width: 50%;}#sk-container-id-3 div.sk-parallel-item:only-child::after {width: 0;}#sk-container-id-3 div.sk-dashed-wrapped {border: 1px dashed gray;margin: 0 0.4em 0.5em 0.4em;box-sizing: border-box;padding-bottom: 0.4em;background-color: white;}#sk-container-id-3 div.sk-label label {font-family: monospace;font-weight: bold;display: inline-block;line-height: 1.2em;}#sk-container-id-3 div.sk-label-container {text-align: center;}#sk-container-id-3 div.sk-container {/* jupyter's `normalize.less` sets `[hidden] { display: none; }` but bootstrap.min.css set `[hidden] { display: none !important; }` so we also need the `!important` here to be able to override the default hidden behavior on the sphinx rendered scikit-learn.org. See: https://github.com/scikit-learn/scikit-learn/issues/21755 */display: inline-block !important;position: relative;}#sk-container-id-3 div.sk-text-repr-fallback {display: none;}</style><div id=\"sk-container-id-3\" class=\"sk-top-container\"><div class=\"sk-text-repr-fallback\"><pre>Pipeline(steps=[(&#x27;svc&#x27;, SVC(C=10, gamma=1, probability=True))])</pre><b>In a Jupyter environment, please rerun this cell to show the HTML representation or trust the notebook. <br />On GitHub, the HTML representation is unable to render, please try loading this page with nbviewer.org.</b></div><div class=\"sk-container\" hidden><div class=\"sk-item sk-dashed-wrapped\"><div class=\"sk-label-container\"><div class=\"sk-label sk-toggleable\"><input class=\"sk-toggleable__control sk-hidden--visually\" id=\"sk-estimator-id-6\" type=\"checkbox\" ><label for=\"sk-estimator-id-6\" class=\"sk-toggleable__label sk-toggleable__label-arrow\">Pipeline</label><div class=\"sk-toggleable__content\"><pre>Pipeline(steps=[(&#x27;svc&#x27;, SVC(C=10, gamma=1, probability=True))])</pre></div></div></div><div class=\"sk-serial\"><div class=\"sk-item\"><div class=\"sk-estimator sk-toggleable\"><input class=\"sk-toggleable__control sk-hidden--visually\" id=\"sk-estimator-id-7\" type=\"checkbox\" ><label for=\"sk-estimator-id-7\" class=\"sk-toggleable__label sk-toggleable__label-arrow\">SVC</label><div class=\"sk-toggleable__content\"><pre>SVC(C=10, gamma=1, probability=True)</pre></div></div></div></div></div></div></div>"
      ],
      "text/plain": [
       "Pipeline(steps=[('svc', SVC(C=10, gamma=1, probability=True))])"
      ]
     },
     "execution_count": 102,
     "metadata": {},
     "output_type": "execute_result"
    }
   ],
   "source": [
    "pipe.fit(X_train, y_train)"
   ]
  },
  {
   "cell_type": "markdown",
   "metadata": {},
   "source": [
    "# Resultados del modelo\n",
    "<hr>"
   ]
  },
  {
   "cell_type": "code",
   "execution_count": 103,
   "metadata": {},
   "outputs": [],
   "source": [
    "y_predicha = pipe.predict(X_test)"
   ]
  },
  {
   "cell_type": "code",
   "execution_count": 104,
   "metadata": {},
   "outputs": [
    {
     "name": "stdout",
     "output_type": "stream",
     "text": [
      "Accuracy 0.88\n",
      "Recall 0.88\n",
      "precision 0.88\n",
      "f1 0.88\n"
     ]
    }
   ],
   "source": [
    "#Calcular estadísticos\n",
    "accuracy = accuracy_score(y_test, y_predicha)\n",
    "recall = recall_score(y_test, y_predicha, average='weighted')\n",
    "precision = precision_score(y_test, y_predicha, average='weighted')\n",
    "f1 = f1_score(y_test, y_predicha, average='weighted')\n",
    "print(\"Accuracy\", round(accuracy, 3))\n",
    "print(\"Recall\", round(recall, 3))\n",
    "print(\"precision\", round(precision,3))\n",
    "print(\"f1\", round(f1,3))"
   ]
  },
  {
   "cell_type": "code",
   "execution_count": 105,
   "metadata": {},
   "outputs": [],
   "source": [
    "y_entrenamiento = pipe.predict(X_train)"
   ]
  },
  {
   "cell_type": "code",
   "execution_count": 106,
   "metadata": {},
   "outputs": [
    {
     "name": "stdout",
     "output_type": "stream",
     "text": [
      "Accuracy 0.954\n",
      "Recall 0.954\n",
      "precision 1.0\n",
      "f1 0.954\n"
     ]
    }
   ],
   "source": [
    "accuracy = accuracy_score(y_train, y_entrenamiento)\n",
    "recall = recall_score(y_train, y_entrenamiento, average='weighted')\n",
    "precision = precision_score(y_entrenamiento, y_entrenamiento, average='weighted')\n",
    "f1 = f1_score(y_train, y_entrenamiento, average='weighted')\n",
    "print(\"Accuracy\", round(accuracy, 3))\n",
    "print(\"Recall\", round(recall, 3))\n",
    "print(\"precision\", round(precision,3))\n",
    "print(\"f1\", round(f1,3))"
   ]
  },
  {
   "cell_type": "markdown",
   "metadata": {},
   "source": [
    "# Confusion Matrix\n",
    "<hr>"
   ]
  },
  {
   "cell_type": "code",
   "execution_count": 107,
   "metadata": {},
   "outputs": [],
   "source": [
    "from sklearn.metrics import confusion_matrix\n",
    "import seaborn as sns"
   ]
  },
  {
   "cell_type": "code",
   "execution_count": 108,
   "metadata": {},
   "outputs": [],
   "source": [
    "mat = confusion_matrix(y_predicha, y_test)"
   ]
  },
  {
   "cell_type": "code",
   "execution_count": 109,
   "metadata": {},
   "outputs": [
    {
     "data": {
      "text/plain": [
       "<Axes: >"
      ]
     },
     "execution_count": 109,
     "metadata": {},
     "output_type": "execute_result"
    },
    {
     "data": {
      "image/png": "[encoded data removed]",
      "text/plain": [
       "<Figure size 640x480 with 1 Axes>"
      ]
     },
     "metadata": {},
     "output_type": "display_data"
    }
   ],
   "source": [
    "sns.heatmap(mat.T, square=True, annot=True, fmt='d', cbar = False, xticklabels=df[\"BBB+/BBB-\"].value_counts().index, yticklabels=df[\"BBB+/BBB-\"].value_counts().index)"
   ]
  },
  {
   "cell_type": "markdown",
   "metadata": {},
   "source": [
    "# Guardar modelo\n",
    "<hr>"
   ]
  },
  {
   "cell_type": "code",
   "execution_count": 110,
   "metadata": {},
   "outputs": [],
   "source": [
    "import joblib"
   ]
  },
  {
   "cell_type": "code",
   "execution_count": 113,
   "metadata": {},
   "outputs": [
    {
     "data": {
      "text/plain": [
       "['../GuardadoDeModelos MD/modelo_SVM.joblib']"
      ]
     },
     "execution_count": 113,
     "metadata": {},
     "output_type": "execute_result"
    }
   ],
   "source": [
    "joblib.dump(pipe, '../GuardadoDeModelos MD/modelo_SVM.joblib')"
   ]
  },
  {
   "cell_type": "code",
   "execution_count": null,
   "metadata": {},
   "outputs": [],
   "source": []
  }
 ],
 "metadata": {
  "kernelspec": {
   "display_name": "Python 3",
   "language": "python",
   "name": "python3"
  },
  "language_info": {
   "codemirror_mode": {
    "name": "ipython",
    "version": 3
   },
   "file_extension": ".py",
   "mimetype": "text/x-python",
   "name": "python",
   "nbconvert_exporter": "python",
   "pygments_lexer": "ipython3",
   "version": "3.11.0"
  }
 },
 "nbformat": 4,
 "nbformat_minor": 2
}
