{
 "cells": [
  {
   "cell_type": "markdown",
   "metadata": {},
   "source": [
    "# Entrenamiento con datos de entrenamiento\n",
    "<hr>"
   ]
  },
  {
   "cell_type": "code",
   "execution_count": 1,
   "metadata": {},
   "outputs": [],
   "source": [
    "from sklearn.model_selection import train_test_split, GridSearchCV\n",
    "from sklearn.pipeline import Pipeline\n",
    "from sklearn.decomposition import PCA\n",
    "from sklearn.ensemble import RandomForestClassifier\n",
    "from sklearn.metrics import accuracy_score\n",
    "from sklearn.metrics import recall_score\n",
    "from sklearn.metrics import precision_score\n",
    "from sklearn.metrics import f1_score\n",
    "import pandas as pd"
   ]
  },
  {
   "cell_type": "code",
   "execution_count": 2,
   "metadata": {},
   "outputs": [],
   "source": [
    "X = pd.read_csv(\"../Reduccion_descriptores/Prueba_hipotesis/STAT3_h.csv\")"
   ]
  },
  {
   "cell_type": "code",
   "execution_count": 3,
   "metadata": {},
   "outputs": [
    {
     "data": {
      "text/plain": [
       "(830, 75)"
      ]
     },
     "execution_count": 3,
     "metadata": {},
     "output_type": "execute_result"
    }
   ],
   "source": [
    "X.shape"
   ]
  },
  {
   "cell_type": "code",
   "execution_count": 4,
   "metadata": {},
   "outputs": [
    {
     "name": "stderr",
     "output_type": "stream",
     "text": [
      "C:\\Users\\Eliud\\AppData\\Local\\Temp\\ipykernel_17288\\419284443.py:1: FutureWarning: DataFrame.fillna with 'method' is deprecated and will raise in a future version. Use obj.ffill() or obj.bfill() instead.\n",
      "  X.fillna(method='ffill', inplace=True)\n"
     ]
    }
   ],
   "source": [
    "X.fillna(method='ffill', inplace=True)\n"
   ]
  },
  {
   "cell_type": "code",
   "execution_count": 5,
   "metadata": {},
   "outputs": [],
   "source": [
    "df = pd.read_csv(\"../Reduccion_descriptores/Datos_con_1000/STAT3_1000.csv\")"
   ]
  },
  {
   "cell_type": "code",
   "execution_count": 6,
   "metadata": {},
   "outputs": [],
   "source": [
    "y = df[\"Inhibidor\"]"
   ]
  },
  {
   "cell_type": "code",
   "execution_count": 7,
   "metadata": {},
   "outputs": [],
   "source": [
    "X_train, X_test, y_train, y_test = train_test_split(X, y, test_size=0.2, random_state=42)"
   ]
  },
  {
   "cell_type": "code",
   "execution_count": 8,
   "metadata": {},
   "outputs": [],
   "source": [
    "pipe = Pipeline([\n",
    "    ('RF', RandomForestClassifier())\n",
    "])"
   ]
  },
  {
   "cell_type": "code",
   "execution_count": 9,
   "metadata": {},
   "outputs": [],
   "source": [
    "param_grid = {\n",
    "    'RF__max_depth': [10, 20, 30, 40, 50],\n",
    "    'RF__bootstrap': [True, False],\n",
    "    'RF__max_features': ['sqrt', \"log2\"]\n",
    "}"
   ]
  },
  {
   "cell_type": "code",
   "execution_count": 10,
   "metadata": {},
   "outputs": [],
   "source": [
    "grid_search = GridSearchCV(estimator=pipe, param_grid=param_grid, cv=5, scoring='accuracy', verbose=2)"
   ]
  },
  {
   "cell_type": "code",
   "execution_count": 11,
   "metadata": {},
   "outputs": [
    {
     "name": "stdout",
     "output_type": "stream",
     "text": [
      "Fitting 5 folds for each of 20 candidates, totalling 100 fits\n",
      "[CV] END RF__bootstrap=True, RF__max_depth=10, RF__max_features=sqrt; total time=   0.4s\n",
      "[CV] END RF__bootstrap=True, RF__max_depth=10, RF__max_features=sqrt; total time=   0.3s\n",
      "[CV] END RF__bootstrap=True, RF__max_depth=10, RF__max_features=sqrt; total time=   0.3s\n",
      "[CV] END RF__bootstrap=True, RF__max_depth=10, RF__max_features=sqrt; total time=   0.3s\n",
      "[CV] END RF__bootstrap=True, RF__max_depth=10, RF__max_features=sqrt; total time=   0.4s\n",
      "[CV] END RF__bootstrap=True, RF__max_depth=10, RF__max_features=log2; total time=   0.2s\n",
      "[CV] END RF__bootstrap=True, RF__max_depth=10, RF__max_features=log2; total time=   0.3s\n",
      "[CV] END RF__bootstrap=True, RF__max_depth=10, RF__max_features=log2; total time=   0.2s\n",
      "[CV] END RF__bootstrap=True, RF__max_depth=10, RF__max_features=log2; total time=   0.2s\n",
      "[CV] END RF__bootstrap=True, RF__max_depth=10, RF__max_features=log2; total time=   0.3s\n",
      "[CV] END RF__bootstrap=True, RF__max_depth=20, RF__max_features=sqrt; total time=   0.3s\n",
      "[CV] END RF__bootstrap=True, RF__max_depth=20, RF__max_features=sqrt; total time=   0.3s\n",
      "[CV] END RF__bootstrap=True, RF__max_depth=20, RF__max_features=sqrt; total time=   0.3s\n",
      "[CV] END RF__bootstrap=True, RF__max_depth=20, RF__max_features=sqrt; total time=   0.3s\n",
      "[CV] END RF__bootstrap=True, RF__max_depth=20, RF__max_features=sqrt; total time=   0.3s\n",
      "[CV] END RF__bootstrap=True, RF__max_depth=20, RF__max_features=log2; total time=   0.3s\n",
      "[CV] END RF__bootstrap=True, RF__max_depth=20, RF__max_features=log2; total time=   0.2s\n",
      "[CV] END RF__bootstrap=True, RF__max_depth=20, RF__max_features=log2; total time=   0.3s\n",
      "[CV] END RF__bootstrap=True, RF__max_depth=20, RF__max_features=log2; total time=   0.2s\n",
      "[CV] END RF__bootstrap=True, RF__max_depth=20, RF__max_features=log2; total time=   0.2s\n",
      "[CV] END RF__bootstrap=True, RF__max_depth=30, RF__max_features=sqrt; total time=   0.3s\n",
      "[CV] END RF__bootstrap=True, RF__max_depth=30, RF__max_features=sqrt; total time=   0.3s\n",
      "[CV] END RF__bootstrap=True, RF__max_depth=30, RF__max_features=sqrt; total time=   0.3s\n",
      "[CV] END RF__bootstrap=True, RF__max_depth=30, RF__max_features=sqrt; total time=   0.3s\n",
      "[CV] END RF__bootstrap=True, RF__max_depth=30, RF__max_features=sqrt; total time=   0.3s\n",
      "[CV] END RF__bootstrap=True, RF__max_depth=30, RF__max_features=log2; total time=   0.2s\n",
      "[CV] END RF__bootstrap=True, RF__max_depth=30, RF__max_features=log2; total time=   0.3s\n",
      "[CV] END RF__bootstrap=True, RF__max_depth=30, RF__max_features=log2; total time=   0.2s\n",
      "[CV] END RF__bootstrap=True, RF__max_depth=30, RF__max_features=log2; total time=   0.2s\n",
      "[CV] END RF__bootstrap=True, RF__max_depth=30, RF__max_features=log2; total time=   0.3s\n",
      "[CV] END RF__bootstrap=True, RF__max_depth=40, RF__max_features=sqrt; total time=   0.3s\n",
      "[CV] END RF__bootstrap=True, RF__max_depth=40, RF__max_features=sqrt; total time=   0.4s\n",
      "[CV] END RF__bootstrap=True, RF__max_depth=40, RF__max_features=sqrt; total time=   0.3s\n",
      "[CV] END RF__bootstrap=True, RF__max_depth=40, RF__max_features=sqrt; total time=   0.3s\n",
      "[CV] END RF__bootstrap=True, RF__max_depth=40, RF__max_features=sqrt; total time=   0.3s\n",
      "[CV] END RF__bootstrap=True, RF__max_depth=40, RF__max_features=log2; total time=   0.2s\n",
      "[CV] END RF__bootstrap=True, RF__max_depth=40, RF__max_features=log2; total time=   0.3s\n",
      "[CV] END RF__bootstrap=True, RF__max_depth=40, RF__max_features=log2; total time=   0.2s\n",
      "[CV] END RF__bootstrap=True, RF__max_depth=40, RF__max_features=log2; total time=   0.3s\n",
      "[CV] END RF__bootstrap=True, RF__max_depth=40, RF__max_features=log2; total time=   0.2s\n",
      "[CV] END RF__bootstrap=True, RF__max_depth=50, RF__max_features=sqrt; total time=   0.3s\n",
      "[CV] END RF__bootstrap=True, RF__max_depth=50, RF__max_features=sqrt; total time=   0.3s\n",
      "[CV] END RF__bootstrap=True, RF__max_depth=50, RF__max_features=sqrt; total time=   0.3s\n",
      "[CV] END RF__bootstrap=True, RF__max_depth=50, RF__max_features=sqrt; total time=   0.3s\n",
      "[CV] END RF__bootstrap=True, RF__max_depth=50, RF__max_features=sqrt; total time=   0.3s\n",
      "[CV] END RF__bootstrap=True, RF__max_depth=50, RF__max_features=log2; total time=   0.3s\n",
      "[CV] END RF__bootstrap=True, RF__max_depth=50, RF__max_features=log2; total time=   0.2s\n",
      "[CV] END RF__bootstrap=True, RF__max_depth=50, RF__max_features=log2; total time=   0.2s\n",
      "[CV] END RF__bootstrap=True, RF__max_depth=50, RF__max_features=log2; total time=   0.3s\n",
      "[CV] END RF__bootstrap=True, RF__max_depth=50, RF__max_features=log2; total time=   0.2s\n",
      "[CV] END RF__bootstrap=False, RF__max_depth=10, RF__max_features=sqrt; total time=   0.3s\n",
      "[CV] END RF__bootstrap=False, RF__max_depth=10, RF__max_features=sqrt; total time=   0.4s\n",
      "[CV] END RF__bootstrap=False, RF__max_depth=10, RF__max_features=sqrt; total time=   0.3s\n",
      "[CV] END RF__bootstrap=False, RF__max_depth=10, RF__max_features=sqrt; total time=   0.4s\n",
      "[CV] END RF__bootstrap=False, RF__max_depth=10, RF__max_features=sqrt; total time=   0.4s\n",
      "[CV] END RF__bootstrap=False, RF__max_depth=10, RF__max_features=log2; total time=   0.3s\n",
      "[CV] END RF__bootstrap=False, RF__max_depth=10, RF__max_features=log2; total time=   0.3s\n",
      "[CV] END RF__bootstrap=False, RF__max_depth=10, RF__max_features=log2; total time=   0.3s\n",
      "[CV] END RF__bootstrap=False, RF__max_depth=10, RF__max_features=log2; total time=   0.3s\n",
      "[CV] END RF__bootstrap=False, RF__max_depth=10, RF__max_features=log2; total time=   0.3s\n",
      "[CV] END RF__bootstrap=False, RF__max_depth=20, RF__max_features=sqrt; total time=   0.4s\n",
      "[CV] END RF__bootstrap=False, RF__max_depth=20, RF__max_features=sqrt; total time=   0.5s\n",
      "[CV] END RF__bootstrap=False, RF__max_depth=20, RF__max_features=sqrt; total time=   0.4s\n",
      "[CV] END RF__bootstrap=False, RF__max_depth=20, RF__max_features=sqrt; total time=   0.4s\n",
      "[CV] END RF__bootstrap=False, RF__max_depth=20, RF__max_features=sqrt; total time=   0.4s\n",
      "[CV] END RF__bootstrap=False, RF__max_depth=20, RF__max_features=log2; total time=   0.3s\n",
      "[CV] END RF__bootstrap=False, RF__max_depth=20, RF__max_features=log2; total time=   0.3s\n",
      "[CV] END RF__bootstrap=False, RF__max_depth=20, RF__max_features=log2; total time=   0.3s\n",
      "[CV] END RF__bootstrap=False, RF__max_depth=20, RF__max_features=log2; total time=   0.3s\n",
      "[CV] END RF__bootstrap=False, RF__max_depth=20, RF__max_features=log2; total time=   0.3s\n",
      "[CV] END RF__bootstrap=False, RF__max_depth=30, RF__max_features=sqrt; total time=   0.4s\n",
      "[CV] END RF__bootstrap=False, RF__max_depth=30, RF__max_features=sqrt; total time=   0.4s\n",
      "[CV] END RF__bootstrap=False, RF__max_depth=30, RF__max_features=sqrt; total time=   0.4s\n",
      "[CV] END RF__bootstrap=False, RF__max_depth=30, RF__max_features=sqrt; total time=   0.4s\n",
      "[CV] END RF__bootstrap=False, RF__max_depth=30, RF__max_features=sqrt; total time=   0.4s\n",
      "[CV] END RF__bootstrap=False, RF__max_depth=30, RF__max_features=log2; total time=   0.3s\n",
      "[CV] END RF__bootstrap=False, RF__max_depth=30, RF__max_features=log2; total time=   0.3s\n",
      "[CV] END RF__bootstrap=False, RF__max_depth=30, RF__max_features=log2; total time=   0.3s\n",
      "[CV] END RF__bootstrap=False, RF__max_depth=30, RF__max_features=log2; total time=   0.3s\n",
      "[CV] END RF__bootstrap=False, RF__max_depth=30, RF__max_features=log2; total time=   0.3s\n",
      "[CV] END RF__bootstrap=False, RF__max_depth=40, RF__max_features=sqrt; total time=   0.4s\n",
      "[CV] END RF__bootstrap=False, RF__max_depth=40, RF__max_features=sqrt; total time=   0.4s\n",
      "[CV] END RF__bootstrap=False, RF__max_depth=40, RF__max_features=sqrt; total time=   0.4s\n",
      "[CV] END RF__bootstrap=False, RF__max_depth=40, RF__max_features=sqrt; total time=   0.4s\n",
      "[CV] END RF__bootstrap=False, RF__max_depth=40, RF__max_features=sqrt; total time=   0.4s\n",
      "[CV] END RF__bootstrap=False, RF__max_depth=40, RF__max_features=log2; total time=   0.3s\n",
      "[CV] END RF__bootstrap=False, RF__max_depth=40, RF__max_features=log2; total time=   0.3s\n",
      "[CV] END RF__bootstrap=False, RF__max_depth=40, RF__max_features=log2; total time=   0.3s\n",
      "[CV] END RF__bootstrap=False, RF__max_depth=40, RF__max_features=log2; total time=   0.3s\n",
      "[CV] END RF__bootstrap=False, RF__max_depth=40, RF__max_features=log2; total time=   0.3s\n",
      "[CV] END RF__bootstrap=False, RF__max_depth=50, RF__max_features=sqrt; total time=   0.4s\n",
      "[CV] END RF__bootstrap=False, RF__max_depth=50, RF__max_features=sqrt; total time=   0.4s\n",
      "[CV] END RF__bootstrap=False, RF__max_depth=50, RF__max_features=sqrt; total time=   0.4s\n",
      "[CV] END RF__bootstrap=False, RF__max_depth=50, RF__max_features=sqrt; total time=   0.4s\n",
      "[CV] END RF__bootstrap=False, RF__max_depth=50, RF__max_features=sqrt; total time=   0.4s\n",
      "[CV] END RF__bootstrap=False, RF__max_depth=50, RF__max_features=log2; total time=   0.3s\n",
      "[CV] END RF__bootstrap=False, RF__max_depth=50, RF__max_features=log2; total time=   0.3s\n",
      "[CV] END RF__bootstrap=False, RF__max_depth=50, RF__max_features=log2; total time=   0.3s\n",
      "[CV] END RF__bootstrap=False, RF__max_depth=50, RF__max_features=log2; total time=   0.3s\n",
      "[CV] END RF__bootstrap=False, RF__max_depth=50, RF__max_features=log2; total time=   0.3s\n"
     ]
    },
    {
     "data": {
      "text/html": [
       "<style>#sk-container-id-1 {color: black;}#sk-container-id-1 pre{padding: 0;}#sk-container-id-1 div.sk-toggleable {background-color: white;}#sk-container-id-1 label.sk-toggleable__label {cursor: pointer;display: block;width: 100%;margin-bottom: 0;padding: 0.3em;box-sizing: border-box;text-align: center;}#sk-container-id-1 label.sk-toggleable__label-arrow:before {content: \"▸\";float: left;margin-right: 0.25em;color: #696969;}#sk-container-id-1 label.sk-toggleable__label-arrow:hover:before {color: black;}#sk-container-id-1 div.sk-estimator:hover label.sk-toggleable__label-arrow:before {color: black;}#sk-container-id-1 div.sk-toggleable__content {max-height: 0;max-width: 0;overflow: hidden;text-align: left;background-color: #f0f8ff;}#sk-container-id-1 div.sk-toggleable__content pre {margin: 0.2em;color: black;border-radius: 0.25em;background-color: #f0f8ff;}#sk-container-id-1 input.sk-toggleable__control:checked~div.sk-toggleable__content {max-height: 200px;max-width: 100%;overflow: auto;}#sk-container-id-1 input.sk-toggleable__control:checked~label.sk-toggleable__label-arrow:before {content: \"▾\";}#sk-container-id-1 div.sk-estimator input.sk-toggleable__control:checked~label.sk-toggleable__label {background-color: #d4ebff;}#sk-container-id-1 div.sk-label input.sk-toggleable__control:checked~label.sk-toggleable__label {background-color: #d4ebff;}#sk-container-id-1 input.sk-hidden--visually {border: 0;clip: rect(1px 1px 1px 1px);clip: rect(1px, 1px, 1px, 1px);height: 1px;margin: -1px;overflow: hidden;padding: 0;position: absolute;width: 1px;}#sk-container-id-1 div.sk-estimator {font-family: monospace;background-color: #f0f8ff;border: 1px dotted black;border-radius: 0.25em;box-sizing: border-box;margin-bottom: 0.5em;}#sk-container-id-1 div.sk-estimator:hover {background-color: #d4ebff;}#sk-container-id-1 div.sk-parallel-item::after {content: \"\";width: 100%;border-bottom: 1px solid gray;flex-grow: 1;}#sk-container-id-1 div.sk-label:hover label.sk-toggleable__label {background-color: #d4ebff;}#sk-container-id-1 div.sk-serial::before {content: \"\";position: absolute;border-left: 1px solid gray;box-sizing: border-box;top: 0;bottom: 0;left: 50%;z-index: 0;}#sk-container-id-1 div.sk-serial {display: flex;flex-direction: column;align-items: center;background-color: white;padding-right: 0.2em;padding-left: 0.2em;position: relative;}#sk-container-id-1 div.sk-item {position: relative;z-index: 1;}#sk-container-id-1 div.sk-parallel {display: flex;align-items: stretch;justify-content: center;background-color: white;position: relative;}#sk-container-id-1 div.sk-item::before, #sk-container-id-1 div.sk-parallel-item::before {content: \"\";position: absolute;border-left: 1px solid gray;box-sizing: border-box;top: 0;bottom: 0;left: 50%;z-index: -1;}#sk-container-id-1 div.sk-parallel-item {display: flex;flex-direction: column;z-index: 1;position: relative;background-color: white;}#sk-container-id-1 div.sk-parallel-item:first-child::after {align-self: flex-end;width: 50%;}#sk-container-id-1 div.sk-parallel-item:last-child::after {align-self: flex-start;width: 50%;}#sk-container-id-1 div.sk-parallel-item:only-child::after {width: 0;}#sk-container-id-1 div.sk-dashed-wrapped {border: 1px dashed gray;margin: 0 0.4em 0.5em 0.4em;box-sizing: border-box;padding-bottom: 0.4em;background-color: white;}#sk-container-id-1 div.sk-label label {font-family: monospace;font-weight: bold;display: inline-block;line-height: 1.2em;}#sk-container-id-1 div.sk-label-container {text-align: center;}#sk-container-id-1 div.sk-container {/* jupyter's `normalize.less` sets `[hidden] { display: none; }` but bootstrap.min.css set `[hidden] { display: none !important; }` so we also need the `!important` here to be able to override the default hidden behavior on the sphinx rendered scikit-learn.org. See: https://github.com/scikit-learn/scikit-learn/issues/21755 */display: inline-block !important;position: relative;}#sk-container-id-1 div.sk-text-repr-fallback {display: none;}</style><div id=\"sk-container-id-1\" class=\"sk-top-container\"><div class=\"sk-text-repr-fallback\"><pre>GridSearchCV(cv=5, estimator=Pipeline(steps=[(&#x27;RF&#x27;, RandomForestClassifier())]),\n",
       "             param_grid={&#x27;RF__bootstrap&#x27;: [True, False],\n",
       "                         &#x27;RF__max_depth&#x27;: [10, 20, 30, 40, 50],\n",
       "                         &#x27;RF__max_features&#x27;: [&#x27;sqrt&#x27;, &#x27;log2&#x27;]},\n",
       "             scoring=&#x27;accuracy&#x27;, verbose=2)</pre><b>In a Jupyter environment, please rerun this cell to show the HTML representation or trust the notebook. <br />On GitHub, the HTML representation is unable to render, please try loading this page with nbviewer.org.</b></div><div class=\"sk-container\" hidden><div class=\"sk-item sk-dashed-wrapped\"><div class=\"sk-label-container\"><div class=\"sk-label sk-toggleable\"><input class=\"sk-toggleable__control sk-hidden--visually\" id=\"sk-estimator-id-1\" type=\"checkbox\" ><label for=\"sk-estimator-id-1\" class=\"sk-toggleable__label sk-toggleable__label-arrow\">GridSearchCV</label><div class=\"sk-toggleable__content\"><pre>GridSearchCV(cv=5, estimator=Pipeline(steps=[(&#x27;RF&#x27;, RandomForestClassifier())]),\n",
       "             param_grid={&#x27;RF__bootstrap&#x27;: [True, False],\n",
       "                         &#x27;RF__max_depth&#x27;: [10, 20, 30, 40, 50],\n",
       "                         &#x27;RF__max_features&#x27;: [&#x27;sqrt&#x27;, &#x27;log2&#x27;]},\n",
       "             scoring=&#x27;accuracy&#x27;, verbose=2)</pre></div></div></div><div class=\"sk-parallel\"><div class=\"sk-parallel-item\"><div class=\"sk-item\"><div class=\"sk-label-container\"><div class=\"sk-label sk-toggleable\"><input class=\"sk-toggleable__control sk-hidden--visually\" id=\"sk-estimator-id-2\" type=\"checkbox\" ><label for=\"sk-estimator-id-2\" class=\"sk-toggleable__label sk-toggleable__label-arrow\">estimator: Pipeline</label><div class=\"sk-toggleable__content\"><pre>Pipeline(steps=[(&#x27;RF&#x27;, RandomForestClassifier())])</pre></div></div></div><div class=\"sk-serial\"><div class=\"sk-item\"><div class=\"sk-serial\"><div class=\"sk-item\"><div class=\"sk-estimator sk-toggleable\"><input class=\"sk-toggleable__control sk-hidden--visually\" id=\"sk-estimator-id-3\" type=\"checkbox\" ><label for=\"sk-estimator-id-3\" class=\"sk-toggleable__label sk-toggleable__label-arrow\">RandomForestClassifier</label><div class=\"sk-toggleable__content\"><pre>RandomForestClassifier()</pre></div></div></div></div></div></div></div></div></div></div></div></div>"
      ],
      "text/plain": [
       "GridSearchCV(cv=5, estimator=Pipeline(steps=[('RF', RandomForestClassifier())]),\n",
       "             param_grid={'RF__bootstrap': [True, False],\n",
       "                         'RF__max_depth': [10, 20, 30, 40, 50],\n",
       "                         'RF__max_features': ['sqrt', 'log2']},\n",
       "             scoring='accuracy', verbose=2)"
      ]
     },
     "execution_count": 11,
     "metadata": {},
     "output_type": "execute_result"
    }
   ],
   "source": [
    "grid_search.fit(X_train, y_train)"
   ]
  },
  {
   "cell_type": "markdown",
   "metadata": {},
   "source": [
    "# Selección del mejor modelo\n",
    "<hr>"
   ]
  },
  {
   "cell_type": "code",
   "execution_count": 12,
   "metadata": {},
   "outputs": [],
   "source": [
    "best_model = grid_search.best_estimator_"
   ]
  },
  {
   "cell_type": "markdown",
   "metadata": {},
   "source": [
    "# Resultados del modelo\n",
    "<hr>"
   ]
  },
  {
   "cell_type": "code",
   "execution_count": 13,
   "metadata": {},
   "outputs": [],
   "source": [
    "y_predicha = best_model.predict(X_test)"
   ]
  },
  {
   "cell_type": "code",
   "execution_count": 14,
   "metadata": {},
   "outputs": [
    {
     "name": "stdout",
     "output_type": "stream",
     "text": [
      "Accuracy 0.861\n",
      "Recall 0.861\n",
      "precision 0.857\n",
      "f1 0.854\n"
     ]
    }
   ],
   "source": [
    "#Calcular estadísticos\n",
    "accuracy = accuracy_score(y_test, y_predicha)\n",
    "recall = recall_score(y_test, y_predicha, average='weighted')\n",
    "precision = precision_score(y_test, y_predicha, average='weighted')\n",
    "f1 = f1_score(y_test, y_predicha, average='weighted')\n",
    "print(\"Accuracy\", round(accuracy, 3))\n",
    "print(\"Recall\", round(recall, 3))\n",
    "print(\"precision\", round(precision,3))\n",
    "print(\"f1\", round(f1,3))"
   ]
  },
  {
   "cell_type": "code",
   "execution_count": 15,
   "metadata": {},
   "outputs": [],
   "source": [
    "y_entrenamiento = best_model.predict(X_train)"
   ]
  },
  {
   "cell_type": "code",
   "execution_count": 16,
   "metadata": {},
   "outputs": [
    {
     "name": "stdout",
     "output_type": "stream",
     "text": [
      "Accuracy 0.997\n",
      "Recall 0.997\n",
      "precision 1.0\n",
      "f1 0.997\n"
     ]
    }
   ],
   "source": [
    "accuracy = accuracy_score(y_train, y_entrenamiento)\n",
    "recall = recall_score(y_train, y_entrenamiento, average='weighted')\n",
    "precision = precision_score(y_entrenamiento, y_entrenamiento, average='weighted')\n",
    "f1 = f1_score(y_train, y_entrenamiento, average='weighted')\n",
    "print(\"Accuracy\", round(accuracy, 3))\n",
    "print(\"Recall\", round(recall, 3))\n",
    "print(\"precision\", round(precision,3))\n",
    "print(\"f1\", round(f1,3))"
   ]
  },
  {
   "cell_type": "markdown",
   "metadata": {},
   "source": [
    "# Confusion Matrix\n",
    "<hr>"
   ]
  },
  {
   "cell_type": "code",
   "execution_count": 17,
   "metadata": {},
   "outputs": [],
   "source": [
    "from sklearn.metrics import confusion_matrix\n",
    "import seaborn as sns"
   ]
  },
  {
   "cell_type": "code",
   "execution_count": 18,
   "metadata": {},
   "outputs": [],
   "source": [
    "mat = confusion_matrix(y_predicha, y_test)"
   ]
  },
  {
   "cell_type": "code",
   "execution_count": 19,
   "metadata": {},
   "outputs": [
    {
     "data": {
      "text/plain": [
       "<Axes: >"
      ]
     },
     "execution_count": 19,
     "metadata": {},
     "output_type": "execute_result"
    },
    {
     "data": {
      "image/png": "[encoded data removed]",
      "text/plain": [
       "<Figure size 640x480 with 1 Axes>"
      ]
     },
     "metadata": {},
     "output_type": "display_data"
    }
   ],
   "source": [
    "sns.heatmap(mat.T, square=True, annot=True, fmt='d', cbar = False, xticklabels=df[\"Inhibidor\"].value_counts().index, yticklabels=df[\"Inhibidor\"].value_counts().index)"
   ]
  },
  {
   "cell_type": "markdown",
   "metadata": {},
   "source": [
    "# Guardar modelo\n",
    "<hr>"
   ]
  },
  {
   "cell_type": "code",
   "execution_count": 20,
   "metadata": {},
   "outputs": [],
   "source": [
    "import joblib"
   ]
  },
  {
   "cell_type": "code",
   "execution_count": 21,
   "metadata": {},
   "outputs": [
    {
     "data": {
      "text/plain": [
       "['../GuardadoDeModelos/STAT3_MD/modelo_RF.joblib']"
      ]
     },
     "execution_count": 21,
     "metadata": {},
     "output_type": "execute_result"
    }
   ],
   "source": [
    "joblib.dump(pipe, '../GuardadoDeModelos/STAT3_MD/modelo_RF.joblib')"
   ]
  },
  {
   "cell_type": "code",
   "execution_count": null,
   "metadata": {},
   "outputs": [],
   "source": []
  }
 ],
 "metadata": {
  "kernelspec": {
   "display_name": "Python 3",
   "language": "python",
   "name": "python3"
  },
  "language_info": {
   "codemirror_mode": {
    "name": "ipython",
    "version": 3
   },
   "file_extension": ".py",
   "mimetype": "text/x-python",
   "name": "python",
   "nbconvert_exporter": "python",
   "pygments_lexer": "ipython3",
   "version": "3.11.0"
  }
 },
 "nbformat": 4,
 "nbformat_minor": 2
}
